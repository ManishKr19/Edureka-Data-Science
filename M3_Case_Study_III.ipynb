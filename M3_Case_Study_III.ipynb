{
  "nbformat": 4,
  "nbformat_minor": 0,
  "metadata": {
    "colab": {
      "name": "Case Study III.ipynb",
      "provenance": [],
      "authorship_tag": "ABX9TyNLykD2dqB2B8hGK8mISWJm",
      "include_colab_link": true
    },
    "kernelspec": {
      "name": "python3",
      "display_name": "Python 3"
    },
    "language_info": {
      "name": "python"
    }
  },
  "cells": [
    {
      "cell_type": "markdown",
      "metadata": {
        "id": "view-in-github",
        "colab_type": "text"
      },
      "source": [
        "<a href=\"https://colab.research.google.com/github/ManishKr19/Edureka-Data-Science/blob/main/M3_Case_Study_III.ipynb\" target=\"_parent\"><img src=\"https://colab.research.google.com/assets/colab-badge.svg\" alt=\"Open In Colab\"/></a>"
      ]
    },
    {
      "cell_type": "markdown",
      "metadata": {
        "id": "g8me73pgGG64"
      },
      "source": [
        "### **Case Study III**"
      ]
    },
    {
      "cell_type": "code",
      "metadata": {
        "id": "of6Gfx9UFyVv"
      },
      "source": [
        "import pandas as pd\n",
        "import numpy as np\n",
        "import matplotlib.pyplot as plt"
      ],
      "execution_count": 1,
      "outputs": []
    },
    {
      "cell_type": "code",
      "metadata": {
        "colab": {
          "base_uri": "https://localhost:8080/",
          "height": 206
        },
        "id": "eKj82wIsG9GR",
        "outputId": "9a0d8899-3587-48c2-83bc-8c99391bfe0b"
      },
      "source": [
        "customer = pd.read_csv(r\"/content/bank-data.csv\")\n",
        "customer.head()"
      ],
      "execution_count": 4,
      "outputs": [
        {
          "output_type": "execute_result",
          "data": {
            "text/html": [
              "<div>\n",
              "<style scoped>\n",
              "    .dataframe tbody tr th:only-of-type {\n",
              "        vertical-align: middle;\n",
              "    }\n",
              "\n",
              "    .dataframe tbody tr th {\n",
              "        vertical-align: top;\n",
              "    }\n",
              "\n",
              "    .dataframe thead th {\n",
              "        text-align: right;\n",
              "    }\n",
              "</style>\n",
              "<table border=\"1\" class=\"dataframe\">\n",
              "  <thead>\n",
              "    <tr style=\"text-align: right;\">\n",
              "      <th></th>\n",
              "      <th>age</th>\n",
              "      <th>job</th>\n",
              "      <th>marital</th>\n",
              "      <th>y</th>\n",
              "    </tr>\n",
              "  </thead>\n",
              "  <tbody>\n",
              "    <tr>\n",
              "      <th>0</th>\n",
              "      <td>20</td>\n",
              "      <td>student</td>\n",
              "      <td>single</td>\n",
              "      <td>yes</td>\n",
              "    </tr>\n",
              "    <tr>\n",
              "      <th>1</th>\n",
              "      <td>32</td>\n",
              "      <td>management</td>\n",
              "      <td>single</td>\n",
              "      <td>yes</td>\n",
              "    </tr>\n",
              "    <tr>\n",
              "      <th>2</th>\n",
              "      <td>49</td>\n",
              "      <td>technician</td>\n",
              "      <td>married</td>\n",
              "      <td>yes</td>\n",
              "    </tr>\n",
              "    <tr>\n",
              "      <th>3</th>\n",
              "      <td>32</td>\n",
              "      <td>blue-collar</td>\n",
              "      <td>married</td>\n",
              "      <td>yes</td>\n",
              "    </tr>\n",
              "    <tr>\n",
              "      <th>4</th>\n",
              "      <td>33</td>\n",
              "      <td>management</td>\n",
              "      <td>married</td>\n",
              "      <td>yes</td>\n",
              "    </tr>\n",
              "  </tbody>\n",
              "</table>\n",
              "</div>"
            ],
            "text/plain": [
              "   age          job  marital    y\n",
              "0   20      student   single  yes\n",
              "1   32   management   single  yes\n",
              "2   49   technician  married  yes\n",
              "3   32  blue-collar  married  yes\n",
              "4   33   management  married  yes"
            ]
          },
          "metadata": {},
          "execution_count": 4
        }
      ]
    },
    {
      "cell_type": "code",
      "metadata": {
        "colab": {
          "base_uri": "https://localhost:8080/",
          "height": 0
        },
        "id": "5K9qYJeaH4T0",
        "outputId": "03ea185e-31c0-45b1-9578-1c7a44e3f7b8"
      },
      "source": [
        "age_loan_eligible = {'min': min(df['age']), 'max': max(df['age'])}\n",
        "age_loan_eligible"
      ],
      "execution_count": 7,
      "outputs": [
        {
          "output_type": "execute_result",
          "data": {
            "text/plain": [
              "{'max': 80, 'min': 19}"
            ]
          },
          "metadata": {},
          "execution_count": 7
        }
      ]
    },
    {
      "cell_type": "code",
      "metadata": {
        "colab": {
          "base_uri": "https://localhost:8080/",
          "height": 0
        },
        "id": "7pK7qrNBH4f-",
        "outputId": "5041d483-4d51-429d-9d3e-547540a146b6"
      },
      "source": [
        "unique_job = set(df['job'].to_list())\n",
        "unique_job"
      ],
      "execution_count": 18,
      "outputs": [
        {
          "output_type": "execute_result",
          "data": {
            "text/plain": [
              "{'admin.',\n",
              " 'blue-collar',\n",
              " 'entrepreneur',\n",
              " 'housemaid',\n",
              " 'management',\n",
              " 'self-employed',\n",
              " 'services',\n",
              " 'student',\n",
              " 'technician'}"
            ]
          },
          "metadata": {},
          "execution_count": 18
        }
      ]
    },
    {
      "cell_type": "code",
      "metadata": {
        "colab": {
          "base_uri": "https://localhost:8080/",
          "height": 0
        },
        "id": "ngUuPGTQHC9-",
        "outputId": "68c81c79-6526-4793-c99d-0a3c4a1f8682"
      },
      "source": [
        "\n",
        "while True:\n",
        "  profession = input(\"Enter the profession: \\n\").lower()\n",
        "  if profession in unique_job:\n",
        "    print('Client is eligible')\n",
        "  elif profession == 'end':\n",
        "    break\n",
        "  else:\n",
        "    print('Client is not eligible')"
      ],
      "execution_count": 19,
      "outputs": [
        {
          "name": "stdout",
          "output_type": "stream",
          "text": [
            "Enter the profession: \n",
            "Farmer\n",
            "Client is not eligible\n",
            "Enter the profession: \n",
            "Manish\n",
            "Client is not eligible\n",
            "Enter the profession: \n",
            "Student\n",
            "Client is eligible\n",
            "Enter the profession: \n",
            "end\n"
          ]
        }
      ]
    },
    {
      "cell_type": "code",
      "metadata": {
        "id": "s-PVmAeSHwI3"
      },
      "source": [
        ""
      ],
      "execution_count": 19,
      "outputs": []
    }
  ]
}
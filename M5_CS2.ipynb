{
  "nbformat": 4,
  "nbformat_minor": 0,
  "metadata": {
    "kernelspec": {
      "display_name": "Python 3",
      "language": "python",
      "name": "python3"
    },
    "language_info": {
      "codemirror_mode": {
        "name": "ipython",
        "version": 3
      },
      "file_extension": ".py",
      "mimetype": "text/x-python",
      "name": "python",
      "nbconvert_exporter": "python",
      "pygments_lexer": "ipython3",
      "version": "3.6.5"
    },
    "colab": {
      "name": "M5_CS2.ipynb",
      "provenance": [],
      "include_colab_link": true
    }
  },
  "cells": [
    {
      "cell_type": "markdown",
      "metadata": {
        "id": "view-in-github",
        "colab_type": "text"
      },
      "source": [
        "<a href=\"https://colab.research.google.com/github/ManishKr19/Edureka-Data-Science/blob/main/M5_CS2.ipynb\" target=\"_parent\"><img src=\"https://colab.research.google.com/assets/colab-badge.svg\" alt=\"Open In Colab\"/></a>"
      ]
    },
    {
      "cell_type": "code",
      "metadata": {
        "colab": {
          "base_uri": "https://localhost:8080/",
          "height": 241
        },
        "id": "wZ5y5hZDTczf",
        "outputId": "75ce9d0e-b205-46fd-cb52-0a3562d4ba9c"
      },
      "source": [
        "import pandas as pd\n",
        "import numpy as np\n",
        "import matplotlib.pyplot as plt\n",
        "\n",
        "#  Read Salaries.csv as a dataframe called salary\n",
        "salary = pd.read_csv(r'/content/Salaries.csv')\n",
        "salary.head()"
      ],
      "execution_count": 2,
      "outputs": [
        {
          "output_type": "stream",
          "name": "stderr",
          "text": [
            "/usr/local/lib/python3.7/dist-packages/IPython/core/interactiveshell.py:2718: DtypeWarning: Columns (12) have mixed types.Specify dtype option on import or set low_memory=False.\n",
            "  interactivity=interactivity, compiler=compiler, result=result)\n"
          ]
        },
        {
          "output_type": "execute_result",
          "data": {
            "text/html": [
              "<div>\n",
              "<style scoped>\n",
              "    .dataframe tbody tr th:only-of-type {\n",
              "        vertical-align: middle;\n",
              "    }\n",
              "\n",
              "    .dataframe tbody tr th {\n",
              "        vertical-align: top;\n",
              "    }\n",
              "\n",
              "    .dataframe thead th {\n",
              "        text-align: right;\n",
              "    }\n",
              "</style>\n",
              "<table border=\"1\" class=\"dataframe\">\n",
              "  <thead>\n",
              "    <tr style=\"text-align: right;\">\n",
              "      <th></th>\n",
              "      <th>Id</th>\n",
              "      <th>EmployeeName</th>\n",
              "      <th>JobTitle</th>\n",
              "      <th>BasePay</th>\n",
              "      <th>OvertimePay</th>\n",
              "      <th>OtherPay</th>\n",
              "      <th>Benefits</th>\n",
              "      <th>TotalPay</th>\n",
              "      <th>TotalPayBenefits</th>\n",
              "      <th>Year</th>\n",
              "      <th>Notes</th>\n",
              "      <th>Agency</th>\n",
              "      <th>Status</th>\n",
              "    </tr>\n",
              "  </thead>\n",
              "  <tbody>\n",
              "    <tr>\n",
              "      <th>0</th>\n",
              "      <td>1</td>\n",
              "      <td>NATHANIEL FORD</td>\n",
              "      <td>GENERAL MANAGER-METROPOLITAN TRANSIT AUTHORITY</td>\n",
              "      <td>167411.18</td>\n",
              "      <td>0.00</td>\n",
              "      <td>400184.25</td>\n",
              "      <td>NaN</td>\n",
              "      <td>567595.43</td>\n",
              "      <td>567595.43</td>\n",
              "      <td>2011</td>\n",
              "      <td>NaN</td>\n",
              "      <td>San Francisco</td>\n",
              "      <td>NaN</td>\n",
              "    </tr>\n",
              "    <tr>\n",
              "      <th>1</th>\n",
              "      <td>2</td>\n",
              "      <td>GARY JIMENEZ</td>\n",
              "      <td>CAPTAIN III (POLICE DEPARTMENT)</td>\n",
              "      <td>155966.02</td>\n",
              "      <td>245131.88</td>\n",
              "      <td>137811.38</td>\n",
              "      <td>NaN</td>\n",
              "      <td>538909.28</td>\n",
              "      <td>538909.28</td>\n",
              "      <td>2011</td>\n",
              "      <td>NaN</td>\n",
              "      <td>San Francisco</td>\n",
              "      <td>NaN</td>\n",
              "    </tr>\n",
              "    <tr>\n",
              "      <th>2</th>\n",
              "      <td>3</td>\n",
              "      <td>ALBERT PARDINI</td>\n",
              "      <td>CAPTAIN III (POLICE DEPARTMENT)</td>\n",
              "      <td>212739.13</td>\n",
              "      <td>106088.18</td>\n",
              "      <td>16452.60</td>\n",
              "      <td>NaN</td>\n",
              "      <td>335279.91</td>\n",
              "      <td>335279.91</td>\n",
              "      <td>2011</td>\n",
              "      <td>NaN</td>\n",
              "      <td>San Francisco</td>\n",
              "      <td>NaN</td>\n",
              "    </tr>\n",
              "    <tr>\n",
              "      <th>3</th>\n",
              "      <td>4</td>\n",
              "      <td>CHRISTOPHER CHONG</td>\n",
              "      <td>WIRE ROPE CABLE MAINTENANCE MECHANIC</td>\n",
              "      <td>77916.00</td>\n",
              "      <td>56120.71</td>\n",
              "      <td>198306.90</td>\n",
              "      <td>NaN</td>\n",
              "      <td>332343.61</td>\n",
              "      <td>332343.61</td>\n",
              "      <td>2011</td>\n",
              "      <td>NaN</td>\n",
              "      <td>San Francisco</td>\n",
              "      <td>NaN</td>\n",
              "    </tr>\n",
              "    <tr>\n",
              "      <th>4</th>\n",
              "      <td>5</td>\n",
              "      <td>PATRICK GARDNER</td>\n",
              "      <td>DEPUTY CHIEF OF DEPARTMENT,(FIRE DEPARTMENT)</td>\n",
              "      <td>134401.60</td>\n",
              "      <td>9737.00</td>\n",
              "      <td>182234.59</td>\n",
              "      <td>NaN</td>\n",
              "      <td>326373.19</td>\n",
              "      <td>326373.19</td>\n",
              "      <td>2011</td>\n",
              "      <td>NaN</td>\n",
              "      <td>San Francisco</td>\n",
              "      <td>NaN</td>\n",
              "    </tr>\n",
              "  </tbody>\n",
              "</table>\n",
              "</div>"
            ],
            "text/plain": [
              "   Id       EmployeeName  ...         Agency  Status\n",
              "0   1     NATHANIEL FORD  ...  San Francisco     NaN\n",
              "1   2       GARY JIMENEZ  ...  San Francisco     NaN\n",
              "2   3     ALBERT PARDINI  ...  San Francisco     NaN\n",
              "3   4  CHRISTOPHER CHONG  ...  San Francisco     NaN\n",
              "4   5    PATRICK GARDNER  ...  San Francisco     NaN\n",
              "\n",
              "[5 rows x 13 columns]"
            ]
          },
          "metadata": {},
          "execution_count": 2
        }
      ]
    },
    {
      "cell_type": "code",
      "metadata": {
        "colab": {
          "base_uri": "https://localhost:8080/",
          "height": 0
        },
        "id": "NN60XSgxT4oW",
        "outputId": "ad987cb0-29b4-4d01-da4d-b36c3c8e0003"
      },
      "source": [
        "# Get more info on data & Verify that 148,648 records are there\n",
        "print (salary.info())"
      ],
      "execution_count": 3,
      "outputs": [
        {
          "output_type": "stream",
          "name": "stdout",
          "text": [
            "<class 'pandas.core.frame.DataFrame'>\n",
            "RangeIndex: 148648 entries, 0 to 148647\n",
            "Data columns (total 13 columns):\n",
            " #   Column            Non-Null Count   Dtype  \n",
            "---  ------            --------------   -----  \n",
            " 0   Id                148648 non-null  int64  \n",
            " 1   EmployeeName      148648 non-null  object \n",
            " 2   JobTitle          148648 non-null  object \n",
            " 3   BasePay           148043 non-null  float64\n",
            " 4   OvertimePay       148648 non-null  float64\n",
            " 5   OtherPay          148648 non-null  float64\n",
            " 6   Benefits          112490 non-null  float64\n",
            " 7   TotalPay          148648 non-null  float64\n",
            " 8   TotalPayBenefits  148648 non-null  float64\n",
            " 9   Year              148648 non-null  int64  \n",
            " 10  Notes             0 non-null       float64\n",
            " 11  Agency            148648 non-null  object \n",
            " 12  Status            38119 non-null   object \n",
            "dtypes: float64(7), int64(2), object(4)\n",
            "memory usage: 14.7+ MB\n",
            "None\n"
          ]
        }
      ]
    },
    {
      "cell_type": "code",
      "metadata": {
        "colab": {
          "base_uri": "https://localhost:8080/",
          "height": 0
        },
        "id": "_YOGlJCKUr30",
        "outputId": "1aa1770c-284c-4c94-9787-a112e80daec6"
      },
      "source": [
        "\n",
        "# Get Some statistical summary of data\n",
        "print (salary.describe())"
      ],
      "execution_count": 4,
      "outputs": [
        {
          "output_type": "stream",
          "name": "stdout",
          "text": [
            "                  Id        BasePay  ...           Year  Notes\n",
            "count  148648.000000  148043.000000  ...  148648.000000    0.0\n",
            "mean    74326.110220   66325.398119  ...    2012.522617    NaN\n",
            "std     42911.633315   42764.898947  ...       1.117526    NaN\n",
            "min         1.000000    -166.010000  ...    2011.000000    NaN\n",
            "25%     37163.750000   33587.350000  ...    2012.000000    NaN\n",
            "50%     74326.500000   65007.450000  ...    2013.000000    NaN\n",
            "75%    111488.250000   94691.050000  ...    2014.000000    NaN\n",
            "max    148654.000000  319275.010000  ...    2014.000000    NaN\n",
            "\n",
            "[8 rows x 9 columns]\n"
          ]
        }
      ]
    },
    {
      "cell_type": "code",
      "metadata": {
        "colab": {
          "base_uri": "https://localhost:8080/",
          "height": 0
        },
        "id": "n3s619lsUvDu",
        "outputId": "7541c116-3739-423c-8f1f-23c8182b8aa7"
      },
      "source": [
        "\n",
        "# Check the total salary cost per year and see how it has increased over years\n",
        "\n",
        "sum_year = salary.groupby('Year').sum()['TotalPayBenefits']\n",
        "print ( sum_year)"
      ],
      "execution_count": 5,
      "outputs": [
        {
          "output_type": "stream",
          "name": "stdout",
          "text": [
            "Year\n",
            "2011    2.594113e+09\n",
            "2012    3.696790e+09\n",
            "2013    3.814772e+09\n",
            "2014    3.821866e+09\n",
            "Name: TotalPayBenefits, dtype: float64\n"
          ]
        }
      ]
    },
    {
      "cell_type": "code",
      "metadata": {
        "colab": {
          "base_uri": "https://localhost:8080/",
          "height": 0
        },
        "id": "-vZbTi7sTczp",
        "outputId": "5c6accab-b604-447f-9a2c-957e7f7b182a"
      },
      "source": [
        "# Question 1: Compute how much total salary cost has increased from year 2011 to 2014\n",
        "\n",
        "mean_year = salary.groupby('Year').mean()['TotalPayBenefits']\n",
        "print ( mean_year)\n"
      ],
      "execution_count": 6,
      "outputs": [
        {
          "output_type": "stream",
          "name": "stdout",
          "text": [
            "Year\n",
            "2011     71743.819645\n",
            "2012    100551.886807\n",
            "2013    101440.519714\n",
            "2014    100261.438668\n",
            "Name: TotalPayBenefits, dtype: float64\n"
          ]
        }
      ]
    },
    {
      "cell_type": "code",
      "metadata": {
        "colab": {
          "base_uri": "https://localhost:8080/",
          "height": 0
        },
        "id": "WDoKCcicTczq",
        "outputId": "061234df-a12b-4b0d-e945-c611bd742fdf"
      },
      "source": [
        "# Question 2: Which Job Title in Year 2014 has highest mean salary\n",
        "mean_title_year = salary.groupby(['Year','JobTitle']).mean()['TotalPayBenefits']\n",
        "print ( mean_title_year)\n"
      ],
      "execution_count": 7,
      "outputs": [
        {
          "output_type": "stream",
          "name": "stdout",
          "text": [
            "Year  JobTitle                      \n",
            "2011  ACCOUNT CLERK                      44035.664337\n",
            "      ACCOUNTANT                         47429.268000\n",
            "      ACCOUNTANT INTERN                  29031.742917\n",
            "      ACUPUNCTURIST                      67594.400000\n",
            "      ADMINISTRATIVE ANALYST             63954.867527\n",
            "                                            ...      \n",
            "2014  Wire Rope Cable Maint Sprv        228338.090000\n",
            "      Worker's Comp Supervisor 1         76964.451667\n",
            "      Worker's Compensation Adjuster     97213.493846\n",
            "      X-Ray Laboratory Aide              68754.120000\n",
            "      Youth Comm Advisor                 52011.190000\n",
            "Name: TotalPayBenefits, Length: 4136, dtype: float64\n"
          ]
        }
      ]
    },
    {
      "cell_type": "code",
      "metadata": {
        "colab": {
          "base_uri": "https://localhost:8080/",
          "height": 0
        },
        "id": "bY_yyfaPTczr",
        "outputId": "389d8f2f-eccb-4c18-b4bb-5fbb1d6690a7"
      },
      "source": [
        "# Question 3: How much money could have been saved in Year 2014 by stopping OverTimePay\n",
        "\n",
        "over_time_pay_year = salary.groupby('Year').sum()['OvertimePay']\n",
        "print ( over_time_pay_year)\n"
      ],
      "execution_count": 8,
      "outputs": [
        {
          "output_type": "stream",
          "name": "stdout",
          "text": [
            "Year\n",
            "2011    1.638191e+08\n",
            "2012    1.846650e+08\n",
            "2013    1.986214e+08\n",
            "2014    2.059186e+08\n",
            "Name: OvertimePay, dtype: float64\n"
          ]
        }
      ]
    },
    {
      "cell_type": "code",
      "metadata": {
        "colab": {
          "base_uri": "https://localhost:8080/",
          "height": 0
        },
        "id": "d3WU05pvTczr",
        "outputId": "e9fde8b9-4277-4a48-c57f-2e1a82dc7137"
      },
      "source": [
        "# Question 4: Which are the top 5 common job in Year 2014 \n",
        "top_job_title = salary[salary['Year'] == 2014]['JobTitle'].value_counts().head(5)\n",
        "print (top_job_title)\n"
      ],
      "execution_count": 10,
      "outputs": [
        {
          "output_type": "stream",
          "name": "stdout",
          "text": [
            "Transit Operator                2479\n",
            "Special Nurse                   1478\n",
            "Registered Nurse                1234\n",
            "Public Svc Aide-Public Works     916\n",
            "Firefighter                      815\n",
            "Name: JobTitle, dtype: int64\n"
          ]
        }
      ]
    },
    {
      "cell_type": "code",
      "metadata": {
        "colab": {
          "base_uri": "https://localhost:8080/",
          "height": 0
        },
        "id": "B86vzMXeU8tT",
        "outputId": "b07ca7c7-554e-4e4c-be8b-95a118ccb8b1"
      },
      "source": [
        "\n",
        "# Calculate the Cost\n",
        "sum_cost = 0\n",
        "for index,value in top_job_title.iteritems():\n",
        "    print(index,value)\n",
        "    sum_cost += sum(salary[ (salary['Year']== 2014) & (salary['JobTitle'] == index)]['TotalPayBenefits'])\n",
        "\n",
        "print (\" Total Cost of Top 5 Jobs in Year 2014 \", sum_cost)"
      ],
      "execution_count": 11,
      "outputs": [
        {
          "output_type": "stream",
          "name": "stdout",
          "text": [
            "Transit Operator 2479\n",
            "Special Nurse 1478\n",
            "Registered Nurse 1234\n",
            "Public Svc Aide-Public Works 916\n",
            "Firefighter 815\n",
            " Total Cost of Top 5 Jobs in Year 2014  610269227.6600003\n"
          ]
        }
      ]
    },
    {
      "cell_type": "code",
      "metadata": {
        "colab": {
          "base_uri": "https://localhost:8080/",
          "height": 0
        },
        "id": "iUy1vs7YTczs",
        "outputId": "9c2d33a9-e74c-4aef-91ec-9964a6d4881e"
      },
      "source": [
        "# Question 5: Who was the top earning employee across all the years\n",
        "\n",
        "top_sal = salary.groupby('EmployeeName').sum()['TotalPayBenefits']\n",
        "print((top_sal.sort_values(axis=0)))\n"
      ],
      "execution_count": 12,
      "outputs": [
        {
          "output_type": "stream",
          "name": "stdout",
          "text": [
            "EmployeeName\n",
            "Joe Lopez              -618.13\n",
            "David P Kucia           -33.89\n",
            "Mark E Laherty           -8.20\n",
            "Timothy E Gibson         -2.73\n",
            "Mark W Mcclure            0.00\n",
            "                       ...    \n",
            "Richard Lee         1268668.84\n",
            "Stanley Lee         1457279.68\n",
            "William Wong        1459954.17\n",
            "Steven Lee          1706550.76\n",
            "Kevin Lee           1778487.17\n",
            "Name: TotalPayBenefits, Length: 110809, dtype: float64\n"
          ]
        }
      ]
    },
    {
      "cell_type": "code",
      "metadata": {
        "collapsed": true,
        "id": "dMVW84ICTczt"
      },
      "source": [
        ""
      ],
      "execution_count": null,
      "outputs": []
    }
  ]
}
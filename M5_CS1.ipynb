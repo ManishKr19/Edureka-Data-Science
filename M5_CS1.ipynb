{
  "nbformat": 4,
  "nbformat_minor": 0,
  "metadata": {
    "accelerator": "GPU",
    "colab": {
      "name": "M5_CS1.ipynb",
      "provenance": [],
      "collapsed_sections": [
        "UDEJqcg7Ew7C",
        "OH8T7PVTHv6Z",
        "Mg84j817IG6i",
        "l4s19ogzIqHW",
        "5JEAFPytKLt8",
        "oYgD3voDJU9P",
        "_8W_tBL1JeL6",
        "m1Vt74FuJnId",
        "bHyV-c_bKusk",
        "sgGM5dcxK7Ff",
        "J31eaQPELdaE",
        "HP__9E61LPMS"
      ],
      "include_colab_link": true
    },
    "kernelspec": {
      "display_name": "Python 3",
      "language": "python",
      "name": "python3"
    },
    "language_info": {
      "codemirror_mode": {
        "name": "ipython",
        "version": 3
      },
      "file_extension": ".py",
      "mimetype": "text/x-python",
      "name": "python",
      "nbconvert_exporter": "python",
      "pygments_lexer": "ipython3",
      "version": "3.6.6"
    }
  },
  "cells": [
    {
      "cell_type": "markdown",
      "metadata": {
        "id": "view-in-github",
        "colab_type": "text"
      },
      "source": [
        "<a href=\"https://colab.research.google.com/github/ManishKr19/Edureka-Data-Science/blob/main/M5_CS1.ipynb\" target=\"_parent\"><img src=\"https://colab.research.google.com/assets/colab-badge.svg\" alt=\"Open In Colab\"/></a>"
      ]
    },
    {
      "cell_type": "code",
      "metadata": {
        "collapsed": true,
        "id": "Umwi_gF8abWe"
      },
      "source": [
        "# Loading dependancy\n",
        "import pandas as pd\n",
        "import numpy as np\n",
        "import matplotlib.pyplot as plt\n",
        "%matplotlib inline"
      ],
      "execution_count": 1,
      "outputs": []
    },
    {
      "cell_type": "code",
      "metadata": {
        "id": "ipUzqqPbauYV"
      },
      "source": [
        "movies = pd.read_csv(r'/content/HollywoodMovies.csv')"
      ],
      "execution_count": 2,
      "outputs": []
    },
    {
      "cell_type": "code",
      "metadata": {
        "colab": {
          "base_uri": "https://localhost:8080/",
          "height": 0
        },
        "id": "XKNhjjNka1-9",
        "outputId": "0d8dca1e-0072-4e0c-9cf0-bc7c9306d794"
      },
      "source": [
        "movies.info()"
      ],
      "execution_count": 3,
      "outputs": [
        {
          "output_type": "stream",
          "name": "stdout",
          "text": [
            "<class 'pandas.core.frame.DataFrame'>\n",
            "RangeIndex: 970 entries, 0 to 969\n",
            "Data columns (total 16 columns):\n",
            " #   Column            Non-Null Count  Dtype  \n",
            "---  ------            --------------  -----  \n",
            " 0   Movie             970 non-null    object \n",
            " 1   LeadStudio        961 non-null    object \n",
            " 2   RottenTomatoes    913 non-null    float64\n",
            " 3   AudienceScore     907 non-null    float64\n",
            " 4   Story             641 non-null    object \n",
            " 5   Genre             691 non-null    object \n",
            " 6   TheatersOpenWeek  949 non-null    float64\n",
            " 7   OpeningWeekend    969 non-null    float64\n",
            " 8   BOAvgOpenWeekend  945 non-null    float64\n",
            " 9   DomesticGross     970 non-null    float64\n",
            " 10  ForeignGross      876 non-null    float64\n",
            " 11  WorldGross        914 non-null    float64\n",
            " 12  Budget            897 non-null    float64\n",
            " 13  Profitability     896 non-null    float64\n",
            " 14  OpenProfit        895 non-null    float64\n",
            " 15  Year              970 non-null    int64  \n",
            "dtypes: float64(11), int64(1), object(4)\n",
            "memory usage: 121.4+ KB\n"
          ]
        }
      ]
    },
    {
      "cell_type": "code",
      "metadata": {
        "colab": {
          "base_uri": "https://localhost:8080/",
          "height": 300
        },
        "id": "oe7GyTqgcA03",
        "outputId": "9c6a545d-3701-4c55-b29c-930b54a3c391"
      },
      "source": [
        "movies.describe()"
      ],
      "execution_count": 4,
      "outputs": [
        {
          "output_type": "execute_result",
          "data": {
            "text/html": [
              "<div>\n",
              "<style scoped>\n",
              "    .dataframe tbody tr th:only-of-type {\n",
              "        vertical-align: middle;\n",
              "    }\n",
              "\n",
              "    .dataframe tbody tr th {\n",
              "        vertical-align: top;\n",
              "    }\n",
              "\n",
              "    .dataframe thead th {\n",
              "        text-align: right;\n",
              "    }\n",
              "</style>\n",
              "<table border=\"1\" class=\"dataframe\">\n",
              "  <thead>\n",
              "    <tr style=\"text-align: right;\">\n",
              "      <th></th>\n",
              "      <th>RottenTomatoes</th>\n",
              "      <th>AudienceScore</th>\n",
              "      <th>TheatersOpenWeek</th>\n",
              "      <th>OpeningWeekend</th>\n",
              "      <th>BOAvgOpenWeekend</th>\n",
              "      <th>DomesticGross</th>\n",
              "      <th>ForeignGross</th>\n",
              "      <th>WorldGross</th>\n",
              "      <th>Budget</th>\n",
              "      <th>Profitability</th>\n",
              "      <th>OpenProfit</th>\n",
              "      <th>Year</th>\n",
              "    </tr>\n",
              "  </thead>\n",
              "  <tbody>\n",
              "    <tr>\n",
              "      <th>count</th>\n",
              "      <td>913.000000</td>\n",
              "      <td>907.000000</td>\n",
              "      <td>949.000000</td>\n",
              "      <td>969.000000</td>\n",
              "      <td>945.000000</td>\n",
              "      <td>970.000000</td>\n",
              "      <td>876.000000</td>\n",
              "      <td>914.000000</td>\n",
              "      <td>897.000000</td>\n",
              "      <td>896.000000</td>\n",
              "      <td>895.000000</td>\n",
              "      <td>970.000000</td>\n",
              "    </tr>\n",
              "    <tr>\n",
              "      <th>mean</th>\n",
              "      <td>51.707558</td>\n",
              "      <td>61.271224</td>\n",
              "      <td>2495.246575</td>\n",
              "      <td>20.620826</td>\n",
              "      <td>8562.593651</td>\n",
              "      <td>68.162544</td>\n",
              "      <td>101.237419</td>\n",
              "      <td>169.009945</td>\n",
              "      <td>56.117168</td>\n",
              "      <td>384.620100</td>\n",
              "      <td>62.223575</td>\n",
              "      <td>2010.236082</td>\n",
              "    </tr>\n",
              "    <tr>\n",
              "      <th>std</th>\n",
              "      <td>26.821268</td>\n",
              "      <td>16.602457</td>\n",
              "      <td>1164.223356</td>\n",
              "      <td>25.338689</td>\n",
              "      <td>10645.135565</td>\n",
              "      <td>80.409969</td>\n",
              "      <td>155.987696</td>\n",
              "      <td>227.744380</td>\n",
              "      <td>53.755914</td>\n",
              "      <td>631.666012</td>\n",
              "      <td>159.713218</td>\n",
              "      <td>1.954840</td>\n",
              "    </tr>\n",
              "    <tr>\n",
              "      <th>min</th>\n",
              "      <td>0.000000</td>\n",
              "      <td>19.000000</td>\n",
              "      <td>1.000000</td>\n",
              "      <td>0.010000</td>\n",
              "      <td>28.000000</td>\n",
              "      <td>0.060000</td>\n",
              "      <td>0.000000</td>\n",
              "      <td>0.100000</td>\n",
              "      <td>0.000000</td>\n",
              "      <td>2.300000</td>\n",
              "      <td>0.160000</td>\n",
              "      <td>2007.000000</td>\n",
              "    </tr>\n",
              "    <tr>\n",
              "      <th>25%</th>\n",
              "      <td>28.000000</td>\n",
              "      <td>49.000000</td>\n",
              "      <td>2054.000000</td>\n",
              "      <td>5.300000</td>\n",
              "      <td>3528.000000</td>\n",
              "      <td>17.565000</td>\n",
              "      <td>16.667500</td>\n",
              "      <td>38.357500</td>\n",
              "      <td>20.000000</td>\n",
              "      <td>150.020000</td>\n",
              "      <td>19.505000</td>\n",
              "      <td>2009.000000</td>\n",
              "    </tr>\n",
              "    <tr>\n",
              "      <th>50%</th>\n",
              "      <td>52.000000</td>\n",
              "      <td>61.000000</td>\n",
              "      <td>2798.000000</td>\n",
              "      <td>13.150000</td>\n",
              "      <td>5983.000000</td>\n",
              "      <td>40.415000</td>\n",
              "      <td>46.655000</td>\n",
              "      <td>88.180000</td>\n",
              "      <td>35.000000</td>\n",
              "      <td>254.820000</td>\n",
              "      <td>34.610000</td>\n",
              "      <td>2010.000000</td>\n",
              "    </tr>\n",
              "    <tr>\n",
              "      <th>75%</th>\n",
              "      <td>75.000000</td>\n",
              "      <td>74.000000</td>\n",
              "      <td>3285.000000</td>\n",
              "      <td>26.200000</td>\n",
              "      <td>9790.000000</td>\n",
              "      <td>89.252500</td>\n",
              "      <td>111.908750</td>\n",
              "      <td>202.310000</td>\n",
              "      <td>75.000000</td>\n",
              "      <td>417.987500</td>\n",
              "      <td>58.375000</td>\n",
              "      <td>2012.000000</td>\n",
              "    </tr>\n",
              "    <tr>\n",
              "      <th>max</th>\n",
              "      <td>99.000000</td>\n",
              "      <td>96.000000</td>\n",
              "      <td>4468.000000</td>\n",
              "      <td>207.440000</td>\n",
              "      <td>147262.000000</td>\n",
              "      <td>760.500000</td>\n",
              "      <td>2021.000000</td>\n",
              "      <td>2781.500000</td>\n",
              "      <td>300.000000</td>\n",
              "      <td>10175.850000</td>\n",
              "      <td>3373.000000</td>\n",
              "      <td>2013.000000</td>\n",
              "    </tr>\n",
              "  </tbody>\n",
              "</table>\n",
              "</div>"
            ],
            "text/plain": [
              "       RottenTomatoes  AudienceScore  ...   OpenProfit         Year\n",
              "count      913.000000     907.000000  ...   895.000000   970.000000\n",
              "mean        51.707558      61.271224  ...    62.223575  2010.236082\n",
              "std         26.821268      16.602457  ...   159.713218     1.954840\n",
              "min          0.000000      19.000000  ...     0.160000  2007.000000\n",
              "25%         28.000000      49.000000  ...    19.505000  2009.000000\n",
              "50%         52.000000      61.000000  ...    34.610000  2010.000000\n",
              "75%         75.000000      74.000000  ...    58.375000  2012.000000\n",
              "max         99.000000      96.000000  ...  3373.000000  2013.000000\n",
              "\n",
              "[8 rows x 12 columns]"
            ]
          },
          "metadata": {},
          "execution_count": 4
        }
      ]
    },
    {
      "cell_type": "markdown",
      "metadata": {
        "id": "Ymu0bAcyD-e_"
      },
      "source": [
        "**1.) Find the highest rated movie in the“Quest” story type.**"
      ]
    },
    {
      "cell_type": "code",
      "metadata": {
        "colab": {
          "base_uri": "https://localhost:8080/",
          "height": 0
        },
        "id": "bZ5rA7bcbGqz",
        "outputId": "1b5caceb-c8d4-4d98-be73-4aafa377ccc9"
      },
      "source": [
        "questMovies = movies[movies['Story'] == 'Quest']\n",
        "hr_Qm = questMovies[questMovies['RottenTomatoes'] == max(questMovies['RottenTomatoes'])]\n",
        "print(hr_Qm[['Movie', 'RottenTomatoes']])"
      ],
      "execution_count": 5,
      "outputs": [
        {
          "output_type": "stream",
          "name": "stdout",
          "text": [
            "               Movie  RottenTomatoes\n",
            "343  The Hurt Locker            97.0\n",
            "629      The Muppets            97.0\n"
          ]
        }
      ]
    },
    {
      "cell_type": "markdown",
      "metadata": {
        "id": "e5OXVNErEETR"
      },
      "source": [
        "**2.) Find the genre in which there has been the greatest number of movie releases.**"
      ]
    },
    {
      "cell_type": "code",
      "metadata": {
        "colab": {
          "base_uri": "https://localhost:8080/",
          "height": 0
        },
        "id": "dTSuENWnbOoX",
        "outputId": "ae552fca-da4e-40a6-ec7c-c6bafb40dba2"
      },
      "source": [
        "genre_movie = movies.groupby('Genre')['Movie'].count().reset_index()\n",
        "genre_movie = genre_movie.sort_values('Movie', ascending = False)\n",
        "print(genre_movie.loc[genre_movie.index[0]][['Genre', 'Movie']])"
      ],
      "execution_count": 6,
      "outputs": [
        {
          "output_type": "stream",
          "name": "stdout",
          "text": [
            "Genre    Comedy\n",
            "Movie       177\n",
            "Name: 4, dtype: object\n"
          ]
        }
      ]
    },
    {
      "cell_type": "markdown",
      "metadata": {
        "id": "yUZ8ESchEWxz"
      },
      "source": [
        "**3.) Print the names of the top five movies with the costliest budgets.**"
      ]
    },
    {
      "cell_type": "code",
      "metadata": {
        "colab": {
          "base_uri": "https://localhost:8080/",
          "height": 34
        },
        "id": "FSwwhqyGc8ie",
        "outputId": "a330ac2a-f63e-4f86-c931-e49849f485f4"
      },
      "source": [
        "movies.loc[movies['Budget'].idxmax()]['Movie']"
      ],
      "execution_count": 7,
      "outputs": [
        {
          "output_type": "execute_result",
          "data": {
            "application/vnd.google.colaboratory.intrinsic+json": {
              "type": "string"
            },
            "text/plain": [
              "\"Pirates of the Caribbean: At World's End\""
            ]
          },
          "metadata": {},
          "execution_count": 7
        }
      ]
    },
    {
      "cell_type": "code",
      "metadata": {
        "colab": {
          "base_uri": "https://localhost:8080/",
          "height": 206
        },
        "id": "CgobXInpdEEd",
        "outputId": "4fee8944-d841-48d2-d769-5ccc333d9b23"
      },
      "source": [
        "movies.head()"
      ],
      "execution_count": 8,
      "outputs": [
        {
          "output_type": "execute_result",
          "data": {
            "text/html": [
              "<div>\n",
              "<style scoped>\n",
              "    .dataframe tbody tr th:only-of-type {\n",
              "        vertical-align: middle;\n",
              "    }\n",
              "\n",
              "    .dataframe tbody tr th {\n",
              "        vertical-align: top;\n",
              "    }\n",
              "\n",
              "    .dataframe thead th {\n",
              "        text-align: right;\n",
              "    }\n",
              "</style>\n",
              "<table border=\"1\" class=\"dataframe\">\n",
              "  <thead>\n",
              "    <tr style=\"text-align: right;\">\n",
              "      <th></th>\n",
              "      <th>Movie</th>\n",
              "      <th>LeadStudio</th>\n",
              "      <th>RottenTomatoes</th>\n",
              "      <th>AudienceScore</th>\n",
              "      <th>Story</th>\n",
              "      <th>Genre</th>\n",
              "      <th>TheatersOpenWeek</th>\n",
              "      <th>OpeningWeekend</th>\n",
              "      <th>BOAvgOpenWeekend</th>\n",
              "      <th>DomesticGross</th>\n",
              "      <th>ForeignGross</th>\n",
              "      <th>WorldGross</th>\n",
              "      <th>Budget</th>\n",
              "      <th>Profitability</th>\n",
              "      <th>OpenProfit</th>\n",
              "      <th>Year</th>\n",
              "    </tr>\n",
              "  </thead>\n",
              "  <tbody>\n",
              "    <tr>\n",
              "      <th>0</th>\n",
              "      <td>Spider-Man 3</td>\n",
              "      <td>Sony</td>\n",
              "      <td>61.0</td>\n",
              "      <td>54.0</td>\n",
              "      <td>Metamorphosis</td>\n",
              "      <td>Action</td>\n",
              "      <td>4252.0</td>\n",
              "      <td>151.1</td>\n",
              "      <td>35540.0</td>\n",
              "      <td>336.53</td>\n",
              "      <td>554.34</td>\n",
              "      <td>890.87</td>\n",
              "      <td>258.0</td>\n",
              "      <td>345.30</td>\n",
              "      <td>58.57</td>\n",
              "      <td>2007</td>\n",
              "    </tr>\n",
              "    <tr>\n",
              "      <th>1</th>\n",
              "      <td>Shrek the Third</td>\n",
              "      <td>Paramount</td>\n",
              "      <td>42.0</td>\n",
              "      <td>57.0</td>\n",
              "      <td>Quest</td>\n",
              "      <td>Animation</td>\n",
              "      <td>4122.0</td>\n",
              "      <td>121.6</td>\n",
              "      <td>29507.0</td>\n",
              "      <td>322.72</td>\n",
              "      <td>476.24</td>\n",
              "      <td>798.96</td>\n",
              "      <td>160.0</td>\n",
              "      <td>499.35</td>\n",
              "      <td>76.00</td>\n",
              "      <td>2007</td>\n",
              "    </tr>\n",
              "    <tr>\n",
              "      <th>2</th>\n",
              "      <td>Transformers</td>\n",
              "      <td>Paramount</td>\n",
              "      <td>57.0</td>\n",
              "      <td>89.0</td>\n",
              "      <td>Monster Force</td>\n",
              "      <td>Action</td>\n",
              "      <td>4011.0</td>\n",
              "      <td>70.5</td>\n",
              "      <td>17577.0</td>\n",
              "      <td>319.25</td>\n",
              "      <td>390.46</td>\n",
              "      <td>709.71</td>\n",
              "      <td>150.0</td>\n",
              "      <td>473.14</td>\n",
              "      <td>47.00</td>\n",
              "      <td>2007</td>\n",
              "    </tr>\n",
              "    <tr>\n",
              "      <th>3</th>\n",
              "      <td>Pirates of the Caribbean: At World's End</td>\n",
              "      <td>Disney</td>\n",
              "      <td>45.0</td>\n",
              "      <td>74.0</td>\n",
              "      <td>Rescue</td>\n",
              "      <td>Action</td>\n",
              "      <td>4362.0</td>\n",
              "      <td>114.7</td>\n",
              "      <td>26302.0</td>\n",
              "      <td>309.42</td>\n",
              "      <td>654.00</td>\n",
              "      <td>963.42</td>\n",
              "      <td>300.0</td>\n",
              "      <td>321.14</td>\n",
              "      <td>38.23</td>\n",
              "      <td>2007</td>\n",
              "    </tr>\n",
              "    <tr>\n",
              "      <th>4</th>\n",
              "      <td>Harry Potter and the Order of the Phoenix</td>\n",
              "      <td>Warner Bros</td>\n",
              "      <td>78.0</td>\n",
              "      <td>82.0</td>\n",
              "      <td>Quest</td>\n",
              "      <td>Adventure</td>\n",
              "      <td>4285.0</td>\n",
              "      <td>77.1</td>\n",
              "      <td>17998.0</td>\n",
              "      <td>292.00</td>\n",
              "      <td>647.88</td>\n",
              "      <td>939.89</td>\n",
              "      <td>150.0</td>\n",
              "      <td>626.59</td>\n",
              "      <td>51.40</td>\n",
              "      <td>2007</td>\n",
              "    </tr>\n",
              "  </tbody>\n",
              "</table>\n",
              "</div>"
            ],
            "text/plain": [
              "                                       Movie   LeadStudio  ...  OpenProfit  Year\n",
              "0                               Spider-Man 3         Sony  ...       58.57  2007\n",
              "1                            Shrek the Third    Paramount  ...       76.00  2007\n",
              "2                               Transformers    Paramount  ...       47.00  2007\n",
              "3   Pirates of the Caribbean: At World's End       Disney  ...       38.23  2007\n",
              "4  Harry Potter and the Order of the Phoenix  Warner Bros  ...       51.40  2007\n",
              "\n",
              "[5 rows x 16 columns]"
            ]
          },
          "metadata": {},
          "execution_count": 8
        }
      ]
    },
    {
      "cell_type": "code",
      "metadata": {
        "collapsed": true,
        "id": "6ce3VM5fhFFT"
      },
      "source": [
        "RottenTomatoes = movies['RottenTomatoes'].values\n",
        "AudienceScore = movies['AudienceScore'].values"
      ],
      "execution_count": 9,
      "outputs": []
    },
    {
      "cell_type": "markdown",
      "metadata": {
        "id": "irOUXo-7EdRE"
      },
      "source": [
        "**4.) Is there any correspondence between the critics’ evaluation of a movie and itsacceptance by the public? <br>\n",
        "<br>  Find out, by plotting the net profitability of a movie against the ratings it receives on Rotten Tomatoes.**"
      ]
    },
    {
      "cell_type": "code",
      "metadata": {
        "colab": {
          "base_uri": "https://localhost:8080/",
          "height": 609
        },
        "id": "_GH08nxAjXgx",
        "outputId": "e470c0f2-77cf-4105-b80f-f68caf495e69"
      },
      "source": [
        "plt.figure(figsize=(15,10))\n",
        "plt.scatter(RottenTomatoes, AudienceScore)"
      ],
      "execution_count": 10,
      "outputs": [
        {
          "output_type": "execute_result",
          "data": {
            "text/plain": [
              "<matplotlib.collections.PathCollection at 0x7f2d65ea9a90>"
            ]
          },
          "metadata": {},
          "execution_count": 10
        },
        {
          "output_type": "display_data",
          "data": {
            "image/png": "[encoded data removed]",
            "text/plain": [
              "<Figure size 1080x720 with 1 Axes>"
            ]
          },
          "metadata": {
            "needs_background": "light"
          }
        }
      ]
    },
    {
      "cell_type": "code",
      "metadata": {
        "collapsed": true,
        "id": "GMUxzs7mornP"
      },
      "source": [
        "\n",
        "RottenTomatoes = movies['RottenTomatoes'].apply(lambda x: x//20)\n",
        "Profitability = movies['Profitability'].values"
      ],
      "execution_count": 11,
      "outputs": []
    },
    {
      "cell_type": "code",
      "metadata": {
        "collapsed": true,
        "id": "yswAn0e8FHMj"
      },
      "source": [
        "movies['RT_rating'] = movies['RottenTomatoes'].apply(lambda x: x//20)"
      ],
      "execution_count": 12,
      "outputs": []
    },
    {
      "cell_type": "code",
      "metadata": {
        "collapsed": true,
        "id": "z7rs6S80Eoyo"
      },
      "source": [
        "import seaborn as sns\n",
        "sns.set(style=\"ticks\", color_codes=True)\n"
      ],
      "execution_count": 13,
      "outputs": []
    },
    {
      "cell_type": "code",
      "metadata": {
        "colab": {
          "base_uri": "https://localhost:8080/",
          "height": 768
        },
        "id": "3WWHRSpq5qJx",
        "outputId": "ccbf883c-fca9-4722-a6cf-adee12d0a735"
      },
      "source": [
        "#  Find out, by plotting the net profitability of a movie against the ratings it receives on Rotten Tomatoes.\n",
        "plt.figure(figsize = (15, 10))\n",
        "plt.bar(RottenTomatoes, Profitability, align='center')\n",
        "plt.xticks([0, 1, 2, 3, 4], ['20', '40', '60', '80', '100'])"
      ],
      "execution_count": 14,
      "outputs": [
        {
          "output_type": "execute_result",
          "data": {
            "text/plain": [
              "([<matplotlib.axis.XTick at 0x7f2d56f812d0>,\n",
              "  <matplotlib.axis.XTick at 0x7f2d56f81290>,\n",
              "  <matplotlib.axis.XTick at 0x7f2d56f7ef50>,\n",
              "  <matplotlib.axis.XTick at 0x7f2d5646bf10>,\n",
              "  <matplotlib.axis.XTick at 0x7f2d56479550>],\n",
              " [Text(0, 0, '20'),\n",
              "  Text(0, 0, '40'),\n",
              "  Text(0, 0, '60'),\n",
              "  Text(0, 0, '80'),\n",
              "  Text(0, 0, '100')])"
            ]
          },
          "metadata": {},
          "execution_count": 14
        },
        {
          "output_type": "display_data",
          "data": {
            "image/png": "[encoded data removed]",
            "text/plain": [
              "<Figure size 1080x720 with 1 Axes>"
            ]
          },
          "metadata": {}
        }
      ]
    },
    {
      "cell_type": "code",
      "metadata": {
        "colab": {
          "base_uri": "https://localhost:8080/",
          "height": 538
        },
        "id": "ZY6h_b0m7pad",
        "outputId": "f83e5fd2-e2f7-4b80-bb4c-6a3daad14338"
      },
      "source": [
        "sns.catplot(x = 'RT_rating', y = 'Profitability', data = movies)\n",
        "plt.xticks([0, 1, 2, 3, 4], ['20', '40', '60', '80', '100'])"
      ],
      "execution_count": 15,
      "outputs": [
        {
          "output_type": "execute_result",
          "data": {
            "text/plain": [
              "([<matplotlib.axis.XTick at 0x7f2d563e7690>,\n",
              "  <matplotlib.axis.XTick at 0x7f2d564c8f90>,\n",
              "  <matplotlib.axis.XTick at 0x7f2d563ee3d0>,\n",
              "  <matplotlib.axis.XTick at 0x7f2d563df090>,\n",
              "  <matplotlib.axis.XTick at 0x7f2d563dfd90>],\n",
              " [Text(0, 0, '20'),\n",
              "  Text(1, 0, '40'),\n",
              "  Text(2, 0, '60'),\n",
              "  Text(3, 0, '80'),\n",
              "  Text(4, 0, '100')])"
            ]
          },
          "metadata": {},
          "execution_count": 15
        },
        {
          "output_type": "display_data",
          "data": {
            "image/png": "[encoded data removed]",
            "text/plain": [
              "<Figure size 360x360 with 1 Axes>"
            ]
          },
          "metadata": {}
        }
      ]
    },
    {
      "cell_type": "markdown",
      "metadata": {
        "id": "UDEJqcg7Ew7C"
      },
      "source": [
        "#### **5.Perform Operations on Files**"
      ]
    },
    {
      "cell_type": "code",
      "metadata": {
        "id": "eKBrhLcECiih"
      },
      "source": [
        "data = {'first_name': ['Jason', 'Molly', 'Tina', 'Jake', 'Amy'], \n",
        " 'last_name': ['Miller', 'Jacobson', \".\", 'Milner', 'Cooze'], \n",
        " 'age': [42, 52, 36, 24, 73], \n",
        " 'preTestScore': [4, 24, 31, \".\", \".\"],\n",
        " 'postTestScore': [\"25,000\", \"94,000\", 57, 62, 70]\n",
        "}"
      ],
      "execution_count": 16,
      "outputs": []
    },
    {
      "cell_type": "markdown",
      "metadata": {
        "id": "0ywpe2vjE6hQ"
      },
      "source": [
        "**5.1: From the raw data below create a data frame**\n",
        "\n",
        "      'first_name': ['Jason', 'Molly', 'Tina', 'Jake', 'Amy'], \n",
        "      'last_name': ['Miller', 'Jacobson', \".\", 'Milner', 'Cooze'], \n",
        "      'age': [42, 52, 36, 24, 73], \n",
        "      'preTestScore': [4, 24, 31, \".\", \".\"], \n",
        "      'postTestScore': [\"25,000\", \"94,000\", 57, 62, 70]\n",
        "\n",
        "\n",
        "\n"
      ]
    },
    {
      "cell_type": "code",
      "metadata": {
        "id": "xRkLOndhCiii"
      },
      "source": [
        "df = pd.DataFrame(data)"
      ],
      "execution_count": 17,
      "outputs": []
    },
    {
      "cell_type": "markdown",
      "metadata": {
        "id": "wEA7hIfaFzuK"
      },
      "source": [
        "**5.2: Save the dataframe into a csv file as example.csv**"
      ]
    },
    {
      "cell_type": "code",
      "metadata": {
        "id": "2zQsD_56Ciii"
      },
      "source": [
        "df.to_csv('/content/example.csv', index = False)"
      ],
      "execution_count": 18,
      "outputs": []
    },
    {
      "cell_type": "markdown",
      "metadata": {
        "id": "_kngEaXfF6-a"
      },
      "source": [
        "**5.3: Read the example.csv and print the data frame**"
      ]
    },
    {
      "cell_type": "code",
      "metadata": {
        "collapsed": true,
        "id": "pH_9IkrJCiii"
      },
      "source": [
        "df1 = pd.read_csv('/content/example.csv')"
      ],
      "execution_count": 19,
      "outputs": []
    },
    {
      "cell_type": "code",
      "metadata": {
        "colab": {
          "base_uri": "https://localhost:8080/",
          "height": 206
        },
        "id": "4bqQkIwACiij",
        "outputId": "346344a2-7f3f-4ea0-f31a-92ed59122df8"
      },
      "source": [
        "df1.head()"
      ],
      "execution_count": 20,
      "outputs": [
        {
          "output_type": "execute_result",
          "data": {
            "text/html": [
              "<div>\n",
              "<style scoped>\n",
              "    .dataframe tbody tr th:only-of-type {\n",
              "        vertical-align: middle;\n",
              "    }\n",
              "\n",
              "    .dataframe tbody tr th {\n",
              "        vertical-align: top;\n",
              "    }\n",
              "\n",
              "    .dataframe thead th {\n",
              "        text-align: right;\n",
              "    }\n",
              "</style>\n",
              "<table border=\"1\" class=\"dataframe\">\n",
              "  <thead>\n",
              "    <tr style=\"text-align: right;\">\n",
              "      <th></th>\n",
              "      <th>first_name</th>\n",
              "      <th>last_name</th>\n",
              "      <th>age</th>\n",
              "      <th>preTestScore</th>\n",
              "      <th>postTestScore</th>\n",
              "    </tr>\n",
              "  </thead>\n",
              "  <tbody>\n",
              "    <tr>\n",
              "      <th>0</th>\n",
              "      <td>Jason</td>\n",
              "      <td>Miller</td>\n",
              "      <td>42</td>\n",
              "      <td>4</td>\n",
              "      <td>25,000</td>\n",
              "    </tr>\n",
              "    <tr>\n",
              "      <th>1</th>\n",
              "      <td>Molly</td>\n",
              "      <td>Jacobson</td>\n",
              "      <td>52</td>\n",
              "      <td>24</td>\n",
              "      <td>94,000</td>\n",
              "    </tr>\n",
              "    <tr>\n",
              "      <th>2</th>\n",
              "      <td>Tina</td>\n",
              "      <td>.</td>\n",
              "      <td>36</td>\n",
              "      <td>31</td>\n",
              "      <td>57</td>\n",
              "    </tr>\n",
              "    <tr>\n",
              "      <th>3</th>\n",
              "      <td>Jake</td>\n",
              "      <td>Milner</td>\n",
              "      <td>24</td>\n",
              "      <td>.</td>\n",
              "      <td>62</td>\n",
              "    </tr>\n",
              "    <tr>\n",
              "      <th>4</th>\n",
              "      <td>Amy</td>\n",
              "      <td>Cooze</td>\n",
              "      <td>73</td>\n",
              "      <td>.</td>\n",
              "      <td>70</td>\n",
              "    </tr>\n",
              "  </tbody>\n",
              "</table>\n",
              "</div>"
            ],
            "text/plain": [
              "  first_name last_name  age preTestScore postTestScore\n",
              "0      Jason    Miller   42            4        25,000\n",
              "1      Molly  Jacobson   52           24        94,000\n",
              "2       Tina         .   36           31            57\n",
              "3       Jake    Milner   24            .            62\n",
              "4        Amy     Cooze   73            .            70"
            ]
          },
          "metadata": {},
          "execution_count": 20
        }
      ]
    },
    {
      "cell_type": "markdown",
      "metadata": {
        "id": "PRQefdqpGEQm"
      },
      "source": [
        "**5.4: Read the example.csv without column heading**"
      ]
    },
    {
      "cell_type": "code",
      "metadata": {
        "id": "6WR1Vmk8Ciij"
      },
      "source": [
        "df2 = pd.read_csv(r'/content/example.csv', header = None, skiprows=[0])"
      ],
      "execution_count": 21,
      "outputs": []
    },
    {
      "cell_type": "code",
      "metadata": {
        "colab": {
          "base_uri": "https://localhost:8080/",
          "height": 206
        },
        "id": "VmfLKJwkCiij",
        "outputId": "4617f610-c675-47c7-aead-86dea0eac913"
      },
      "source": [
        "df2.head()"
      ],
      "execution_count": 22,
      "outputs": [
        {
          "output_type": "execute_result",
          "data": {
            "text/html": [
              "<div>\n",
              "<style scoped>\n",
              "    .dataframe tbody tr th:only-of-type {\n",
              "        vertical-align: middle;\n",
              "    }\n",
              "\n",
              "    .dataframe tbody tr th {\n",
              "        vertical-align: top;\n",
              "    }\n",
              "\n",
              "    .dataframe thead th {\n",
              "        text-align: right;\n",
              "    }\n",
              "</style>\n",
              "<table border=\"1\" class=\"dataframe\">\n",
              "  <thead>\n",
              "    <tr style=\"text-align: right;\">\n",
              "      <th></th>\n",
              "      <th>0</th>\n",
              "      <th>1</th>\n",
              "      <th>2</th>\n",
              "      <th>3</th>\n",
              "      <th>4</th>\n",
              "    </tr>\n",
              "  </thead>\n",
              "  <tbody>\n",
              "    <tr>\n",
              "      <th>0</th>\n",
              "      <td>Jason</td>\n",
              "      <td>Miller</td>\n",
              "      <td>42</td>\n",
              "      <td>4</td>\n",
              "      <td>25,000</td>\n",
              "    </tr>\n",
              "    <tr>\n",
              "      <th>1</th>\n",
              "      <td>Molly</td>\n",
              "      <td>Jacobson</td>\n",
              "      <td>52</td>\n",
              "      <td>24</td>\n",
              "      <td>94,000</td>\n",
              "    </tr>\n",
              "    <tr>\n",
              "      <th>2</th>\n",
              "      <td>Tina</td>\n",
              "      <td>.</td>\n",
              "      <td>36</td>\n",
              "      <td>31</td>\n",
              "      <td>57</td>\n",
              "    </tr>\n",
              "    <tr>\n",
              "      <th>3</th>\n",
              "      <td>Jake</td>\n",
              "      <td>Milner</td>\n",
              "      <td>24</td>\n",
              "      <td>.</td>\n",
              "      <td>62</td>\n",
              "    </tr>\n",
              "    <tr>\n",
              "      <th>4</th>\n",
              "      <td>Amy</td>\n",
              "      <td>Cooze</td>\n",
              "      <td>73</td>\n",
              "      <td>.</td>\n",
              "      <td>70</td>\n",
              "    </tr>\n",
              "  </tbody>\n",
              "</table>\n",
              "</div>"
            ],
            "text/plain": [
              "       0         1   2   3       4\n",
              "0  Jason    Miller  42   4  25,000\n",
              "1  Molly  Jacobson  52  24  94,000\n",
              "2   Tina         .  36  31      57\n",
              "3   Jake    Milner  24   .      62\n",
              "4    Amy     Cooze  73   .      70"
            ]
          },
          "metadata": {},
          "execution_count": 22
        }
      ]
    },
    {
      "cell_type": "markdown",
      "metadata": {
        "id": "Hmjkzqc-GZ4a"
      },
      "source": [
        "**5.5: Read the example.csv andmake the index columns as 'First Name’ and 'Last Name'**"
      ]
    },
    {
      "cell_type": "code",
      "metadata": {
        "id": "DDao4IujCiik"
      },
      "source": [
        "df3 = pd.read_csv(r'/content/example.csv', header = None, skiprows=[0], index_col=[0,1] )"
      ],
      "execution_count": 23,
      "outputs": []
    },
    {
      "cell_type": "code",
      "metadata": {
        "colab": {
          "base_uri": "https://localhost:8080/",
          "height": 237
        },
        "id": "1jBjQ1kHCiik",
        "outputId": "0a6e5dc8-4b9c-43ee-85e6-3e6db40114fd"
      },
      "source": [
        "df3"
      ],
      "execution_count": 24,
      "outputs": [
        {
          "output_type": "execute_result",
          "data": {
            "text/html": [
              "<div>\n",
              "<style scoped>\n",
              "    .dataframe tbody tr th:only-of-type {\n",
              "        vertical-align: middle;\n",
              "    }\n",
              "\n",
              "    .dataframe tbody tr th {\n",
              "        vertical-align: top;\n",
              "    }\n",
              "\n",
              "    .dataframe thead th {\n",
              "        text-align: right;\n",
              "    }\n",
              "</style>\n",
              "<table border=\"1\" class=\"dataframe\">\n",
              "  <thead>\n",
              "    <tr style=\"text-align: right;\">\n",
              "      <th></th>\n",
              "      <th></th>\n",
              "      <th>2</th>\n",
              "      <th>3</th>\n",
              "      <th>4</th>\n",
              "    </tr>\n",
              "    <tr>\n",
              "      <th>0</th>\n",
              "      <th>1</th>\n",
              "      <th></th>\n",
              "      <th></th>\n",
              "      <th></th>\n",
              "    </tr>\n",
              "  </thead>\n",
              "  <tbody>\n",
              "    <tr>\n",
              "      <th>Jason</th>\n",
              "      <th>Miller</th>\n",
              "      <td>42</td>\n",
              "      <td>4</td>\n",
              "      <td>25,000</td>\n",
              "    </tr>\n",
              "    <tr>\n",
              "      <th>Molly</th>\n",
              "      <th>Jacobson</th>\n",
              "      <td>52</td>\n",
              "      <td>24</td>\n",
              "      <td>94,000</td>\n",
              "    </tr>\n",
              "    <tr>\n",
              "      <th>Tina</th>\n",
              "      <th>.</th>\n",
              "      <td>36</td>\n",
              "      <td>31</td>\n",
              "      <td>57</td>\n",
              "    </tr>\n",
              "    <tr>\n",
              "      <th>Jake</th>\n",
              "      <th>Milner</th>\n",
              "      <td>24</td>\n",
              "      <td>.</td>\n",
              "      <td>62</td>\n",
              "    </tr>\n",
              "    <tr>\n",
              "      <th>Amy</th>\n",
              "      <th>Cooze</th>\n",
              "      <td>73</td>\n",
              "      <td>.</td>\n",
              "      <td>70</td>\n",
              "    </tr>\n",
              "  </tbody>\n",
              "</table>\n",
              "</div>"
            ],
            "text/plain": [
              "                 2   3       4\n",
              "0     1                       \n",
              "Jason Miller    42   4  25,000\n",
              "Molly Jacobson  52  24  94,000\n",
              "Tina  .         36  31      57\n",
              "Jake  Milner    24   .      62\n",
              "Amy   Cooze     73   .      70"
            ]
          },
          "metadata": {},
          "execution_count": 24
        }
      ]
    },
    {
      "cell_type": "code",
      "metadata": {
        "collapsed": true,
        "id": "8QBs5w9DCiik"
      },
      "source": [
        "df4 = pd.read_csv(r'/content/example.csv', index_col=[0,1] )"
      ],
      "execution_count": 25,
      "outputs": []
    },
    {
      "cell_type": "code",
      "metadata": {
        "colab": {
          "base_uri": "https://localhost:8080/",
          "height": 237
        },
        "id": "aH4BaV5ECiik",
        "outputId": "c6081610-1522-4f30-8228-888d82d59746"
      },
      "source": [
        "df4"
      ],
      "execution_count": 26,
      "outputs": [
        {
          "output_type": "execute_result",
          "data": {
            "text/html": [
              "<div>\n",
              "<style scoped>\n",
              "    .dataframe tbody tr th:only-of-type {\n",
              "        vertical-align: middle;\n",
              "    }\n",
              "\n",
              "    .dataframe tbody tr th {\n",
              "        vertical-align: top;\n",
              "    }\n",
              "\n",
              "    .dataframe thead th {\n",
              "        text-align: right;\n",
              "    }\n",
              "</style>\n",
              "<table border=\"1\" class=\"dataframe\">\n",
              "  <thead>\n",
              "    <tr style=\"text-align: right;\">\n",
              "      <th></th>\n",
              "      <th></th>\n",
              "      <th>age</th>\n",
              "      <th>preTestScore</th>\n",
              "      <th>postTestScore</th>\n",
              "    </tr>\n",
              "    <tr>\n",
              "      <th>first_name</th>\n",
              "      <th>last_name</th>\n",
              "      <th></th>\n",
              "      <th></th>\n",
              "      <th></th>\n",
              "    </tr>\n",
              "  </thead>\n",
              "  <tbody>\n",
              "    <tr>\n",
              "      <th>Jason</th>\n",
              "      <th>Miller</th>\n",
              "      <td>42</td>\n",
              "      <td>4</td>\n",
              "      <td>25,000</td>\n",
              "    </tr>\n",
              "    <tr>\n",
              "      <th>Molly</th>\n",
              "      <th>Jacobson</th>\n",
              "      <td>52</td>\n",
              "      <td>24</td>\n",
              "      <td>94,000</td>\n",
              "    </tr>\n",
              "    <tr>\n",
              "      <th>Tina</th>\n",
              "      <th>.</th>\n",
              "      <td>36</td>\n",
              "      <td>31</td>\n",
              "      <td>57</td>\n",
              "    </tr>\n",
              "    <tr>\n",
              "      <th>Jake</th>\n",
              "      <th>Milner</th>\n",
              "      <td>24</td>\n",
              "      <td>.</td>\n",
              "      <td>62</td>\n",
              "    </tr>\n",
              "    <tr>\n",
              "      <th>Amy</th>\n",
              "      <th>Cooze</th>\n",
              "      <td>73</td>\n",
              "      <td>.</td>\n",
              "      <td>70</td>\n",
              "    </tr>\n",
              "  </tbody>\n",
              "</table>\n",
              "</div>"
            ],
            "text/plain": [
              "                      age preTestScore postTestScore\n",
              "first_name last_name                                \n",
              "Jason      Miller      42            4        25,000\n",
              "Molly      Jacobson    52           24        94,000\n",
              "Tina       .           36           31            57\n",
              "Jake       Milner      24            .            62\n",
              "Amy        Cooze       73            .            70"
            ]
          },
          "metadata": {},
          "execution_count": 26
        }
      ]
    },
    {
      "cell_type": "markdown",
      "metadata": {
        "id": "bN6-50dlGp1S"
      },
      "source": [
        "**5.6:  Print  the  data  frame  in  a  Boolean  form  as  True  or  False.  True  for  Null/  NaN values and false for non-nullvalues**"
      ]
    },
    {
      "cell_type": "code",
      "metadata": {
        "scrolled": true,
        "colab": {
          "base_uri": "https://localhost:8080/",
          "height": 206
        },
        "id": "1D2LihO3Ciil",
        "outputId": "4c9f9a16-49a3-46a2-d1c0-f81f164748b0"
      },
      "source": [
        "df1.isnull()"
      ],
      "execution_count": 27,
      "outputs": [
        {
          "output_type": "execute_result",
          "data": {
            "text/html": [
              "<div>\n",
              "<style scoped>\n",
              "    .dataframe tbody tr th:only-of-type {\n",
              "        vertical-align: middle;\n",
              "    }\n",
              "\n",
              "    .dataframe tbody tr th {\n",
              "        vertical-align: top;\n",
              "    }\n",
              "\n",
              "    .dataframe thead th {\n",
              "        text-align: right;\n",
              "    }\n",
              "</style>\n",
              "<table border=\"1\" class=\"dataframe\">\n",
              "  <thead>\n",
              "    <tr style=\"text-align: right;\">\n",
              "      <th></th>\n",
              "      <th>first_name</th>\n",
              "      <th>last_name</th>\n",
              "      <th>age</th>\n",
              "      <th>preTestScore</th>\n",
              "      <th>postTestScore</th>\n",
              "    </tr>\n",
              "  </thead>\n",
              "  <tbody>\n",
              "    <tr>\n",
              "      <th>0</th>\n",
              "      <td>False</td>\n",
              "      <td>False</td>\n",
              "      <td>False</td>\n",
              "      <td>False</td>\n",
              "      <td>False</td>\n",
              "    </tr>\n",
              "    <tr>\n",
              "      <th>1</th>\n",
              "      <td>False</td>\n",
              "      <td>False</td>\n",
              "      <td>False</td>\n",
              "      <td>False</td>\n",
              "      <td>False</td>\n",
              "    </tr>\n",
              "    <tr>\n",
              "      <th>2</th>\n",
              "      <td>False</td>\n",
              "      <td>False</td>\n",
              "      <td>False</td>\n",
              "      <td>False</td>\n",
              "      <td>False</td>\n",
              "    </tr>\n",
              "    <tr>\n",
              "      <th>3</th>\n",
              "      <td>False</td>\n",
              "      <td>False</td>\n",
              "      <td>False</td>\n",
              "      <td>False</td>\n",
              "      <td>False</td>\n",
              "    </tr>\n",
              "    <tr>\n",
              "      <th>4</th>\n",
              "      <td>False</td>\n",
              "      <td>False</td>\n",
              "      <td>False</td>\n",
              "      <td>False</td>\n",
              "      <td>False</td>\n",
              "    </tr>\n",
              "  </tbody>\n",
              "</table>\n",
              "</div>"
            ],
            "text/plain": [
              "   first_name  last_name    age  preTestScore  postTestScore\n",
              "0       False      False  False         False          False\n",
              "1       False      False  False         False          False\n",
              "2       False      False  False         False          False\n",
              "3       False      False  False         False          False\n",
              "4       False      False  False         False          False"
            ]
          },
          "metadata": {},
          "execution_count": 27
        }
      ]
    },
    {
      "cell_type": "markdown",
      "metadata": {
        "id": "LrWQLH_TG4C9"
      },
      "source": [
        "**5.7: Read the dataframe by skipping first 3 rows and print the data frame**"
      ]
    },
    {
      "cell_type": "code",
      "metadata": {
        "id": "8tfKu2aLCiil"
      },
      "source": [
        "df5 = pd.read_csv(r'/content/example.csv', skiprows=[1, 2,3] )"
      ],
      "execution_count": 28,
      "outputs": []
    },
    {
      "cell_type": "code",
      "metadata": {
        "colab": {
          "base_uri": "https://localhost:8080/",
          "height": 112
        },
        "id": "TK39fi3mCiin",
        "outputId": "bdb55c4c-7d52-4496-bb83-1a12c907e348"
      },
      "source": [
        "df5"
      ],
      "execution_count": 29,
      "outputs": [
        {
          "output_type": "execute_result",
          "data": {
            "text/html": [
              "<div>\n",
              "<style scoped>\n",
              "    .dataframe tbody tr th:only-of-type {\n",
              "        vertical-align: middle;\n",
              "    }\n",
              "\n",
              "    .dataframe tbody tr th {\n",
              "        vertical-align: top;\n",
              "    }\n",
              "\n",
              "    .dataframe thead th {\n",
              "        text-align: right;\n",
              "    }\n",
              "</style>\n",
              "<table border=\"1\" class=\"dataframe\">\n",
              "  <thead>\n",
              "    <tr style=\"text-align: right;\">\n",
              "      <th></th>\n",
              "      <th>first_name</th>\n",
              "      <th>last_name</th>\n",
              "      <th>age</th>\n",
              "      <th>preTestScore</th>\n",
              "      <th>postTestScore</th>\n",
              "    </tr>\n",
              "  </thead>\n",
              "  <tbody>\n",
              "    <tr>\n",
              "      <th>0</th>\n",
              "      <td>Jake</td>\n",
              "      <td>Milner</td>\n",
              "      <td>24</td>\n",
              "      <td>.</td>\n",
              "      <td>62</td>\n",
              "    </tr>\n",
              "    <tr>\n",
              "      <th>1</th>\n",
              "      <td>Amy</td>\n",
              "      <td>Cooze</td>\n",
              "      <td>73</td>\n",
              "      <td>.</td>\n",
              "      <td>70</td>\n",
              "    </tr>\n",
              "  </tbody>\n",
              "</table>\n",
              "</div>"
            ],
            "text/plain": [
              "  first_name last_name  age preTestScore  postTestScore\n",
              "0       Jake    Milner   24            .             62\n",
              "1        Amy     Cooze   73            .             70"
            ]
          },
          "metadata": {},
          "execution_count": 29
        }
      ]
    },
    {
      "cell_type": "code",
      "metadata": {
        "id": "JPpJEqYhCiin"
      },
      "source": [
        "pd.read_csv?"
      ],
      "execution_count": 30,
      "outputs": []
    },
    {
      "cell_type": "markdown",
      "metadata": {
        "id": "ZcRV_1_aG8oj"
      },
      "source": [
        "**5.8: Load a csv file while interpreting \",\" in strings around numbers as thousands seperators. Check the raw data 'postTestScore' column has, as thousands separator.**"
      ]
    },
    {
      "cell_type": "code",
      "metadata": {
        "collapsed": true,
        "id": "Yq62g-TQCiin"
      },
      "source": [
        "df6 = pd.read_csv(r'/content/example.csv', thousands = ',')"
      ],
      "execution_count": 31,
      "outputs": []
    },
    {
      "cell_type": "code",
      "metadata": {
        "colab": {
          "base_uri": "https://localhost:8080/",
          "height": 206
        },
        "id": "owpYVW86Ciin",
        "outputId": "e64bde86-2b62-4e1a-8034-9ae2c8059017"
      },
      "source": [
        "df6"
      ],
      "execution_count": 32,
      "outputs": [
        {
          "output_type": "execute_result",
          "data": {
            "text/html": [
              "<div>\n",
              "<style scoped>\n",
              "    .dataframe tbody tr th:only-of-type {\n",
              "        vertical-align: middle;\n",
              "    }\n",
              "\n",
              "    .dataframe tbody tr th {\n",
              "        vertical-align: top;\n",
              "    }\n",
              "\n",
              "    .dataframe thead th {\n",
              "        text-align: right;\n",
              "    }\n",
              "</style>\n",
              "<table border=\"1\" class=\"dataframe\">\n",
              "  <thead>\n",
              "    <tr style=\"text-align: right;\">\n",
              "      <th></th>\n",
              "      <th>first_name</th>\n",
              "      <th>last_name</th>\n",
              "      <th>age</th>\n",
              "      <th>preTestScore</th>\n",
              "      <th>postTestScore</th>\n",
              "    </tr>\n",
              "  </thead>\n",
              "  <tbody>\n",
              "    <tr>\n",
              "      <th>0</th>\n",
              "      <td>Jason</td>\n",
              "      <td>Miller</td>\n",
              "      <td>42</td>\n",
              "      <td>4</td>\n",
              "      <td>25000</td>\n",
              "    </tr>\n",
              "    <tr>\n",
              "      <th>1</th>\n",
              "      <td>Molly</td>\n",
              "      <td>Jacobson</td>\n",
              "      <td>52</td>\n",
              "      <td>24</td>\n",
              "      <td>94000</td>\n",
              "    </tr>\n",
              "    <tr>\n",
              "      <th>2</th>\n",
              "      <td>Tina</td>\n",
              "      <td>.</td>\n",
              "      <td>36</td>\n",
              "      <td>31</td>\n",
              "      <td>57</td>\n",
              "    </tr>\n",
              "    <tr>\n",
              "      <th>3</th>\n",
              "      <td>Jake</td>\n",
              "      <td>Milner</td>\n",
              "      <td>24</td>\n",
              "      <td>.</td>\n",
              "      <td>62</td>\n",
              "    </tr>\n",
              "    <tr>\n",
              "      <th>4</th>\n",
              "      <td>Amy</td>\n",
              "      <td>Cooze</td>\n",
              "      <td>73</td>\n",
              "      <td>.</td>\n",
              "      <td>70</td>\n",
              "    </tr>\n",
              "  </tbody>\n",
              "</table>\n",
              "</div>"
            ],
            "text/plain": [
              "  first_name last_name  age preTestScore  postTestScore\n",
              "0      Jason    Miller   42            4          25000\n",
              "1      Molly  Jacobson   52           24          94000\n",
              "2       Tina         .   36           31             57\n",
              "3       Jake    Milner   24            .             62\n",
              "4        Amy     Cooze   73            .             70"
            ]
          },
          "metadata": {},
          "execution_count": 32
        }
      ]
    },
    {
      "cell_type": "markdown",
      "metadata": {
        "id": "OH8T7PVTHv6Z"
      },
      "source": [
        "#### **6.Perform Operations on Files**"
      ]
    },
    {
      "cell_type": "markdown",
      "metadata": {
        "id": "Mg84j817IG6i"
      },
      "source": [
        "##### **6.1: From the raw data below create a Pandas Series**\n",
        "    'Amit', 'Bob', 'Kate', 'A', 'b', np.nan, 'Car', 'dog', 'cat'"
      ]
    },
    {
      "cell_type": "code",
      "metadata": {
        "id": "Tc6--dw5Ciin"
      },
      "source": [
        "pds = pd.Series(['Amit','Bob', 'Kate', 'A', 'b', np.nan, 'Car', 'dog', 'cat'])"
      ],
      "execution_count": 33,
      "outputs": []
    },
    {
      "cell_type": "code",
      "metadata": {
        "colab": {
          "base_uri": "https://localhost:8080/",
          "height": 0
        },
        "id": "fPaYhUJrCiin",
        "outputId": "5fe7970e-68c0-47da-e3b1-0933bc8458d9"
      },
      "source": [
        "type(pds)"
      ],
      "execution_count": 34,
      "outputs": [
        {
          "output_type": "execute_result",
          "data": {
            "text/plain": [
              "pandas.core.series.Series"
            ]
          },
          "metadata": {},
          "execution_count": 34
        }
      ]
    },
    {
      "cell_type": "code",
      "metadata": {
        "colab": {
          "base_uri": "https://localhost:8080/",
          "height": 0
        },
        "id": "luDQHR2BCiio",
        "outputId": "dd8769a5-925d-49e0-acf7-3133bbb4cbb8"
      },
      "source": [
        "pds.apply(str).apply(lambda x: x.lower())"
      ],
      "execution_count": 35,
      "outputs": [
        {
          "output_type": "execute_result",
          "data": {
            "text/plain": [
              "0    amit\n",
              "1     bob\n",
              "2    kate\n",
              "3       a\n",
              "4       b\n",
              "5     nan\n",
              "6     car\n",
              "7     dog\n",
              "8     cat\n",
              "dtype: object"
            ]
          },
          "metadata": {},
          "execution_count": 35
        }
      ]
    },
    {
      "cell_type": "markdown",
      "metadata": {
        "id": "6nrYBKVkITdu"
      },
      "source": [
        "**a) Print all elements in lower case**"
      ]
    },
    {
      "cell_type": "code",
      "metadata": {
        "colab": {
          "base_uri": "https://localhost:8080/",
          "height": 0
        },
        "id": "mYhEMqDQCiio",
        "outputId": "8dcd2ce0-49e0-4214-cf1a-9d2f0df206fe"
      },
      "source": [
        "pds.str.lower()"
      ],
      "execution_count": 36,
      "outputs": [
        {
          "output_type": "execute_result",
          "data": {
            "text/plain": [
              "0    amit\n",
              "1     bob\n",
              "2    kate\n",
              "3       a\n",
              "4       b\n",
              "5     NaN\n",
              "6     car\n",
              "7     dog\n",
              "8     cat\n",
              "dtype: object"
            ]
          },
          "metadata": {},
          "execution_count": 36
        }
      ]
    },
    {
      "cell_type": "markdown",
      "metadata": {
        "id": "DhQCzr8KIa5V"
      },
      "source": [
        "**b) Print all the elements in upper case**"
      ]
    },
    {
      "cell_type": "code",
      "metadata": {
        "colab": {
          "base_uri": "https://localhost:8080/",
          "height": 0
        },
        "id": "mrJm7EohCiio",
        "outputId": "bff24bae-fbf0-4429-adf6-48c75412ef9c"
      },
      "source": [
        "pds.apply(str).apply(lambda x: x.upper())"
      ],
      "execution_count": 37,
      "outputs": [
        {
          "output_type": "execute_result",
          "data": {
            "text/plain": [
              "0    AMIT\n",
              "1     BOB\n",
              "2    KATE\n",
              "3       A\n",
              "4       B\n",
              "5     NAN\n",
              "6     CAR\n",
              "7     DOG\n",
              "8     CAT\n",
              "dtype: object"
            ]
          },
          "metadata": {},
          "execution_count": 37
        }
      ]
    },
    {
      "cell_type": "code",
      "metadata": {
        "colab": {
          "base_uri": "https://localhost:8080/",
          "height": 0
        },
        "id": "ZKAqI9mOCiio",
        "outputId": "96899fc8-a29c-426a-e218-1f106f4173f6"
      },
      "source": [
        "pds.str.upper()"
      ],
      "execution_count": 38,
      "outputs": [
        {
          "output_type": "execute_result",
          "data": {
            "text/plain": [
              "0    AMIT\n",
              "1     BOB\n",
              "2    KATE\n",
              "3       A\n",
              "4       B\n",
              "5     NaN\n",
              "6     CAR\n",
              "7     DOG\n",
              "8     CAT\n",
              "dtype: object"
            ]
          },
          "metadata": {},
          "execution_count": 38
        }
      ]
    },
    {
      "cell_type": "markdown",
      "metadata": {
        "id": "QYEM8PocIjmM"
      },
      "source": [
        "**c) Print the length of all the elements**"
      ]
    },
    {
      "cell_type": "code",
      "metadata": {
        "colab": {
          "base_uri": "https://localhost:8080/",
          "height": 0
        },
        "id": "Va8FrKOWCiip",
        "outputId": "03ee556c-009d-4ad8-d8dd-31b381733a88"
      },
      "source": [
        "#6.1-c\n",
        "pds.str.len()"
      ],
      "execution_count": 39,
      "outputs": [
        {
          "output_type": "execute_result",
          "data": {
            "text/plain": [
              "0    4.0\n",
              "1    3.0\n",
              "2    4.0\n",
              "3    1.0\n",
              "4    1.0\n",
              "5    NaN\n",
              "6    3.0\n",
              "7    3.0\n",
              "8    3.0\n",
              "dtype: float64"
            ]
          },
          "metadata": {},
          "execution_count": 39
        }
      ]
    },
    {
      "cell_type": "markdown",
      "metadata": {
        "id": "l4s19ogzIqHW"
      },
      "source": [
        "##### **6.2: From the raw data below create a Pandas Series**\n",
        "    ' Atul', 'John ', ' jack ', 'Sam'"
      ]
    },
    {
      "cell_type": "code",
      "metadata": {
        "collapsed": true,
        "id": "-nsJp7HoCiip"
      },
      "source": [
        "pds = pd.Series([' Atul', 'John ', ' jack ', 'Sam'])"
      ],
      "execution_count": 40,
      "outputs": []
    },
    {
      "cell_type": "code",
      "metadata": {
        "colab": {
          "base_uri": "https://localhost:8080/",
          "height": 34
        },
        "id": "ZvZJvfz4Ciip",
        "outputId": "940cfc92-e60d-4ff0-98a0-a5f856f8eaf3"
      },
      "source": [
        "' Amit '.strip()"
      ],
      "execution_count": 41,
      "outputs": [
        {
          "output_type": "execute_result",
          "data": {
            "application/vnd.google.colaboratory.intrinsic+json": {
              "type": "string"
            },
            "text/plain": [
              "'Amit'"
            ]
          },
          "metadata": {},
          "execution_count": 41
        }
      ]
    },
    {
      "cell_type": "markdown",
      "metadata": {
        "id": "_boYCfZJI7Fb"
      },
      "source": [
        "**a) Print all elements after stripping spaces from the left and right.**"
      ]
    },
    {
      "cell_type": "code",
      "metadata": {
        "colab": {
          "base_uri": "https://localhost:8080/",
          "height": 0
        },
        "id": "Tpbn7kzbCiiq",
        "outputId": "abf5a1bc-899d-43f3-d0df-cd7d461bfd12"
      },
      "source": [
        "pds.map(lambda x: str(x).strip())"
      ],
      "execution_count": 42,
      "outputs": [
        {
          "output_type": "execute_result",
          "data": {
            "text/plain": [
              "0    Atul\n",
              "1    John\n",
              "2    jack\n",
              "3     Sam\n",
              "dtype: object"
            ]
          },
          "metadata": {},
          "execution_count": 42
        }
      ]
    },
    {
      "cell_type": "markdown",
      "metadata": {
        "id": "mNTX-rEfJDz4"
      },
      "source": [
        "**b) Print all the elements after removing spaces from the left only**"
      ]
    },
    {
      "cell_type": "code",
      "metadata": {
        "colab": {
          "base_uri": "https://localhost:8080/",
          "height": 0
        },
        "id": "7yybnFfCCiiq",
        "outputId": "b538204f-c1e9-488f-8616-85cb5283e52f"
      },
      "source": [
        "\n",
        "pds.map(lambda x: str(x).lstrip())\n"
      ],
      "execution_count": 43,
      "outputs": [
        {
          "output_type": "execute_result",
          "data": {
            "text/plain": [
              "0     Atul\n",
              "1    John \n",
              "2    jack \n",
              "3      Sam\n",
              "dtype: object"
            ]
          },
          "metadata": {},
          "execution_count": 43
        }
      ]
    },
    {
      "cell_type": "markdown",
      "metadata": {
        "id": "LdFPkRzQJKQK"
      },
      "source": [
        "**c) Print all the elements after removing spaces from the right only**"
      ]
    },
    {
      "cell_type": "code",
      "metadata": {
        "colab": {
          "base_uri": "https://localhost:8080/",
          "height": 0
        },
        "id": "VP8R75MXCiiq",
        "outputId": "72c6d71f-37a7-44a3-8a2d-8c477ec2b115"
      },
      "source": [
        "\n",
        "pds.map(lambda x: str(x).rstrip())\n"
      ],
      "execution_count": 44,
      "outputs": [
        {
          "output_type": "execute_result",
          "data": {
            "text/plain": [
              "0     Atul\n",
              "1     John\n",
              "2     jack\n",
              "3      Sam\n",
              "dtype: object"
            ]
          },
          "metadata": {},
          "execution_count": 44
        }
      ]
    },
    {
      "cell_type": "markdown",
      "metadata": {
        "id": "5JEAFPytKLt8"
      },
      "source": [
        "##### **6.3: -Create a series from the raw data below**\n",
        "    'India_is_big', 'Population_is_huge', np.nan, 'Has_diverse_culture'\n"
      ]
    },
    {
      "cell_type": "code",
      "metadata": {
        "collapsed": true,
        "id": "dDb0injCCiiq"
      },
      "source": [
        "pds = pd.Series(['India_is_big', 'Population_is_huge', np.nan, 'Has_diverse_culture'])"
      ],
      "execution_count": 45,
      "outputs": []
    },
    {
      "cell_type": "markdown",
      "metadata": {
        "id": "qzwZ6BVKKVvt"
      },
      "source": [
        "**a) split the individual strings wherever ‘_’ comes and create a list out of it.**"
      ]
    },
    {
      "cell_type": "code",
      "metadata": {
        "id": "o3s2C9DZCiir"
      },
      "source": [
        "pds1= pds.str.split('_')"
      ],
      "execution_count": 46,
      "outputs": []
    },
    {
      "cell_type": "markdown",
      "metadata": {
        "id": "e3Gb1LuDKaZg"
      },
      "source": [
        "**b) Access the individual element of a list**"
      ]
    },
    {
      "cell_type": "code",
      "metadata": {
        "colab": {
          "base_uri": "https://localhost:8080/",
          "height": 0
        },
        "id": "tbYbRvXdCiir",
        "outputId": "f88228e4-c067-4731-a6f3-1d229889b339"
      },
      "source": [
        "for i in range(len(pds1)):\n",
        "    print(pds[i])"
      ],
      "execution_count": 47,
      "outputs": [
        {
          "output_type": "stream",
          "name": "stdout",
          "text": [
            "India_is_big\n",
            "Population_is_huge\n",
            "nan\n",
            "Has_diverse_culture\n"
          ]
        }
      ]
    },
    {
      "cell_type": "markdown",
      "metadata": {
        "id": "0IN7KhSUKgxt"
      },
      "source": [
        "**c) Expand the elements so that all individual elements get splitted by ‘_’ and insted of list returns individual elements**"
      ]
    },
    {
      "cell_type": "code",
      "metadata": {
        "id": "JTz9DNUqCiir"
      },
      "source": [
        "flatten_items = [item for ls in pds1 if isinstance(ls, list) for item in ls]"
      ],
      "execution_count": 48,
      "outputs": []
    },
    {
      "cell_type": "markdown",
      "metadata": {
        "id": "oYgD3voDJU9P"
      },
      "source": [
        "##### **6.4: Create a series and replace either X or dog with XX-XX**\n",
        "    'A', 'B', 'C', 'AabX', 'BacX','', np.nan, 'CABA', 'dog', 'cat'"
      ]
    },
    {
      "cell_type": "code",
      "metadata": {
        "id": "WV4DzSLACiir"
      },
      "source": [
        "pds = pd.Series(['A', 'B', 'C', 'AabX', 'BacX','', np.nan, 'CABA', 'dog', 'cat'])"
      ],
      "execution_count": 49,
      "outputs": []
    },
    {
      "cell_type": "code",
      "metadata": {
        "colab": {
          "base_uri": "https://localhost:8080/",
          "height": 0
        },
        "id": "fv3zg7FCCiis",
        "outputId": "424a58e4-ea24-4242-d9c8-5ae87e636fc3"
      },
      "source": [
        "\n",
        "pds.str.replace('X', 'XX-XX').replace('dog', 'XX-XX')\n"
      ],
      "execution_count": 50,
      "outputs": [
        {
          "output_type": "execute_result",
          "data": {
            "text/plain": [
              "0           A\n",
              "1           B\n",
              "2           C\n",
              "3    AabXX-XX\n",
              "4    BacXX-XX\n",
              "5            \n",
              "6         NaN\n",
              "7        CABA\n",
              "8       XX-XX\n",
              "9         cat\n",
              "dtype: object"
            ]
          },
          "metadata": {},
          "execution_count": 50
        }
      ]
    },
    {
      "cell_type": "markdown",
      "metadata": {
        "id": "_8W_tBL1JeL6"
      },
      "source": [
        "##### **6.5: Create a series and remove dollar from the numeric values**\n",
        "    '12', '-$10', '$10,000'"
      ]
    },
    {
      "cell_type": "code",
      "metadata": {
        "id": "alETsLm5Ciis"
      },
      "source": [
        "dollar = pd.Series(['12', '-$10', '$10,000'])"
      ],
      "execution_count": 51,
      "outputs": []
    },
    {
      "cell_type": "code",
      "metadata": {
        "colab": {
          "base_uri": "https://localhost:8080/",
          "height": 0
        },
        "id": "7jJTTAyXCiis",
        "outputId": "095d2b5c-a5b0-4c5c-ea67-8ab5d81fb73f"
      },
      "source": [
        "dollar.str.replace('$', '')"
      ],
      "execution_count": 52,
      "outputs": [
        {
          "output_type": "execute_result",
          "data": {
            "text/plain": [
              "0        12\n",
              "1       -10\n",
              "2    10,000\n",
              "dtype: object"
            ]
          },
          "metadata": {},
          "execution_count": 52
        }
      ]
    },
    {
      "cell_type": "markdown",
      "metadata": {
        "id": "m1Vt74FuJnId"
      },
      "source": [
        "##### **6.6:-Create a series and reverse all lower case words**\n",
        "    'india 1998', 'big country', np.nan"
      ]
    },
    {
      "cell_type": "code",
      "metadata": {
        "collapsed": true,
        "id": "wpw1x97tCiis"
      },
      "source": [
        "remove_lower = pd.Series(['India 1998', 'big country', np.nan])"
      ],
      "execution_count": 53,
      "outputs": []
    },
    {
      "cell_type": "code",
      "metadata": {
        "id": "iLT9LZsNCiis"
      },
      "source": [
        "def reverse(name):\n",
        "    return ''.join(c.lower() if c.isupper() else c.upper() for c in name)"
      ],
      "execution_count": 54,
      "outputs": []
    },
    {
      "cell_type": "markdown",
      "metadata": {
        "id": "bHyV-c_bKusk"
      },
      "source": [
        "##### **6.7: Create pandas series and print true if value is alphanumeric in series or false if value is not alpha numeric in series.**\n",
        "    '1', '2', '1a', '2b', '2003c'"
      ]
    },
    {
      "cell_type": "code",
      "metadata": {
        "id": "WCBVBW9TCiit"
      },
      "source": [
        "alpha = pd.Series(['1', '2', '1a', '2b', '2003c'])"
      ],
      "execution_count": 55,
      "outputs": []
    },
    {
      "cell_type": "code",
      "metadata": {
        "colab": {
          "base_uri": "https://localhost:8080/",
          "height": 0
        },
        "id": "7tiWLnfUCiit",
        "outputId": "43387dc2-aaef-4584-b948-8f78d50a07a9"
      },
      "source": [
        "alpha.str.isalnum()"
      ],
      "execution_count": 56,
      "outputs": [
        {
          "output_type": "execute_result",
          "data": {
            "text/plain": [
              "0    True\n",
              "1    True\n",
              "2    True\n",
              "3    True\n",
              "4    True\n",
              "dtype: bool"
            ]
          },
          "metadata": {},
          "execution_count": 56
        }
      ]
    },
    {
      "cell_type": "markdown",
      "metadata": {
        "id": "sgGM5dcxK7Ff"
      },
      "source": [
        "##### **6.8: Create pandas series and print true if value is containing ‘A’**\n",
        "    '1', '2', '1a', '2b', 'America', 'VietnAm','vietnam', '2003c'"
      ]
    },
    {
      "cell_type": "code",
      "metadata": {
        "id": "s7uIiIemCiiu"
      },
      "source": [
        "aseries = pd.Series(['1', '2', '1a', '2b', 'America', 'VietnAm','vietnam', '2003c'])\n"
      ],
      "execution_count": 57,
      "outputs": []
    },
    {
      "cell_type": "code",
      "metadata": {
        "colab": {
          "base_uri": "https://localhost:8080/",
          "height": 0
        },
        "id": "RQX5WGbKCiiu",
        "outputId": "9eae4ddb-b87a-4d82-c46b-98d32e0807a4"
      },
      "source": [
        "def checkA(text):\n",
        "    return 'A' in text\n",
        "aseries.apply(checkA)"
      ],
      "execution_count": 58,
      "outputs": [
        {
          "output_type": "execute_result",
          "data": {
            "text/plain": [
              "0    False\n",
              "1    False\n",
              "2    False\n",
              "3    False\n",
              "4     True\n",
              "5     True\n",
              "6    False\n",
              "7    False\n",
              "dtype: bool"
            ]
          },
          "metadata": {},
          "execution_count": 58
        }
      ]
    },
    {
      "cell_type": "markdown",
      "metadata": {
        "id": "J31eaQPELdaE"
      },
      "source": [
        "##### **6.9: Create pandas series and print in three columns value 0 or 1 is a or b or c exists in values**\n",
        "      'a', 'a|b', np.nan, 'a|c'"
      ]
    },
    {
      "cell_type": "code",
      "metadata": {
        "id": "9MYiWPJXCiiu"
      },
      "source": [
        "existSeries = pd.Series(['a', 'a|b', np.nan, 'a|c'])"
      ],
      "execution_count": 59,
      "outputs": []
    },
    {
      "cell_type": "code",
      "metadata": {
        "collapsed": true,
        "id": "uz9yI2G6Ciiu"
      },
      "source": [
        "def checkabc(text):\n",
        "    check = list('abc')\n",
        "    return any(x in text for x in check)"
      ],
      "execution_count": 60,
      "outputs": []
    },
    {
      "cell_type": "markdown",
      "metadata": {
        "id": "HP__9E61LPMS"
      },
      "source": [
        "##### **6.10: Create pandas dataframe having keys and ltable and rtable as below -**\n",
        "    'key': ['One', 'Two'], 'ltable': [1, 2]\n",
        "    'key': ['One', 'Two'], 'rtable': [4, 5]\n",
        "    \n",
        "***Merge both the tables based of key***"
      ]
    },
    {
      "cell_type": "code",
      "metadata": {
        "id": "F8lpSivkCiiv"
      },
      "source": [
        "lt = pd.DataFrame({'key': ['One', 'Two'], 'ltable': [1, 2]}).set_index('key')\n",
        "rt = pd.DataFrame({'key': ['One', 'Two'], 'rtable': [4, 5]}).set_index('key')"
      ],
      "execution_count": 61,
      "outputs": []
    },
    {
      "cell_type": "code",
      "metadata": {
        "colab": {
          "base_uri": "https://localhost:8080/",
          "height": 144
        },
        "id": "SyWeZUVnCiiv",
        "outputId": "1ed2b0c7-3d09-40df-e759-7471558e8a4e"
      },
      "source": [
        "lt.join(rt, on = 'key')"
      ],
      "execution_count": 62,
      "outputs": [
        {
          "output_type": "execute_result",
          "data": {
            "text/html": [
              "<div>\n",
              "<style scoped>\n",
              "    .dataframe tbody tr th:only-of-type {\n",
              "        vertical-align: middle;\n",
              "    }\n",
              "\n",
              "    .dataframe tbody tr th {\n",
              "        vertical-align: top;\n",
              "    }\n",
              "\n",
              "    .dataframe thead th {\n",
              "        text-align: right;\n",
              "    }\n",
              "</style>\n",
              "<table border=\"1\" class=\"dataframe\">\n",
              "  <thead>\n",
              "    <tr style=\"text-align: right;\">\n",
              "      <th></th>\n",
              "      <th>ltable</th>\n",
              "      <th>rtable</th>\n",
              "    </tr>\n",
              "    <tr>\n",
              "      <th>key</th>\n",
              "      <th></th>\n",
              "      <th></th>\n",
              "    </tr>\n",
              "  </thead>\n",
              "  <tbody>\n",
              "    <tr>\n",
              "      <th>One</th>\n",
              "      <td>1</td>\n",
              "      <td>4</td>\n",
              "    </tr>\n",
              "    <tr>\n",
              "      <th>Two</th>\n",
              "      <td>2</td>\n",
              "      <td>5</td>\n",
              "    </tr>\n",
              "  </tbody>\n",
              "</table>\n",
              "</div>"
            ],
            "text/plain": [
              "     ltable  rtable\n",
              "key                \n",
              "One       1       4\n",
              "Two       2       5"
            ]
          },
          "metadata": {},
          "execution_count": 62
        }
      ]
    },
    {
      "cell_type": "code",
      "metadata": {
        "collapsed": true,
        "id": "fY8Y5WGlCiiv"
      },
      "source": [
        ""
      ],
      "execution_count": 62,
      "outputs": []
    },
    {
      "cell_type": "code",
      "metadata": {
        "collapsed": true,
        "id": "EYNtHxQYCiiw"
      },
      "source": [
        ""
      ],
      "execution_count": 62,
      "outputs": []
    }
  ]
}
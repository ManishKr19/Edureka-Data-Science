{
  "nbformat": 4,
  "nbformat_minor": 0,
  "metadata": {
    "colab": {
      "name": "case_2_logistic_regression_TCS.ipynb",
      "provenance": [],
      "collapsed_sections": [],
      "include_colab_link": true
    },
    "kernelspec": {
      "name": "python3",
      "display_name": "Python 3"
    },
    "language_info": {
      "name": "python"
    }
  },
  "cells": [
    {
      "cell_type": "markdown",
      "metadata": {
        "id": "view-in-github",
        "colab_type": "text"
      },
      "source": [
        "<a href=\"https://colab.research.google.com/github/ManishKr19/Edureka-Data-Science/blob/main/case_2_logistic_regression_TCS.ipynb\" target=\"_parent\"><img src=\"https://colab.research.google.com/assets/colab-badge.svg\" alt=\"Open In Colab\"/></a>"
      ]
    },
    {
      "cell_type": "code",
      "metadata": {
        "id": "VrDesDRpPP1D"
      },
      "source": [
        "import pandas as pd\n",
        "import matplotlib.pyplot as plt\n",
        "import seaborn as sns\n",
        "import numpy as np\n",
        "from sklearn.model_selection import train_test_split\n",
        "from sklearn.linear_model import LogisticRegression\n",
        "from sklearn.tree import DecisionTreeClassifier"
      ],
      "execution_count": null,
      "outputs": []
    },
    {
      "cell_type": "code",
      "metadata": {
        "colab": {
          "base_uri": "https://localhost:8080/",
          "height": 223
        },
        "id": "sPTQMVCGQLXo",
        "outputId": "e8d3df14-2475-4e54-e690-c8639201a0df"
      },
      "source": [
        "df = pd.read_csv(r\"/content/voice.csv\")\n",
        "df.head()"
      ],
      "execution_count": null,
      "outputs": [
        {
          "output_type": "execute_result",
          "data": {
            "text/html": [
              "<div>\n",
              "<style scoped>\n",
              "    .dataframe tbody tr th:only-of-type {\n",
              "        vertical-align: middle;\n",
              "    }\n",
              "\n",
              "    .dataframe tbody tr th {\n",
              "        vertical-align: top;\n",
              "    }\n",
              "\n",
              "    .dataframe thead th {\n",
              "        text-align: right;\n",
              "    }\n",
              "</style>\n",
              "<table border=\"1\" class=\"dataframe\">\n",
              "  <thead>\n",
              "    <tr style=\"text-align: right;\">\n",
              "      <th></th>\n",
              "      <th>meanfreq</th>\n",
              "      <th>sd</th>\n",
              "      <th>median</th>\n",
              "      <th>Q25</th>\n",
              "      <th>Q75</th>\n",
              "      <th>IQR</th>\n",
              "      <th>skew</th>\n",
              "      <th>kurt</th>\n",
              "      <th>sp.ent</th>\n",
              "      <th>sfm</th>\n",
              "      <th>mode</th>\n",
              "      <th>centroid</th>\n",
              "      <th>meanfun</th>\n",
              "      <th>minfun</th>\n",
              "      <th>maxfun</th>\n",
              "      <th>meandom</th>\n",
              "      <th>mindom</th>\n",
              "      <th>maxdom</th>\n",
              "      <th>dfrange</th>\n",
              "      <th>modindx</th>\n",
              "      <th>label</th>\n",
              "    </tr>\n",
              "  </thead>\n",
              "  <tbody>\n",
              "    <tr>\n",
              "      <th>0</th>\n",
              "      <td>0.059781</td>\n",
              "      <td>0.064241</td>\n",
              "      <td>0.032027</td>\n",
              "      <td>0.015071</td>\n",
              "      <td>0.090193</td>\n",
              "      <td>0.075122</td>\n",
              "      <td>12.863462</td>\n",
              "      <td>274.402906</td>\n",
              "      <td>0.893369</td>\n",
              "      <td>0.491918</td>\n",
              "      <td>0.000000</td>\n",
              "      <td>0.059781</td>\n",
              "      <td>0.084279</td>\n",
              "      <td>0.015702</td>\n",
              "      <td>0.275862</td>\n",
              "      <td>0.007812</td>\n",
              "      <td>0.007812</td>\n",
              "      <td>0.007812</td>\n",
              "      <td>0.000000</td>\n",
              "      <td>0.000000</td>\n",
              "      <td>male</td>\n",
              "    </tr>\n",
              "    <tr>\n",
              "      <th>1</th>\n",
              "      <td>0.066009</td>\n",
              "      <td>0.067310</td>\n",
              "      <td>0.040229</td>\n",
              "      <td>0.019414</td>\n",
              "      <td>0.092666</td>\n",
              "      <td>0.073252</td>\n",
              "      <td>22.423285</td>\n",
              "      <td>634.613855</td>\n",
              "      <td>0.892193</td>\n",
              "      <td>0.513724</td>\n",
              "      <td>0.000000</td>\n",
              "      <td>0.066009</td>\n",
              "      <td>0.107937</td>\n",
              "      <td>0.015826</td>\n",
              "      <td>0.250000</td>\n",
              "      <td>0.009014</td>\n",
              "      <td>0.007812</td>\n",
              "      <td>0.054688</td>\n",
              "      <td>0.046875</td>\n",
              "      <td>0.052632</td>\n",
              "      <td>male</td>\n",
              "    </tr>\n",
              "    <tr>\n",
              "      <th>2</th>\n",
              "      <td>0.077316</td>\n",
              "      <td>0.083829</td>\n",
              "      <td>0.036718</td>\n",
              "      <td>0.008701</td>\n",
              "      <td>0.131908</td>\n",
              "      <td>0.123207</td>\n",
              "      <td>30.757155</td>\n",
              "      <td>1024.927705</td>\n",
              "      <td>0.846389</td>\n",
              "      <td>0.478905</td>\n",
              "      <td>0.000000</td>\n",
              "      <td>0.077316</td>\n",
              "      <td>0.098706</td>\n",
              "      <td>0.015656</td>\n",
              "      <td>0.271186</td>\n",
              "      <td>0.007990</td>\n",
              "      <td>0.007812</td>\n",
              "      <td>0.015625</td>\n",
              "      <td>0.007812</td>\n",
              "      <td>0.046512</td>\n",
              "      <td>male</td>\n",
              "    </tr>\n",
              "    <tr>\n",
              "      <th>3</th>\n",
              "      <td>0.151228</td>\n",
              "      <td>0.072111</td>\n",
              "      <td>0.158011</td>\n",
              "      <td>0.096582</td>\n",
              "      <td>0.207955</td>\n",
              "      <td>0.111374</td>\n",
              "      <td>1.232831</td>\n",
              "      <td>4.177296</td>\n",
              "      <td>0.963322</td>\n",
              "      <td>0.727232</td>\n",
              "      <td>0.083878</td>\n",
              "      <td>0.151228</td>\n",
              "      <td>0.088965</td>\n",
              "      <td>0.017798</td>\n",
              "      <td>0.250000</td>\n",
              "      <td>0.201497</td>\n",
              "      <td>0.007812</td>\n",
              "      <td>0.562500</td>\n",
              "      <td>0.554688</td>\n",
              "      <td>0.247119</td>\n",
              "      <td>male</td>\n",
              "    </tr>\n",
              "    <tr>\n",
              "      <th>4</th>\n",
              "      <td>0.135120</td>\n",
              "      <td>0.079146</td>\n",
              "      <td>0.124656</td>\n",
              "      <td>0.078720</td>\n",
              "      <td>0.206045</td>\n",
              "      <td>0.127325</td>\n",
              "      <td>1.101174</td>\n",
              "      <td>4.333713</td>\n",
              "      <td>0.971955</td>\n",
              "      <td>0.783568</td>\n",
              "      <td>0.104261</td>\n",
              "      <td>0.135120</td>\n",
              "      <td>0.106398</td>\n",
              "      <td>0.016931</td>\n",
              "      <td>0.266667</td>\n",
              "      <td>0.712812</td>\n",
              "      <td>0.007812</td>\n",
              "      <td>5.484375</td>\n",
              "      <td>5.476562</td>\n",
              "      <td>0.208274</td>\n",
              "      <td>male</td>\n",
              "    </tr>\n",
              "  </tbody>\n",
              "</table>\n",
              "</div>"
            ],
            "text/plain": [
              "   meanfreq        sd    median       Q25  ...    maxdom   dfrange   modindx  label\n",
              "0  0.059781  0.064241  0.032027  0.015071  ...  0.007812  0.000000  0.000000   male\n",
              "1  0.066009  0.067310  0.040229  0.019414  ...  0.054688  0.046875  0.052632   male\n",
              "2  0.077316  0.083829  0.036718  0.008701  ...  0.015625  0.007812  0.046512   male\n",
              "3  0.151228  0.072111  0.158011  0.096582  ...  0.562500  0.554688  0.247119   male\n",
              "4  0.135120  0.079146  0.124656  0.078720  ...  5.484375  5.476562  0.208274   male\n",
              "\n",
              "[5 rows x 21 columns]"
            ]
          },
          "metadata": {},
          "execution_count": 2
        }
      ]
    },
    {
      "cell_type": "code",
      "metadata": {
        "colab": {
          "base_uri": "https://localhost:8080/"
        },
        "id": "qTPx_sa5RA8Y",
        "outputId": "ff78a08f-4d0d-44c7-88e5-b212896049a0"
      },
      "source": [
        "# EDA ---> 20 min---> graphs/preprocess ---> X-train, X-test---> time: upto 11:56\n",
        "\n",
        "df.info()"
      ],
      "execution_count": null,
      "outputs": [
        {
          "output_type": "stream",
          "name": "stdout",
          "text": [
            "<class 'pandas.core.frame.DataFrame'>\n",
            "RangeIndex: 3168 entries, 0 to 3167\n",
            "Data columns (total 21 columns):\n",
            " #   Column    Non-Null Count  Dtype  \n",
            "---  ------    --------------  -----  \n",
            " 0   meanfreq  3168 non-null   float64\n",
            " 1   sd        3168 non-null   float64\n",
            " 2   median    3168 non-null   float64\n",
            " 3   Q25       3168 non-null   float64\n",
            " 4   Q75       3168 non-null   float64\n",
            " 5   IQR       3168 non-null   float64\n",
            " 6   skew      3168 non-null   float64\n",
            " 7   kurt      3168 non-null   float64\n",
            " 8   sp.ent    3168 non-null   float64\n",
            " 9   sfm       3168 non-null   float64\n",
            " 10  mode      3168 non-null   float64\n",
            " 11  centroid  3168 non-null   float64\n",
            " 12  meanfun   3168 non-null   float64\n",
            " 13  minfun    3168 non-null   float64\n",
            " 14  maxfun    3168 non-null   float64\n",
            " 15  meandom   3168 non-null   float64\n",
            " 16  mindom    3168 non-null   float64\n",
            " 17  maxdom    3168 non-null   float64\n",
            " 18  dfrange   3168 non-null   float64\n",
            " 19  modindx   3168 non-null   float64\n",
            " 20  label     3168 non-null   object \n",
            "dtypes: float64(20), object(1)\n",
            "memory usage: 519.9+ KB\n"
          ]
        }
      ]
    },
    {
      "cell_type": "code",
      "metadata": {
        "colab": {
          "base_uri": "https://localhost:8080/"
        },
        "id": "coxmBlMrVQvz",
        "outputId": "d75ba8bb-9165-46ff-f3b0-9962561ed788"
      },
      "source": [
        "df.shape"
      ],
      "execution_count": null,
      "outputs": [
        {
          "output_type": "execute_result",
          "data": {
            "text/plain": [
              "(3168, 21)"
            ]
          },
          "metadata": {},
          "execution_count": 4
        }
      ]
    },
    {
      "cell_type": "code",
      "metadata": {
        "colab": {
          "base_uri": "https://localhost:8080/"
        },
        "id": "S_J7TL3hVSik",
        "outputId": "191a11ec-7d84-4a37-b300-99457a63649f"
      },
      "source": [
        "df.isna().sum()"
      ],
      "execution_count": null,
      "outputs": [
        {
          "output_type": "execute_result",
          "data": {
            "text/plain": [
              "meanfreq    0\n",
              "sd          0\n",
              "median      0\n",
              "Q25         0\n",
              "Q75         0\n",
              "IQR         0\n",
              "skew        0\n",
              "kurt        0\n",
              "sp.ent      0\n",
              "sfm         0\n",
              "mode        0\n",
              "centroid    0\n",
              "meanfun     0\n",
              "minfun      0\n",
              "maxfun      0\n",
              "meandom     0\n",
              "mindom      0\n",
              "maxdom      0\n",
              "dfrange     0\n",
              "modindx     0\n",
              "label       0\n",
              "dtype: int64"
            ]
          },
          "metadata": {},
          "execution_count": 5
        }
      ]
    },
    {
      "cell_type": "code",
      "metadata": {
        "colab": {
          "base_uri": "https://localhost:8080/",
          "height": 315
        },
        "id": "BhcyT11nVU1k",
        "outputId": "68648201-9bcc-4030-bc2a-e8fb6421ecbf"
      },
      "source": [
        "df.describe()"
      ],
      "execution_count": null,
      "outputs": [
        {
          "output_type": "execute_result",
          "data": {
            "text/html": [
              "<div>\n",
              "<style scoped>\n",
              "    .dataframe tbody tr th:only-of-type {\n",
              "        vertical-align: middle;\n",
              "    }\n",
              "\n",
              "    .dataframe tbody tr th {\n",
              "        vertical-align: top;\n",
              "    }\n",
              "\n",
              "    .dataframe thead th {\n",
              "        text-align: right;\n",
              "    }\n",
              "</style>\n",
              "<table border=\"1\" class=\"dataframe\">\n",
              "  <thead>\n",
              "    <tr style=\"text-align: right;\">\n",
              "      <th></th>\n",
              "      <th>meanfreq</th>\n",
              "      <th>sd</th>\n",
              "      <th>median</th>\n",
              "      <th>Q25</th>\n",
              "      <th>Q75</th>\n",
              "      <th>IQR</th>\n",
              "      <th>skew</th>\n",
              "      <th>kurt</th>\n",
              "      <th>sp.ent</th>\n",
              "      <th>sfm</th>\n",
              "      <th>mode</th>\n",
              "      <th>centroid</th>\n",
              "      <th>meanfun</th>\n",
              "      <th>minfun</th>\n",
              "      <th>maxfun</th>\n",
              "      <th>meandom</th>\n",
              "      <th>mindom</th>\n",
              "      <th>maxdom</th>\n",
              "      <th>dfrange</th>\n",
              "      <th>modindx</th>\n",
              "    </tr>\n",
              "  </thead>\n",
              "  <tbody>\n",
              "    <tr>\n",
              "      <th>count</th>\n",
              "      <td>3168.000000</td>\n",
              "      <td>3168.000000</td>\n",
              "      <td>3168.000000</td>\n",
              "      <td>3168.000000</td>\n",
              "      <td>3168.000000</td>\n",
              "      <td>3168.000000</td>\n",
              "      <td>3168.000000</td>\n",
              "      <td>3168.000000</td>\n",
              "      <td>3168.000000</td>\n",
              "      <td>3168.000000</td>\n",
              "      <td>3168.000000</td>\n",
              "      <td>3168.000000</td>\n",
              "      <td>3168.000000</td>\n",
              "      <td>3168.000000</td>\n",
              "      <td>3168.000000</td>\n",
              "      <td>3168.000000</td>\n",
              "      <td>3168.000000</td>\n",
              "      <td>3168.000000</td>\n",
              "      <td>3168.000000</td>\n",
              "      <td>3168.000000</td>\n",
              "    </tr>\n",
              "    <tr>\n",
              "      <th>mean</th>\n",
              "      <td>0.180907</td>\n",
              "      <td>0.057126</td>\n",
              "      <td>0.185621</td>\n",
              "      <td>0.140456</td>\n",
              "      <td>0.224765</td>\n",
              "      <td>0.084309</td>\n",
              "      <td>3.140168</td>\n",
              "      <td>36.568461</td>\n",
              "      <td>0.895127</td>\n",
              "      <td>0.408216</td>\n",
              "      <td>0.165282</td>\n",
              "      <td>0.180907</td>\n",
              "      <td>0.142807</td>\n",
              "      <td>0.036802</td>\n",
              "      <td>0.258842</td>\n",
              "      <td>0.829211</td>\n",
              "      <td>0.052647</td>\n",
              "      <td>5.047277</td>\n",
              "      <td>4.994630</td>\n",
              "      <td>0.173752</td>\n",
              "    </tr>\n",
              "    <tr>\n",
              "      <th>std</th>\n",
              "      <td>0.029918</td>\n",
              "      <td>0.016652</td>\n",
              "      <td>0.036360</td>\n",
              "      <td>0.048680</td>\n",
              "      <td>0.023639</td>\n",
              "      <td>0.042783</td>\n",
              "      <td>4.240529</td>\n",
              "      <td>134.928661</td>\n",
              "      <td>0.044980</td>\n",
              "      <td>0.177521</td>\n",
              "      <td>0.077203</td>\n",
              "      <td>0.029918</td>\n",
              "      <td>0.032304</td>\n",
              "      <td>0.019220</td>\n",
              "      <td>0.030077</td>\n",
              "      <td>0.525205</td>\n",
              "      <td>0.063299</td>\n",
              "      <td>3.521157</td>\n",
              "      <td>3.520039</td>\n",
              "      <td>0.119454</td>\n",
              "    </tr>\n",
              "    <tr>\n",
              "      <th>min</th>\n",
              "      <td>0.039363</td>\n",
              "      <td>0.018363</td>\n",
              "      <td>0.010975</td>\n",
              "      <td>0.000229</td>\n",
              "      <td>0.042946</td>\n",
              "      <td>0.014558</td>\n",
              "      <td>0.141735</td>\n",
              "      <td>2.068455</td>\n",
              "      <td>0.738651</td>\n",
              "      <td>0.036876</td>\n",
              "      <td>0.000000</td>\n",
              "      <td>0.039363</td>\n",
              "      <td>0.055565</td>\n",
              "      <td>0.009775</td>\n",
              "      <td>0.103093</td>\n",
              "      <td>0.007812</td>\n",
              "      <td>0.004883</td>\n",
              "      <td>0.007812</td>\n",
              "      <td>0.000000</td>\n",
              "      <td>0.000000</td>\n",
              "    </tr>\n",
              "    <tr>\n",
              "      <th>25%</th>\n",
              "      <td>0.163662</td>\n",
              "      <td>0.041954</td>\n",
              "      <td>0.169593</td>\n",
              "      <td>0.111087</td>\n",
              "      <td>0.208747</td>\n",
              "      <td>0.042560</td>\n",
              "      <td>1.649569</td>\n",
              "      <td>5.669547</td>\n",
              "      <td>0.861811</td>\n",
              "      <td>0.258041</td>\n",
              "      <td>0.118016</td>\n",
              "      <td>0.163662</td>\n",
              "      <td>0.116998</td>\n",
              "      <td>0.018223</td>\n",
              "      <td>0.253968</td>\n",
              "      <td>0.419828</td>\n",
              "      <td>0.007812</td>\n",
              "      <td>2.070312</td>\n",
              "      <td>2.044922</td>\n",
              "      <td>0.099766</td>\n",
              "    </tr>\n",
              "    <tr>\n",
              "      <th>50%</th>\n",
              "      <td>0.184838</td>\n",
              "      <td>0.059155</td>\n",
              "      <td>0.190032</td>\n",
              "      <td>0.140286</td>\n",
              "      <td>0.225684</td>\n",
              "      <td>0.094280</td>\n",
              "      <td>2.197101</td>\n",
              "      <td>8.318463</td>\n",
              "      <td>0.901767</td>\n",
              "      <td>0.396335</td>\n",
              "      <td>0.186599</td>\n",
              "      <td>0.184838</td>\n",
              "      <td>0.140519</td>\n",
              "      <td>0.046110</td>\n",
              "      <td>0.271186</td>\n",
              "      <td>0.765795</td>\n",
              "      <td>0.023438</td>\n",
              "      <td>4.992188</td>\n",
              "      <td>4.945312</td>\n",
              "      <td>0.139357</td>\n",
              "    </tr>\n",
              "    <tr>\n",
              "      <th>75%</th>\n",
              "      <td>0.199146</td>\n",
              "      <td>0.067020</td>\n",
              "      <td>0.210618</td>\n",
              "      <td>0.175939</td>\n",
              "      <td>0.243660</td>\n",
              "      <td>0.114175</td>\n",
              "      <td>2.931694</td>\n",
              "      <td>13.648905</td>\n",
              "      <td>0.928713</td>\n",
              "      <td>0.533676</td>\n",
              "      <td>0.221104</td>\n",
              "      <td>0.199146</td>\n",
              "      <td>0.169581</td>\n",
              "      <td>0.047904</td>\n",
              "      <td>0.277457</td>\n",
              "      <td>1.177166</td>\n",
              "      <td>0.070312</td>\n",
              "      <td>7.007812</td>\n",
              "      <td>6.992188</td>\n",
              "      <td>0.209183</td>\n",
              "    </tr>\n",
              "    <tr>\n",
              "      <th>max</th>\n",
              "      <td>0.251124</td>\n",
              "      <td>0.115273</td>\n",
              "      <td>0.261224</td>\n",
              "      <td>0.247347</td>\n",
              "      <td>0.273469</td>\n",
              "      <td>0.252225</td>\n",
              "      <td>34.725453</td>\n",
              "      <td>1309.612887</td>\n",
              "      <td>0.981997</td>\n",
              "      <td>0.842936</td>\n",
              "      <td>0.280000</td>\n",
              "      <td>0.251124</td>\n",
              "      <td>0.237636</td>\n",
              "      <td>0.204082</td>\n",
              "      <td>0.279114</td>\n",
              "      <td>2.957682</td>\n",
              "      <td>0.458984</td>\n",
              "      <td>21.867188</td>\n",
              "      <td>21.843750</td>\n",
              "      <td>0.932374</td>\n",
              "    </tr>\n",
              "  </tbody>\n",
              "</table>\n",
              "</div>"
            ],
            "text/plain": [
              "          meanfreq           sd  ...      dfrange      modindx\n",
              "count  3168.000000  3168.000000  ...  3168.000000  3168.000000\n",
              "mean      0.180907     0.057126  ...     4.994630     0.173752\n",
              "std       0.029918     0.016652  ...     3.520039     0.119454\n",
              "min       0.039363     0.018363  ...     0.000000     0.000000\n",
              "25%       0.163662     0.041954  ...     2.044922     0.099766\n",
              "50%       0.184838     0.059155  ...     4.945312     0.139357\n",
              "75%       0.199146     0.067020  ...     6.992188     0.209183\n",
              "max       0.251124     0.115273  ...    21.843750     0.932374\n",
              "\n",
              "[8 rows x 20 columns]"
            ]
          },
          "metadata": {},
          "execution_count": 6
        }
      ]
    },
    {
      "cell_type": "code",
      "metadata": {
        "colab": {
          "base_uri": "https://localhost:8080/",
          "height": 1000
        },
        "id": "xoRLf4VwVi3T",
        "outputId": "c7e5b55f-c041-40c4-e750-72a122bc72a2"
      },
      "source": [
        "numerics = ['int16', 'int32', 'int64', 'float16', 'float32', 'float64']\n",
        "\n",
        "# subplots, \n",
        "df1 = df.select_dtypes(include=numerics)\n",
        "for column in df1.columns.tolist():\n",
        "    plt.figure()\n",
        "    df.boxplot([column])"
      ],
      "execution_count": null,
      "outputs": [
        {
          "output_type": "display_data",
          "data": {
            "image/png": "[encoded data removed]",
            "text/plain": [
              "<Figure size 432x288 with 1 Axes>"
            ]
          },
          "metadata": {
            "needs_background": "light"
          }
        },
        {
          "output_type": "display_data",
          "data": {
            "image/png": "[encoded data removed]",
            "text/plain": [
              "<Figure size 432x288 with 1 Axes>"
            ]
          },
          "metadata": {
            "needs_background": "light"
          }
        },
        {
          "output_type": "display_data",
          "data": {
            "image/png": "[encoded data removed]",
            "text/plain": [
              "<Figure size 432x288 with 1 Axes>"
            ]
          },
          "metadata": {
            "needs_background": "light"
          }
        },
        {
          "output_type": "display_data",
          "data": {
            "image/png": "[encoded data removed]",
            "text/plain": [
              "<Figure size 432x288 with 1 Axes>"
            ]
          },
          "metadata": {
            "needs_background": "light"
          }
        },
        {
          "output_type": "display_data",
          "data": {
            "image/png": "[encoded data removed]",
            "text/plain": [
              "<Figure size 432x288 with 1 Axes>"
            ]
          },
          "metadata": {
            "needs_background": "light"
          }
        },
        {
          "output_type": "display_data",
          "data": {
            "image/png": "[encoded data removed]",
            "text/plain": [
              "<Figure size 432x288 with 1 Axes>"
            ]
          },
          "metadata": {
            "needs_background": "light"
          }
        },
        {
          "output_type": "display_data",
          "data": {
            "image/png": "[encoded data removed]",
            "text/plain": [
              "<Figure size 432x288 with 1 Axes>"
            ]
          },
          "metadata": {
            "needs_background": "light"
          }
        },
        {
          "output_type": "display_data",
          "data": {
            "image/png": "[encoded data removed]",
            "text/plain": [
              "<Figure size 432x288 with 1 Axes>"
            ]
          },
          "metadata": {
            "needs_background": "light"
          }
        },
        {
          "output_type": "display_data",
          "data": {
            "image/png": "[encoded data removed]",
            "text/plain": [
              "<Figure size 432x288 with 1 Axes>"
            ]
          },
          "metadata": {
            "needs_background": "light"
          }
        },
        {
          "output_type": "display_data",
          "data": {
            "image/png": "[encoded data removed]",
            "text/plain": [
              "<Figure size 432x288 with 1 Axes>"
            ]
          },
          "metadata": {
            "needs_background": "light"
          }
        },
        {
          "output_type": "display_data",
          "data": {
            "image/png": "[encoded data removed]",
            "text/plain": [
              "<Figure size 432x288 with 1 Axes>"
            ]
          },
          "metadata": {
            "needs_background": "light"
          }
        },
        {
          "output_type": "display_data",
          "data": {
            "image/png": "[encoded data removed]",
            "text/plain": [
              "<Figure size 432x288 with 1 Axes>"
            ]
          },
          "metadata": {
            "needs_background": "light"
          }
        },
        {
          "output_type": "display_data",
          "data": {
            "image/png": "[encoded data removed]",
            "text/plain": [
              "<Figure size 432x288 with 1 Axes>"
            ]
          },
          "metadata": {
            "needs_background": "light"
          }
        },
        {
          "output_type": "display_data",
          "data": {
            "image/png": "[encoded data removed]",
            "text/plain": [
              "<Figure size 432x288 with 1 Axes>"
            ]
          },
          "metadata": {
            "needs_background": "light"
          }
        },
        {
          "output_type": "display_data",
          "data": {
            "image/png": "[encoded data removed]",
            "text/plain": [
              "<Figure size 432x288 with 1 Axes>"
            ]
          },
          "metadata": {
            "needs_background": "light"
          }
        },
        {
          "output_type": "display_data",
          "data": {
            "image/png": "[encoded data removed]",
            "text/plain": [
              "<Figure size 432x288 with 1 Axes>"
            ]
          },
          "metadata": {
            "needs_background": "light"
          }
        },
        {
          "output_type": "display_data",
          "data": {
            "image/png": "[encoded data removed]",
            "text/plain": [
              "<Figure size 432x288 with 1 Axes>"
            ]
          },
          "metadata": {
            "needs_background": "light"
          }
        },
        {
          "output_type": "display_data",
          "data": {
            "image/png": "[encoded data removed]",
            "text/plain": [
              "<Figure size 432x288 with 1 Axes>"
            ]
          },
          "metadata": {
            "needs_background": "light"
          }
        },
        {
          "output_type": "display_data",
          "data": {
            "image/png": "[encoded data removed]",
            "text/plain": [
              "<Figure size 432x288 with 1 Axes>"
            ]
          },
          "metadata": {
            "needs_background": "light"
          }
        },
        {
          "output_type": "display_data",
          "data": {
            "image/png": "[encoded data removed]",
            "text/plain": [
              "<Figure size 432x288 with 1 Axes>"
            ]
          },
          "metadata": {
            "needs_background": "light"
          }
        }
      ]
    },
    {
      "cell_type": "code",
      "metadata": {
        "id": "QLa8Nl6VV-fj"
      },
      "source": [
        "# to remove outliers \n",
        "# to create a model witout removing outliers ---> "
      ],
      "execution_count": null,
      "outputs": []
    },
    {
      "cell_type": "code",
      "metadata": {
        "colab": {
          "base_uri": "https://localhost:8080/",
          "height": 653
        },
        "id": "w69VgvctWHni",
        "outputId": "a38ef576-7651-4e2d-a12e-aa20b1e8bf41"
      },
      "source": [
        "# lot of numberical data \n",
        "# correlation heat map \n",
        "# scatter plot \n",
        "# histograms \n",
        "\n",
        "plt.figure(figsize = (20,10))\n",
        "sns.heatmap(df.corr().abs(), annot = True)"
      ],
      "execution_count": null,
      "outputs": [
        {
          "output_type": "execute_result",
          "data": {
            "text/plain": [
              "<matplotlib.axes._subplots.AxesSubplot at 0x7f1d1177b290>"
            ]
          },
          "metadata": {},
          "execution_count": 4
        },
        {
          "output_type": "display_data",
          "data": {
            "image/png": "[encoded data removed]",
            "text/plain": [
              "<Figure size 1440x720 with 2 Axes>"
            ]
          },
          "metadata": {
            "needs_background": "light"
          }
        }
      ]
    },
    {
      "cell_type": "code",
      "metadata": {
        "id": "PHg9RI3jXIEy"
      },
      "source": [
        "# write a code which will extract the index numbers of the column which are highly correlatd \n",
        "corr_matrix = df.corr().abs()\n",
        "upper = corr_matrix.where(np.triu(np.ones(corr_matrix.shape), k=1).astype(np.bool))\n",
        "to_drop = [column for column in upper.columns if any(upper[column] > 0.9)]\n",
        "to_drop\n",
        "\n",
        "df.drop(to_drop, axis =1 , inplace = True)"
      ],
      "execution_count": null,
      "outputs": []
    },
    {
      "cell_type": "code",
      "metadata": {
        "colab": {
          "base_uri": "https://localhost:8080/",
          "height": 223
        },
        "id": "i47zfWNKYqak",
        "outputId": "e4a48105-5276-4f8b-f61b-53cb616e3fe1"
      },
      "source": [
        "df.head()"
      ],
      "execution_count": null,
      "outputs": [
        {
          "output_type": "execute_result",
          "data": {
            "text/html": [
              "<div>\n",
              "<style scoped>\n",
              "    .dataframe tbody tr th:only-of-type {\n",
              "        vertical-align: middle;\n",
              "    }\n",
              "\n",
              "    .dataframe tbody tr th {\n",
              "        vertical-align: top;\n",
              "    }\n",
              "\n",
              "    .dataframe thead th {\n",
              "        text-align: right;\n",
              "    }\n",
              "</style>\n",
              "<table border=\"1\" class=\"dataframe\">\n",
              "  <thead>\n",
              "    <tr style=\"text-align: right;\">\n",
              "      <th></th>\n",
              "      <th>meanfreq</th>\n",
              "      <th>sd</th>\n",
              "      <th>Q75</th>\n",
              "      <th>IQR</th>\n",
              "      <th>skew</th>\n",
              "      <th>sp.ent</th>\n",
              "      <th>sfm</th>\n",
              "      <th>mode</th>\n",
              "      <th>meanfun</th>\n",
              "      <th>minfun</th>\n",
              "      <th>maxfun</th>\n",
              "      <th>meandom</th>\n",
              "      <th>mindom</th>\n",
              "      <th>maxdom</th>\n",
              "      <th>modindx</th>\n",
              "      <th>label</th>\n",
              "    </tr>\n",
              "  </thead>\n",
              "  <tbody>\n",
              "    <tr>\n",
              "      <th>0</th>\n",
              "      <td>0.059781</td>\n",
              "      <td>0.064241</td>\n",
              "      <td>0.090193</td>\n",
              "      <td>0.075122</td>\n",
              "      <td>12.863462</td>\n",
              "      <td>0.893369</td>\n",
              "      <td>0.491918</td>\n",
              "      <td>0.000000</td>\n",
              "      <td>0.084279</td>\n",
              "      <td>0.015702</td>\n",
              "      <td>0.275862</td>\n",
              "      <td>0.007812</td>\n",
              "      <td>0.007812</td>\n",
              "      <td>0.007812</td>\n",
              "      <td>0.000000</td>\n",
              "      <td>male</td>\n",
              "    </tr>\n",
              "    <tr>\n",
              "      <th>1</th>\n",
              "      <td>0.066009</td>\n",
              "      <td>0.067310</td>\n",
              "      <td>0.092666</td>\n",
              "      <td>0.073252</td>\n",
              "      <td>22.423285</td>\n",
              "      <td>0.892193</td>\n",
              "      <td>0.513724</td>\n",
              "      <td>0.000000</td>\n",
              "      <td>0.107937</td>\n",
              "      <td>0.015826</td>\n",
              "      <td>0.250000</td>\n",
              "      <td>0.009014</td>\n",
              "      <td>0.007812</td>\n",
              "      <td>0.054688</td>\n",
              "      <td>0.052632</td>\n",
              "      <td>male</td>\n",
              "    </tr>\n",
              "    <tr>\n",
              "      <th>2</th>\n",
              "      <td>0.077316</td>\n",
              "      <td>0.083829</td>\n",
              "      <td>0.131908</td>\n",
              "      <td>0.123207</td>\n",
              "      <td>30.757155</td>\n",
              "      <td>0.846389</td>\n",
              "      <td>0.478905</td>\n",
              "      <td>0.000000</td>\n",
              "      <td>0.098706</td>\n",
              "      <td>0.015656</td>\n",
              "      <td>0.271186</td>\n",
              "      <td>0.007990</td>\n",
              "      <td>0.007812</td>\n",
              "      <td>0.015625</td>\n",
              "      <td>0.046512</td>\n",
              "      <td>male</td>\n",
              "    </tr>\n",
              "    <tr>\n",
              "      <th>3</th>\n",
              "      <td>0.151228</td>\n",
              "      <td>0.072111</td>\n",
              "      <td>0.207955</td>\n",
              "      <td>0.111374</td>\n",
              "      <td>1.232831</td>\n",
              "      <td>0.963322</td>\n",
              "      <td>0.727232</td>\n",
              "      <td>0.083878</td>\n",
              "      <td>0.088965</td>\n",
              "      <td>0.017798</td>\n",
              "      <td>0.250000</td>\n",
              "      <td>0.201497</td>\n",
              "      <td>0.007812</td>\n",
              "      <td>0.562500</td>\n",
              "      <td>0.247119</td>\n",
              "      <td>male</td>\n",
              "    </tr>\n",
              "    <tr>\n",
              "      <th>4</th>\n",
              "      <td>0.135120</td>\n",
              "      <td>0.079146</td>\n",
              "      <td>0.206045</td>\n",
              "      <td>0.127325</td>\n",
              "      <td>1.101174</td>\n",
              "      <td>0.971955</td>\n",
              "      <td>0.783568</td>\n",
              "      <td>0.104261</td>\n",
              "      <td>0.106398</td>\n",
              "      <td>0.016931</td>\n",
              "      <td>0.266667</td>\n",
              "      <td>0.712812</td>\n",
              "      <td>0.007812</td>\n",
              "      <td>5.484375</td>\n",
              "      <td>0.208274</td>\n",
              "      <td>male</td>\n",
              "    </tr>\n",
              "  </tbody>\n",
              "</table>\n",
              "</div>"
            ],
            "text/plain": [
              "   meanfreq        sd       Q75       IQR  ...    mindom    maxdom   modindx  label\n",
              "0  0.059781  0.064241  0.090193  0.075122  ...  0.007812  0.007812  0.000000   male\n",
              "1  0.066009  0.067310  0.092666  0.073252  ...  0.007812  0.054688  0.052632   male\n",
              "2  0.077316  0.083829  0.131908  0.123207  ...  0.007812  0.015625  0.046512   male\n",
              "3  0.151228  0.072111  0.207955  0.111374  ...  0.007812  0.562500  0.247119   male\n",
              "4  0.135120  0.079146  0.206045  0.127325  ...  0.007812  5.484375  0.208274   male\n",
              "\n",
              "[5 rows x 16 columns]"
            ]
          },
          "metadata": {},
          "execution_count": 11
        }
      ]
    },
    {
      "cell_type": "code",
      "metadata": {
        "colab": {
          "base_uri": "https://localhost:8080/",
          "height": 265
        },
        "id": "q_MrI7ALZOr_",
        "outputId": "16fbb398-d139-4060-98a3-09de54c7e349"
      },
      "source": [
        "plt.hist(df['meanfreq'], bins = 50)\n",
        "plt.show()\n",
        "\n",
        "# write a code ---> which would make the histograms for all the continuous data"
      ],
      "execution_count": null,
      "outputs": [
        {
          "output_type": "display_data",
          "data": {
            "image/png": "[encoded data removed]",
            "text/plain": [
              "<Figure size 432x288 with 1 Axes>"
            ]
          },
          "metadata": {
            "needs_background": "light"
          }
        }
      ]
    },
    {
      "cell_type": "code",
      "metadata": {
        "id": "wLa0Cq6WaZMg"
      },
      "source": [
        "#  scatter graphs ---> "
      ],
      "execution_count": null,
      "outputs": []
    },
    {
      "cell_type": "code",
      "metadata": {
        "colab": {
          "base_uri": "https://localhost:8080/"
        },
        "id": "0v6PXf8ZacXu",
        "outputId": "6239dec1-7a7d-4cbb-96aa-dd97971b3226"
      },
      "source": [
        "df['label'].value_counts()"
      ],
      "execution_count": null,
      "outputs": [
        {
          "output_type": "execute_result",
          "data": {
            "text/plain": [
              "male      1584\n",
              "female    1584\n",
              "Name: label, dtype: int64"
            ]
          },
          "metadata": {},
          "execution_count": 14
        }
      ]
    },
    {
      "cell_type": "code",
      "metadata": {
        "colab": {
          "base_uri": "https://localhost:8080/",
          "height": 223
        },
        "id": "5MJMFcZ1ayH-",
        "outputId": "932b869a-254f-4d85-b1e1-83d1e2dad0c6"
      },
      "source": [
        "df = pd.get_dummies(df)\n",
        "df.tail()\n",
        "# write a code ---> map (male= 0 , female =1 )\n",
        "# y---> ?"
      ],
      "execution_count": null,
      "outputs": [
        {
          "output_type": "execute_result",
          "data": {
            "text/html": [
              "<div>\n",
              "<style scoped>\n",
              "    .dataframe tbody tr th:only-of-type {\n",
              "        vertical-align: middle;\n",
              "    }\n",
              "\n",
              "    .dataframe tbody tr th {\n",
              "        vertical-align: top;\n",
              "    }\n",
              "\n",
              "    .dataframe thead th {\n",
              "        text-align: right;\n",
              "    }\n",
              "</style>\n",
              "<table border=\"1\" class=\"dataframe\">\n",
              "  <thead>\n",
              "    <tr style=\"text-align: right;\">\n",
              "      <th></th>\n",
              "      <th>meanfreq</th>\n",
              "      <th>sd</th>\n",
              "      <th>Q75</th>\n",
              "      <th>IQR</th>\n",
              "      <th>skew</th>\n",
              "      <th>sp.ent</th>\n",
              "      <th>sfm</th>\n",
              "      <th>mode</th>\n",
              "      <th>meanfun</th>\n",
              "      <th>minfun</th>\n",
              "      <th>maxfun</th>\n",
              "      <th>meandom</th>\n",
              "      <th>mindom</th>\n",
              "      <th>maxdom</th>\n",
              "      <th>modindx</th>\n",
              "      <th>label_female</th>\n",
              "      <th>label_male</th>\n",
              "    </tr>\n",
              "  </thead>\n",
              "  <tbody>\n",
              "    <tr>\n",
              "      <th>3163</th>\n",
              "      <td>0.131884</td>\n",
              "      <td>0.084734</td>\n",
              "      <td>0.201144</td>\n",
              "      <td>0.151859</td>\n",
              "      <td>1.762129</td>\n",
              "      <td>0.962934</td>\n",
              "      <td>0.763182</td>\n",
              "      <td>0.200836</td>\n",
              "      <td>0.182790</td>\n",
              "      <td>0.083770</td>\n",
              "      <td>0.262295</td>\n",
              "      <td>0.832899</td>\n",
              "      <td>0.007812</td>\n",
              "      <td>4.210938</td>\n",
              "      <td>0.161929</td>\n",
              "      <td>1</td>\n",
              "      <td>0</td>\n",
              "    </tr>\n",
              "    <tr>\n",
              "      <th>3164</th>\n",
              "      <td>0.116221</td>\n",
              "      <td>0.089221</td>\n",
              "      <td>0.204911</td>\n",
              "      <td>0.162193</td>\n",
              "      <td>0.693730</td>\n",
              "      <td>0.960716</td>\n",
              "      <td>0.709570</td>\n",
              "      <td>0.013683</td>\n",
              "      <td>0.188980</td>\n",
              "      <td>0.034409</td>\n",
              "      <td>0.275862</td>\n",
              "      <td>0.909856</td>\n",
              "      <td>0.039062</td>\n",
              "      <td>3.679688</td>\n",
              "      <td>0.277897</td>\n",
              "      <td>1</td>\n",
              "      <td>0</td>\n",
              "    </tr>\n",
              "    <tr>\n",
              "      <th>3165</th>\n",
              "      <td>0.142056</td>\n",
              "      <td>0.095798</td>\n",
              "      <td>0.224360</td>\n",
              "      <td>0.190936</td>\n",
              "      <td>1.876502</td>\n",
              "      <td>0.946854</td>\n",
              "      <td>0.654196</td>\n",
              "      <td>0.008006</td>\n",
              "      <td>0.209918</td>\n",
              "      <td>0.039506</td>\n",
              "      <td>0.275862</td>\n",
              "      <td>0.494271</td>\n",
              "      <td>0.007812</td>\n",
              "      <td>2.937500</td>\n",
              "      <td>0.194759</td>\n",
              "      <td>1</td>\n",
              "      <td>0</td>\n",
              "    </tr>\n",
              "    <tr>\n",
              "      <th>3166</th>\n",
              "      <td>0.143659</td>\n",
              "      <td>0.090628</td>\n",
              "      <td>0.219943</td>\n",
              "      <td>0.176435</td>\n",
              "      <td>1.591065</td>\n",
              "      <td>0.950436</td>\n",
              "      <td>0.675470</td>\n",
              "      <td>0.212202</td>\n",
              "      <td>0.172375</td>\n",
              "      <td>0.034483</td>\n",
              "      <td>0.250000</td>\n",
              "      <td>0.791360</td>\n",
              "      <td>0.007812</td>\n",
              "      <td>3.593750</td>\n",
              "      <td>0.311002</td>\n",
              "      <td>1</td>\n",
              "      <td>0</td>\n",
              "    </tr>\n",
              "    <tr>\n",
              "      <th>3167</th>\n",
              "      <td>0.165509</td>\n",
              "      <td>0.092884</td>\n",
              "      <td>0.250827</td>\n",
              "      <td>0.180756</td>\n",
              "      <td>1.705029</td>\n",
              "      <td>0.938829</td>\n",
              "      <td>0.601529</td>\n",
              "      <td>0.267702</td>\n",
              "      <td>0.185607</td>\n",
              "      <td>0.062257</td>\n",
              "      <td>0.271186</td>\n",
              "      <td>0.227022</td>\n",
              "      <td>0.007812</td>\n",
              "      <td>0.554688</td>\n",
              "      <td>0.350000</td>\n",
              "      <td>1</td>\n",
              "      <td>0</td>\n",
              "    </tr>\n",
              "  </tbody>\n",
              "</table>\n",
              "</div>"
            ],
            "text/plain": [
              "      meanfreq        sd       Q75  ...   modindx  label_female  label_male\n",
              "3163  0.131884  0.084734  0.201144  ...  0.161929             1           0\n",
              "3164  0.116221  0.089221  0.204911  ...  0.277897             1           0\n",
              "3165  0.142056  0.095798  0.224360  ...  0.194759             1           0\n",
              "3166  0.143659  0.090628  0.219943  ...  0.311002             1           0\n",
              "3167  0.165509  0.092884  0.250827  ...  0.350000             1           0\n",
              "\n",
              "[5 rows x 17 columns]"
            ]
          },
          "metadata": {},
          "execution_count": 6
        }
      ]
    },
    {
      "cell_type": "code",
      "metadata": {
        "id": "zwN7cIZxbkvO"
      },
      "source": [
        "df = df.drop(['label_male'], axis =1)"
      ],
      "execution_count": null,
      "outputs": []
    },
    {
      "cell_type": "code",
      "metadata": {
        "colab": {
          "base_uri": "https://localhost:8080/",
          "height": 223
        },
        "id": "tDtMUFkMbuWe",
        "outputId": "8b4a3eb6-aca2-4fa8-b779-3ea54d38603b"
      },
      "source": [
        "df.head()"
      ],
      "execution_count": null,
      "outputs": [
        {
          "output_type": "execute_result",
          "data": {
            "text/html": [
              "<div>\n",
              "<style scoped>\n",
              "    .dataframe tbody tr th:only-of-type {\n",
              "        vertical-align: middle;\n",
              "    }\n",
              "\n",
              "    .dataframe tbody tr th {\n",
              "        vertical-align: top;\n",
              "    }\n",
              "\n",
              "    .dataframe thead th {\n",
              "        text-align: right;\n",
              "    }\n",
              "</style>\n",
              "<table border=\"1\" class=\"dataframe\">\n",
              "  <thead>\n",
              "    <tr style=\"text-align: right;\">\n",
              "      <th></th>\n",
              "      <th>meanfreq</th>\n",
              "      <th>sd</th>\n",
              "      <th>Q75</th>\n",
              "      <th>IQR</th>\n",
              "      <th>skew</th>\n",
              "      <th>sp.ent</th>\n",
              "      <th>sfm</th>\n",
              "      <th>mode</th>\n",
              "      <th>meanfun</th>\n",
              "      <th>minfun</th>\n",
              "      <th>maxfun</th>\n",
              "      <th>meandom</th>\n",
              "      <th>mindom</th>\n",
              "      <th>maxdom</th>\n",
              "      <th>modindx</th>\n",
              "      <th>label_female</th>\n",
              "    </tr>\n",
              "  </thead>\n",
              "  <tbody>\n",
              "    <tr>\n",
              "      <th>0</th>\n",
              "      <td>0.059781</td>\n",
              "      <td>0.064241</td>\n",
              "      <td>0.090193</td>\n",
              "      <td>0.075122</td>\n",
              "      <td>12.863462</td>\n",
              "      <td>0.893369</td>\n",
              "      <td>0.491918</td>\n",
              "      <td>0.000000</td>\n",
              "      <td>0.084279</td>\n",
              "      <td>0.015702</td>\n",
              "      <td>0.275862</td>\n",
              "      <td>0.007812</td>\n",
              "      <td>0.007812</td>\n",
              "      <td>0.007812</td>\n",
              "      <td>0.000000</td>\n",
              "      <td>0</td>\n",
              "    </tr>\n",
              "    <tr>\n",
              "      <th>1</th>\n",
              "      <td>0.066009</td>\n",
              "      <td>0.067310</td>\n",
              "      <td>0.092666</td>\n",
              "      <td>0.073252</td>\n",
              "      <td>22.423285</td>\n",
              "      <td>0.892193</td>\n",
              "      <td>0.513724</td>\n",
              "      <td>0.000000</td>\n",
              "      <td>0.107937</td>\n",
              "      <td>0.015826</td>\n",
              "      <td>0.250000</td>\n",
              "      <td>0.009014</td>\n",
              "      <td>0.007812</td>\n",
              "      <td>0.054688</td>\n",
              "      <td>0.052632</td>\n",
              "      <td>0</td>\n",
              "    </tr>\n",
              "    <tr>\n",
              "      <th>2</th>\n",
              "      <td>0.077316</td>\n",
              "      <td>0.083829</td>\n",
              "      <td>0.131908</td>\n",
              "      <td>0.123207</td>\n",
              "      <td>30.757155</td>\n",
              "      <td>0.846389</td>\n",
              "      <td>0.478905</td>\n",
              "      <td>0.000000</td>\n",
              "      <td>0.098706</td>\n",
              "      <td>0.015656</td>\n",
              "      <td>0.271186</td>\n",
              "      <td>0.007990</td>\n",
              "      <td>0.007812</td>\n",
              "      <td>0.015625</td>\n",
              "      <td>0.046512</td>\n",
              "      <td>0</td>\n",
              "    </tr>\n",
              "    <tr>\n",
              "      <th>3</th>\n",
              "      <td>0.151228</td>\n",
              "      <td>0.072111</td>\n",
              "      <td>0.207955</td>\n",
              "      <td>0.111374</td>\n",
              "      <td>1.232831</td>\n",
              "      <td>0.963322</td>\n",
              "      <td>0.727232</td>\n",
              "      <td>0.083878</td>\n",
              "      <td>0.088965</td>\n",
              "      <td>0.017798</td>\n",
              "      <td>0.250000</td>\n",
              "      <td>0.201497</td>\n",
              "      <td>0.007812</td>\n",
              "      <td>0.562500</td>\n",
              "      <td>0.247119</td>\n",
              "      <td>0</td>\n",
              "    </tr>\n",
              "    <tr>\n",
              "      <th>4</th>\n",
              "      <td>0.135120</td>\n",
              "      <td>0.079146</td>\n",
              "      <td>0.206045</td>\n",
              "      <td>0.127325</td>\n",
              "      <td>1.101174</td>\n",
              "      <td>0.971955</td>\n",
              "      <td>0.783568</td>\n",
              "      <td>0.104261</td>\n",
              "      <td>0.106398</td>\n",
              "      <td>0.016931</td>\n",
              "      <td>0.266667</td>\n",
              "      <td>0.712812</td>\n",
              "      <td>0.007812</td>\n",
              "      <td>5.484375</td>\n",
              "      <td>0.208274</td>\n",
              "      <td>0</td>\n",
              "    </tr>\n",
              "  </tbody>\n",
              "</table>\n",
              "</div>"
            ],
            "text/plain": [
              "   meanfreq        sd       Q75  ...    maxdom   modindx  label_female\n",
              "0  0.059781  0.064241  0.090193  ...  0.007812  0.000000             0\n",
              "1  0.066009  0.067310  0.092666  ...  0.054688  0.052632             0\n",
              "2  0.077316  0.083829  0.131908  ...  0.015625  0.046512             0\n",
              "3  0.151228  0.072111  0.207955  ...  0.562500  0.247119             0\n",
              "4  0.135120  0.079146  0.206045  ...  5.484375  0.208274             0\n",
              "\n",
              "[5 rows x 16 columns]"
            ]
          },
          "metadata": {},
          "execution_count": 8
        }
      ]
    },
    {
      "cell_type": "code",
      "metadata": {
        "id": "IpFgHwgwbxQt"
      },
      "source": [
        "# rename ---> label_femal---> target "
      ],
      "execution_count": null,
      "outputs": []
    },
    {
      "cell_type": "code",
      "metadata": {
        "id": "pLS3EQ05cEJO"
      },
      "source": [
        "df = df.rename(columns={'label_female':'target'})"
      ],
      "execution_count": null,
      "outputs": []
    },
    {
      "cell_type": "code",
      "metadata": {
        "colab": {
          "base_uri": "https://localhost:8080/",
          "height": 223
        },
        "id": "-8DvnMF0cHSi",
        "outputId": "baea3fbc-d004-4f59-9b95-17a8f14d8e03"
      },
      "source": [
        "df.head()"
      ],
      "execution_count": null,
      "outputs": [
        {
          "output_type": "execute_result",
          "data": {
            "text/html": [
              "<div>\n",
              "<style scoped>\n",
              "    .dataframe tbody tr th:only-of-type {\n",
              "        vertical-align: middle;\n",
              "    }\n",
              "\n",
              "    .dataframe tbody tr th {\n",
              "        vertical-align: top;\n",
              "    }\n",
              "\n",
              "    .dataframe thead th {\n",
              "        text-align: right;\n",
              "    }\n",
              "</style>\n",
              "<table border=\"1\" class=\"dataframe\">\n",
              "  <thead>\n",
              "    <tr style=\"text-align: right;\">\n",
              "      <th></th>\n",
              "      <th>meanfreq</th>\n",
              "      <th>sd</th>\n",
              "      <th>Q75</th>\n",
              "      <th>IQR</th>\n",
              "      <th>skew</th>\n",
              "      <th>sp.ent</th>\n",
              "      <th>sfm</th>\n",
              "      <th>mode</th>\n",
              "      <th>meanfun</th>\n",
              "      <th>minfun</th>\n",
              "      <th>maxfun</th>\n",
              "      <th>meandom</th>\n",
              "      <th>mindom</th>\n",
              "      <th>maxdom</th>\n",
              "      <th>modindx</th>\n",
              "      <th>target</th>\n",
              "    </tr>\n",
              "  </thead>\n",
              "  <tbody>\n",
              "    <tr>\n",
              "      <th>0</th>\n",
              "      <td>0.059781</td>\n",
              "      <td>0.064241</td>\n",
              "      <td>0.090193</td>\n",
              "      <td>0.075122</td>\n",
              "      <td>12.863462</td>\n",
              "      <td>0.893369</td>\n",
              "      <td>0.491918</td>\n",
              "      <td>0.000000</td>\n",
              "      <td>0.084279</td>\n",
              "      <td>0.015702</td>\n",
              "      <td>0.275862</td>\n",
              "      <td>0.007812</td>\n",
              "      <td>0.007812</td>\n",
              "      <td>0.007812</td>\n",
              "      <td>0.000000</td>\n",
              "      <td>0</td>\n",
              "    </tr>\n",
              "    <tr>\n",
              "      <th>1</th>\n",
              "      <td>0.066009</td>\n",
              "      <td>0.067310</td>\n",
              "      <td>0.092666</td>\n",
              "      <td>0.073252</td>\n",
              "      <td>22.423285</td>\n",
              "      <td>0.892193</td>\n",
              "      <td>0.513724</td>\n",
              "      <td>0.000000</td>\n",
              "      <td>0.107937</td>\n",
              "      <td>0.015826</td>\n",
              "      <td>0.250000</td>\n",
              "      <td>0.009014</td>\n",
              "      <td>0.007812</td>\n",
              "      <td>0.054688</td>\n",
              "      <td>0.052632</td>\n",
              "      <td>0</td>\n",
              "    </tr>\n",
              "    <tr>\n",
              "      <th>2</th>\n",
              "      <td>0.077316</td>\n",
              "      <td>0.083829</td>\n",
              "      <td>0.131908</td>\n",
              "      <td>0.123207</td>\n",
              "      <td>30.757155</td>\n",
              "      <td>0.846389</td>\n",
              "      <td>0.478905</td>\n",
              "      <td>0.000000</td>\n",
              "      <td>0.098706</td>\n",
              "      <td>0.015656</td>\n",
              "      <td>0.271186</td>\n",
              "      <td>0.007990</td>\n",
              "      <td>0.007812</td>\n",
              "      <td>0.015625</td>\n",
              "      <td>0.046512</td>\n",
              "      <td>0</td>\n",
              "    </tr>\n",
              "    <tr>\n",
              "      <th>3</th>\n",
              "      <td>0.151228</td>\n",
              "      <td>0.072111</td>\n",
              "      <td>0.207955</td>\n",
              "      <td>0.111374</td>\n",
              "      <td>1.232831</td>\n",
              "      <td>0.963322</td>\n",
              "      <td>0.727232</td>\n",
              "      <td>0.083878</td>\n",
              "      <td>0.088965</td>\n",
              "      <td>0.017798</td>\n",
              "      <td>0.250000</td>\n",
              "      <td>0.201497</td>\n",
              "      <td>0.007812</td>\n",
              "      <td>0.562500</td>\n",
              "      <td>0.247119</td>\n",
              "      <td>0</td>\n",
              "    </tr>\n",
              "    <tr>\n",
              "      <th>4</th>\n",
              "      <td>0.135120</td>\n",
              "      <td>0.079146</td>\n",
              "      <td>0.206045</td>\n",
              "      <td>0.127325</td>\n",
              "      <td>1.101174</td>\n",
              "      <td>0.971955</td>\n",
              "      <td>0.783568</td>\n",
              "      <td>0.104261</td>\n",
              "      <td>0.106398</td>\n",
              "      <td>0.016931</td>\n",
              "      <td>0.266667</td>\n",
              "      <td>0.712812</td>\n",
              "      <td>0.007812</td>\n",
              "      <td>5.484375</td>\n",
              "      <td>0.208274</td>\n",
              "      <td>0</td>\n",
              "    </tr>\n",
              "  </tbody>\n",
              "</table>\n",
              "</div>"
            ],
            "text/plain": [
              "   meanfreq        sd       Q75       IQR  ...    mindom    maxdom   modindx  target\n",
              "0  0.059781  0.064241  0.090193  0.075122  ...  0.007812  0.007812  0.000000       0\n",
              "1  0.066009  0.067310  0.092666  0.073252  ...  0.007812  0.054688  0.052632       0\n",
              "2  0.077316  0.083829  0.131908  0.123207  ...  0.007812  0.015625  0.046512       0\n",
              "3  0.151228  0.072111  0.207955  0.111374  ...  0.007812  0.562500  0.247119       0\n",
              "4  0.135120  0.079146  0.206045  0.127325  ...  0.007812  5.484375  0.208274       0\n",
              "\n",
              "[5 rows x 16 columns]"
            ]
          },
          "metadata": {},
          "execution_count": 10
        }
      ]
    },
    {
      "cell_type": "code",
      "metadata": {
        "id": "Lv51XvTGcYIu"
      },
      "source": [
        "X = df.drop(['target'], axis = 1)\n",
        "y = df['target']\n"
      ],
      "execution_count": null,
      "outputs": []
    },
    {
      "cell_type": "code",
      "metadata": {
        "id": "-R9nldGYcuKd"
      },
      "source": [
        "X_train, X_test, y_train, y_test = train_test_split(X, y, test_size=0.20, random_state = 68)"
      ],
      "execution_count": null,
      "outputs": []
    },
    {
      "cell_type": "code",
      "metadata": {
        "id": "nG_Qia37cvXM"
      },
      "source": [
        "# i will do the coding for logistic regression \n",
        "\n",
        "# performance of a classificaiton model ---> tom. \n",
        "\n",
        "\n",
        "# package ---> \n",
        "\n",
        "\n",
        "\n",
        "# call\n",
        "\n",
        "log_reg = LogisticRegression(max_iter = 1000)\n",
        "\n",
        "# fit \n",
        "\n",
        "log_reg.fit(X_train, y_train)\n",
        "\n",
        "\n",
        "\n",
        "# predict \n",
        "\n",
        "y_pred_test = log_reg.predict(X_test)\n",
        "y_pred_train = log_reg.predict(X_train)"
      ],
      "execution_count": null,
      "outputs": []
    },
    {
      "cell_type": "code",
      "metadata": {
        "colab": {
          "base_uri": "https://localhost:8080/"
        },
        "id": "sgRvK8C7gMgM",
        "outputId": "3e250d13-901c-490b-8750-db16cfbd15f6"
      },
      "source": [
        "print(y_pred_test)"
      ],
      "execution_count": null,
      "outputs": [
        {
          "output_type": "stream",
          "name": "stdout",
          "text": [
            "[0 0 0 0 0 0 0 0 1 1 0 1 0 0 1 1 0 1 1 1 1 0 0 1 0 1 0 1 0 1 0 0 0 1 0 0 1\n",
            " 1 0 1 0 0 1 1 0 1 1 1 1 1 1 1 1 0 1 0 0 1 1 1 0 0 0 0 0 0 0 1 0 1 0 0 0 0\n",
            " 1 0 0 0 1 0 1 1 1 1 0 1 1 0 0 1 0 1 0 0 1 0 0 1 0 1 0 0 1 0 0 0 1 0 1 1 0\n",
            " 0 0 0 1 0 0 1 0 1 1 0 1 1 1 0 1 1 0 1 0 0 0 1 1 1 1 0 1 1 1 1 0 0 0 1 0 1\n",
            " 0 1 1 1 0 1 0 1 0 0 1 0 0 1 1 1 1 0 0 1 0 0 0 0 0 0 0 0 1 0 0 1 0 0 0 1 0\n",
            " 0 0 0 1 1 0 0 1 0 0 0 1 0 1 0 0 1 0 1 0 0 0 1 1 1 1 0 1 1 1 0 0 1 0 0 1 0\n",
            " 0 0 1 0 0 0 0 1 0 0 0 0 0 1 1 0 1 0 0 0 0 0 0 1 0 0 0 1 0 1 1 0 1 1 0 1 0\n",
            " 1 1 0 1 0 0 0 1 1 0 0 1 0 0 1 0 0 0 0 0 0 0 0 0 0 1 0 1 1 1 1 0 1 1 0 1 0\n",
            " 0 1 0 1 1 0 0 1 0 0 1 0 0 0 0 1 1 1 0 1 0 0 1 0 0 1 1 0 1 1 0 0 1 0 0 0 1\n",
            " 0 0 0 0 0 0 1 1 1 0 1 0 0 0 1 1 0 1 0 1 0 1 0 1 0 1 0 1 0 0 1 0 1 0 0 1 1\n",
            " 1 0 0 1 1 1 0 0 1 0 0 1 1 0 0 0 0 0 1 1 0 0 0 0 0 0 1 1 1 0 0 1 0 0 1 0 0\n",
            " 0 0 0 1 0 1 0 0 0 0 0 1 0 1 1 1 0 1 0 0 0 1 1 1 1 0 1 0 1 0 1 0 0 1 0 0 0\n",
            " 0 1 0 0 0 0 0 0 1 0 0 0 1 0 1 0 0 0 1 0 1 0 1 1 0 0 0 0 1 1 1 0 1 0 0 0 0\n",
            " 1 0 1 1 0 0 1 0 1 0 0 0 0 0 1 0 0 0 0 1 0 0 1 0 0 1 0 1 0 0 1 0 1 0 1 1 1\n",
            " 0 0 1 0 0 0 1 1 1 1 1 1 0 1 0 1 0 1 1 0 1 1 1 0 1 0 0 1 0 1 1 0 0 0 1 1 0\n",
            " 0 0 1 0 0 0 0 0 0 0 1 0 0 0 0 1 0 1 1 1 1 0 0 1 1 0 1 1 0 1 0 0 1 0 1 0 0\n",
            " 1 0 1 0 0 1 0 0 0 0 1 1 0 1 0 0 0 0 0 1 0 0 0 1 0 0 1 0 1 1 1 1 1 0 0 0 1\n",
            " 0 1 0 0 1]\n"
          ]
        }
      ]
    },
    {
      "cell_type": "code",
      "metadata": {
        "colab": {
          "base_uri": "https://localhost:8080/"
        },
        "id": "0l1ZY7PIgqyp",
        "outputId": "5dc02c25-e907-491c-c2d6-0b3f4ce5c1f7"
      },
      "source": [
        "# threshold = 0.5 \n",
        "\n",
        "# threshold = 0.4 \n",
        "\n",
        "# I wnt you get the actual value \n",
        "\n",
        "\n",
        "print(log_reg.predict_proba(X_test))\n",
        "\n",
        "#\n",
        "\n",
        "# either you write your own function ---< 0 0.4===? 0 else 1 "
      ],
      "execution_count": null,
      "outputs": [
        {
          "output_type": "stream",
          "name": "stdout",
          "text": [
            "[[0.67797478 0.32202522]\n",
            " [0.69990713 0.30009287]\n",
            " [0.60929295 0.39070705]\n",
            " ...\n",
            " [0.57886943 0.42113057]\n",
            " [0.65434173 0.34565827]\n",
            " [0.10830441 0.89169559]]\n"
          ]
        }
      ]
    },
    {
      "cell_type": "code",
      "metadata": {
        "id": "DnYMHD_vjYTW"
      },
      "source": [
        "porb_preds = log_reg.predict_proba(X_test)\n",
        "porb_preds\n",
        "predictions = []\n",
        "for x in porb_preds:\n",
        "    if x[0] > 0.99:\n",
        "        predictions.append(0)\n",
        "    else:\n",
        "        predictions.append(1)"
      ],
      "execution_count": null,
      "outputs": []
    },
    {
      "cell_type": "code",
      "metadata": {
        "colab": {
          "base_uri": "https://localhost:8080/"
        },
        "id": "swZ_cKa3jg4o",
        "outputId": "501731ad-5c51-47be-ea8d-ee8daae6bf9a"
      },
      "source": [
        "print(predictions)"
      ],
      "execution_count": null,
      "outputs": [
        {
          "output_type": "stream",
          "name": "stdout",
          "text": [
            "[1, 1, 1, 1, 1, 1, 1, 1, 1, 1, 1, 1, 1, 1, 1, 1, 1, 1, 1, 1, 1, 1, 1, 1, 1, 1, 1, 1, 1, 1, 1, 1, 1, 1, 1, 1, 1, 1, 1, 1, 1, 1, 1, 1, 1, 1, 1, 1, 1, 1, 1, 1, 1, 1, 1, 1, 1, 1, 1, 1, 1, 1, 1, 1, 1, 1, 1, 1, 1, 1, 1, 1, 1, 1, 1, 1, 1, 1, 1, 1, 1, 1, 1, 1, 1, 1, 1, 1, 1, 1, 1, 1, 1, 1, 1, 1, 1, 1, 1, 1, 1, 1, 1, 1, 1, 1, 1, 1, 1, 1, 1, 1, 1, 1, 1, 1, 1, 1, 1, 1, 1, 1, 1, 1, 1, 1, 1, 1, 1, 1, 1, 1, 1, 1, 1, 1, 1, 1, 1, 1, 1, 1, 1, 1, 1, 1, 1, 1, 1, 1, 1, 1, 1, 1, 1, 1, 1, 1, 1, 1, 1, 1, 1, 1, 1, 1, 1, 1, 1, 1, 1, 1, 1, 1, 1, 1, 1, 1, 1, 1, 1, 1, 1, 1, 1, 1, 1, 1, 1, 1, 1, 1, 1, 1, 1, 1, 1, 1, 1, 1, 1, 1, 1, 1, 1, 1, 1, 1, 1, 1, 1, 1, 1, 1, 1, 1, 1, 1, 1, 1, 1, 1, 1, 1, 1, 1, 1, 1, 1, 1, 1, 1, 1, 1, 1, 1, 1, 1, 1, 1, 1, 1, 1, 1, 1, 1, 1, 1, 1, 1, 1, 1, 1, 1, 1, 1, 1, 1, 1, 1, 1, 1, 1, 1, 1, 1, 1, 1, 1, 1, 1, 1, 1, 1, 1, 1, 1, 1, 1, 1, 1, 1, 1, 1, 1, 1, 1, 1, 1, 1, 1, 1, 1, 1, 1, 1, 1, 1, 1, 1, 1, 1, 1, 1, 1, 1, 1, 1, 1, 1, 1, 1, 1, 1, 1, 1, 1, 1, 1, 1, 1, 1, 1, 1, 1, 1, 1, 1, 1, 1, 1, 1, 1, 1, 1, 1, 1, 1, 1, 1, 1, 1, 1, 1, 1, 1, 1, 1, 1, 1, 1, 1, 1, 1, 1, 1, 1, 1, 1, 1, 1, 1, 1, 1, 1, 1, 1, 1, 1, 1, 1, 1, 1, 1, 1, 1, 1, 1, 1, 1, 1, 1, 1, 1, 1, 1, 1, 1, 1, 1, 1, 1, 1, 1, 1, 1, 1, 1, 1, 1, 1, 1, 1, 1, 1, 1, 1, 1, 1, 1, 1, 1, 1, 1, 1, 1, 1, 1, 1, 1, 1, 1, 1, 1, 1, 1, 1, 1, 1, 1, 1, 1, 1, 1, 1, 1, 1, 1, 1, 1, 1, 1, 1, 1, 1, 1, 1, 1, 1, 1, 1, 1, 1, 1, 1, 1, 1, 1, 1, 1, 1, 1, 1, 1, 1, 1, 1, 1, 1, 1, 1, 1, 1, 1, 1, 1, 1, 1, 1, 1, 1, 1, 1, 1, 1, 1, 1, 1, 1, 1, 1, 1, 1, 1, 1, 1, 1, 1, 1, 1, 1, 1, 1, 1, 1, 1, 1, 1, 1, 1, 1, 1, 1, 1, 1, 1, 1, 1, 1, 1, 1, 1, 1, 1, 1, 1, 1, 1, 1, 1, 1, 1, 1, 1, 1, 1, 1, 1, 1, 1, 1, 1, 1, 1, 1, 1, 1, 1, 1, 1, 1, 1, 1, 1, 1, 1, 1, 1, 1, 1, 1, 1, 1, 1, 1, 1, 1, 1, 1, 1, 1, 1, 1, 1, 1, 1, 1, 1, 1, 1, 1, 1, 1, 1, 1, 1, 1, 1, 1, 1, 1, 1, 1, 1, 1, 1, 1, 1, 1, 1, 1, 1, 1, 1, 1, 1, 1, 1, 1, 1, 1, 1, 1, 1, 1, 1, 1, 1, 1, 1, 1, 1, 1, 1, 1, 1, 1, 1, 1, 1, 1, 1, 1, 1]\n"
          ]
        }
      ]
    },
    {
      "cell_type": "code",
      "metadata": {
        "colab": {
          "base_uri": "https://localhost:8080/"
        },
        "id": "SJgNUDMvZuRG",
        "outputId": "619bb04b-89ed-4d94-a971-106aba0ffd5a"
      },
      "source": [
        "# performance metrics of classificaoiton models \n",
        "\n",
        "# sklearn and get the confusion metrics\n",
        "\n",
        "from sklearn.metrics import confusion_matrix, precision_score, recall_score, f1_score\n",
        "\n",
        "tn, fp, fn, tp = confusion_matrix(y_test, y_pred_test).ravel()\n",
        "\n",
        "print(\"true negative:\", tn)\n",
        "print(\"false positive:\", fp)\n",
        "print(\"false negative:\", fn)\n",
        "print(\"true positive:\", tp)\n",
        "# look at the office documentation---> "
      ],
      "execution_count": null,
      "outputs": [
        {
          "output_type": "stream",
          "name": "stdout",
          "text": [
            "true negative: 324\n",
            "false positive: 9\n",
            "false negative: 44\n",
            "true positive: 257\n"
          ]
        }
      ]
    },
    {
      "cell_type": "code",
      "metadata": {
        "id": "giTdRiP-b4IW",
        "colab": {
          "base_uri": "https://localhost:8080/"
        },
        "outputId": "47dc439c-079c-498c-a7ef-4817f2acfcb9"
      },
      "source": [
        "# please calculate for the test data : recall precision accuracy f1-score \n",
        "\n",
        "precision = precision_score(y_test, y_pred_test)\n",
        "recall = recall_score(y_test, y_pred_test)\n",
        "f1_score = f1_score(y_test, y_pred_test, average=None)\n",
        "print('recall  : ', recall, '\\nprecisioin  : ', precision, '\\nf1_score : ', f1_score) "
      ],
      "execution_count": null,
      "outputs": [
        {
          "output_type": "stream",
          "name": "stdout",
          "text": [
            "recall  :  0.8538205980066446 \n",
            "precisioin  :  0.9661654135338346 \n",
            "f1_score :  [0.92439372 0.90652557]\n"
          ]
        }
      ]
    },
    {
      "cell_type": "code",
      "metadata": {
        "colab": {
          "base_uri": "https://localhost:8080/"
        },
        "id": "kw9iQOkGdSKn",
        "outputId": "4c87ec17-5cf8-4e8b-b92b-b2e64c95f05d"
      },
      "source": [
        "from sklearn.metrics import accuracy_score\n",
        "from sklearn.metrics import precision_score\n",
        "from sklearn.metrics import recall_score\n",
        "from sklearn.metrics import f1_score\n",
        "\n",
        "accuracy = accuracy_score(y_test, y_pred_test)\n",
        "print('Accuracy: %.3f' % accuracy)\n",
        "\n",
        "precision = precision_score(y_test, y_pred_test, average='binary')\n",
        "print('Precision: %.3f' % precision)\n",
        "\n",
        "recall = recall_score(y_test, y_pred_test, average='binary')\n",
        "print('Recall: %.3f' % recall)\n",
        "\n",
        "f1_score = f1_score(y_test, y_pred_test, average='binary')\n",
        "print('F1-score: %.3f' % f1_score)\n"
      ],
      "execution_count": null,
      "outputs": [
        {
          "output_type": "stream",
          "name": "stdout",
          "text": [
            "Accuracy: 0.916\n",
            "Precision: 0.966\n",
            "Recall: 0.854\n",
            "F1-score: 0.907\n"
          ]
        }
      ]
    },
    {
      "cell_type": "code",
      "metadata": {
        "colab": {
          "base_uri": "https://localhost:8080/"
        },
        "id": "AFQfb4xDeWBm",
        "outputId": "7884bc66-5d2f-4468-caad-87d2816a18b6"
      },
      "source": [
        "# can you find the same for train data \n",
        "\n",
        "from sklearn.metrics import accuracy_score\n",
        "from sklearn.metrics import precision_score\n",
        "from sklearn.metrics import recall_score\n",
        "from sklearn.metrics import f1_score\n",
        "\n",
        "accuracy = accuracy_score(y_train, y_pred_train)\n",
        "print('Accuracy: %.3f' % accuracy)\n",
        "\n",
        "precision = precision_score(y_train, y_pred_train, average='binary')\n",
        "print('Precision: %.3f' % precision)\n",
        "\n",
        "recall = recall_score(y_train, y_pred_train, average='binary')\n",
        "print('Recall: %.3f' % recall)\n",
        "\n",
        "f1_score = f1_score(y_train, y_pred_train, average='binary')\n",
        "print('F1-score: %.3f' % f1_score)\n"
      ],
      "execution_count": null,
      "outputs": [
        {
          "output_type": "stream",
          "name": "stdout",
          "text": [
            "Accuracy: 0.906\n",
            "Precision: 0.967\n",
            "Recall: 0.843\n",
            "F1-score: 0.900\n"
          ]
        }
      ]
    },
    {
      "cell_type": "code",
      "metadata": {
        "colab": {
          "base_uri": "https://localhost:8080/"
        },
        "id": "xcQ2dGrQdch0",
        "outputId": "e4035ea0-810c-491e-aabc-1db4383a4543"
      },
      "source": [
        "print(\"accuracy of test data:\" , (tp+tn)/(tp+tn+fp+fn))\n",
        "print(\"recall of test data:\" , (tp)/(tp+fn))\n",
        "recall= (tp)/(tp+fn)\n",
        "print(\"precision of test data:\" , (tp)/(tp+fp))\n",
        "precision = (tp)/(tp+fp)\n",
        "print(\"f1 score: \", (2*recall*precision/(precision+recall)))"
      ],
      "execution_count": null,
      "outputs": [
        {
          "output_type": "stream",
          "name": "stdout",
          "text": [
            "accuracy of test data: 0.916403785488959\n",
            "recall of test data: 0.8538205980066446\n",
            "precision of test data: 0.9661654135338346\n",
            "f1 score:  0.9065255731922398\n"
          ]
        }
      ]
    },
    {
      "cell_type": "code",
      "metadata": {
        "colab": {
          "base_uri": "https://localhost:8080/"
        },
        "id": "I-3Kzq21fmWR",
        "outputId": "651058e7-6468-407a-8851-e1997b65f1b2"
      },
      "source": [
        "# tree bases models \n",
        "\n",
        "from sklearn.metrics import classification_report\n",
        "\n",
        "cr = classification_report(y_train, y_pred_train)\n",
        "\n",
        "print(cr)\n",
        "\n"
      ],
      "execution_count": null,
      "outputs": [
        {
          "output_type": "stream",
          "name": "stdout",
          "text": [
            "              precision    recall  f1-score   support\n",
            "\n",
            "           0       0.86      0.97      0.91      1251\n",
            "           1       0.97      0.84      0.90      1283\n",
            "\n",
            "    accuracy                           0.91      2534\n",
            "   macro avg       0.91      0.91      0.91      2534\n",
            "weighted avg       0.91      0.91      0.91      2534\n",
            "\n"
          ]
        }
      ]
    },
    {
      "cell_type": "code",
      "metadata": {
        "colab": {
          "base_uri": "https://localhost:8080/"
        },
        "id": "vtC11SEHgg0R",
        "outputId": "62098db6-b50a-4fd8-ed55-71b70b90e49a"
      },
      "source": [
        "# tree bases models \n",
        "\n",
        "from sklearn.metrics import classification_report\n",
        "\n",
        "cr_test = classification_report(y_test, y_pred_test)\n",
        "\n",
        "print(cr_test)\n",
        "\n",
        "# assignm,ent , read the official documtnation on classification_report \n"
      ],
      "execution_count": null,
      "outputs": [
        {
          "output_type": "stream",
          "name": "stdout",
          "text": [
            "              precision    recall  f1-score   support\n",
            "\n",
            "           0       0.88      0.97      0.92       333\n",
            "           1       0.97      0.85      0.91       301\n",
            "\n",
            "    accuracy                           0.92       634\n",
            "   macro avg       0.92      0.91      0.92       634\n",
            "weighted avg       0.92      0.92      0.92       634\n",
            "\n"
          ]
        }
      ]
    },
    {
      "cell_type": "code",
      "metadata": {
        "id": "DWCyDD44rFdY"
      },
      "source": [
        "#call the fmodel \n",
        "\n",
        "dt = DecisionTreeClassifier()\n",
        "\n",
        "# fit # gini---> entropy \n",
        "\n",
        "dt.fit(X_train, y_train)\n",
        "\n",
        "# predict \n",
        "\n",
        "y_pred_test = dt.predict(X_test)"
      ],
      "execution_count": null,
      "outputs": []
    },
    {
      "cell_type": "code",
      "metadata": {
        "colab": {
          "base_uri": "https://localhost:8080/"
        },
        "id": "08L9jRa_rziY",
        "outputId": "5b7ad565-cb90-4fc9-9eb1-67d38d9f8e26"
      },
      "source": [
        "\n",
        "from sklearn.metrics import accuracy_score\n",
        "from sklearn.metrics import precision_score\n",
        "from sklearn.metrics import recall_score\n",
        "from sklearn.metrics import f1_score\n",
        "\n",
        "accuracy = accuracy_score(y_test, y_pred_test)\n",
        "print('Accuracy: %.3f' % accuracy)\n",
        "\n",
        "precision = precision_score(y_test, y_pred_test, average='binary')\n",
        "print('Precision: %.3f' % precision)\n",
        "\n",
        "recall = recall_score(y_test, y_pred_test, average='binary')\n",
        "print('Recall: %.3f' % recall)\n",
        "\n",
        "f1_score = f1_score(y_test, y_pred_test, average='binary')\n",
        "print('F1-score: %.3f' % f1_score)\n"
      ],
      "execution_count": null,
      "outputs": [
        {
          "output_type": "stream",
          "name": "stdout",
          "text": [
            "Accuracy: 0.970\n",
            "Precision: 0.961\n",
            "Recall: 0.977\n",
            "F1-score: 0.969\n"
          ]
        }
      ]
    },
    {
      "cell_type": "code",
      "metadata": {
        "id": "AU5epWayBqZ_"
      },
      "source": [
        "#call the fmodel \n",
        "\n",
        "dt = DecisionTreeClassifier('entropy')\n",
        "\n",
        "# fit # gini---> entropy \n",
        "\n",
        "dt.fit(X_train, y_train)\n",
        "\n",
        "# predict \n",
        "\n",
        "y_pred_test = dt.predict(X_test)"
      ],
      "execution_count": null,
      "outputs": []
    },
    {
      "cell_type": "code",
      "metadata": {
        "colab": {
          "base_uri": "https://localhost:8080/"
        },
        "id": "3G5ai22xB8he",
        "outputId": "a3a01858-15b1-4ef4-c9f0-710fd00968c9"
      },
      "source": [
        "\n",
        "from sklearn.metrics import accuracy_score\n",
        "from sklearn.metrics import precision_score\n",
        "from sklearn.metrics import recall_score\n",
        "from sklearn.metrics import f1_score\n",
        "\n",
        "accuracy = accuracy_score(y_test, y_pred_test)\n",
        "print('Accuracy: %.3f' % accuracy)\n",
        "\n",
        "precision = precision_score(y_test, y_pred_test, average='binary')\n",
        "print('Precision: %.3f' % precision)\n",
        "\n",
        "recall = recall_score(y_test, y_pred_test, average='binary')\n",
        "print('Recall: %.3f' % recall)\n",
        "\n",
        "f1_score = f1_score(y_test, y_pred_test, average='binary')\n",
        "print('F1-score: %.3f' % f1_score)\n"
      ],
      "execution_count": null,
      "outputs": [
        {
          "output_type": "stream",
          "name": "stdout",
          "text": [
            "Accuracy: 0.972\n",
            "Precision: 0.961\n",
            "Recall: 0.980\n",
            "F1-score: 0.970\n"
          ]
        }
      ]
    },
    {
      "cell_type": "code",
      "metadata": {
        "id": "-gZjuDD9CHQ_"
      },
      "source": [
        "#graphviz-- > decision tree \n",
        "\n",
        "# voice --> randomforest classifier \n",
        "\n",
        "#sklearn ---> \n",
        "\n",
        "from sklearn.ensemble import RandomForestClassifier\n",
        "\n",
        "\n",
        "# call \n",
        "rf = RandomForestClassifier(n_estimators = 100)\n",
        "#fit \n",
        "rf.fit(X_train, y_train)\n",
        "#predict \n",
        "y_pred_test = rf.predict(X_test)"
      ],
      "execution_count": null,
      "outputs": []
    },
    {
      "cell_type": "code",
      "metadata": {
        "colab": {
          "base_uri": "https://localhost:8080/"
        },
        "id": "iuS8IFXUHH95",
        "outputId": "df97d055-db92-4528-b441-70e2581b24b3"
      },
      "source": [
        "\n",
        "from sklearn.metrics import accuracy_score\n",
        "from sklearn.metrics import precision_score\n",
        "from sklearn.metrics import recall_score\n",
        "from sklearn.metrics import f1_score\n",
        "\n",
        "accuracy = accuracy_score(y_test, y_pred_test)\n",
        "print('Accuracy: %.3f' % accuracy)\n",
        "\n",
        "precision = precision_score(y_test, y_pred_test, average='binary')\n",
        "print('Precision: %.3f' % precision)\n",
        "\n",
        "recall = recall_score(y_test, y_pred_test, average='binary')\n",
        "print('Recall: %.3f' % recall)\n",
        "\n",
        "f1_score = f1_score(y_test, y_pred_test, average='binary')\n",
        "print('F1-score: %.3f' % f1_score)\n",
        "\n",
        "#12:24 break"
      ],
      "execution_count": null,
      "outputs": [
        {
          "output_type": "stream",
          "name": "stdout",
          "text": [
            "Accuracy: 0.984\n",
            "Precision: 0.980\n",
            "Recall: 0.987\n",
            "F1-score: 0.983\n"
          ]
        }
      ]
    },
    {
      "cell_type": "code",
      "metadata": {
        "id": "yXpn24R_MBR4"
      },
      "source": [
        "# boosting \n",
        "\n",
        "# CAN YOU APPLY boosting using SKLEARN --->\n",
        "\n",
        "import xgboost\n",
        "from xgboost import XGBClassifier"
      ],
      "execution_count": null,
      "outputs": []
    },
    {
      "cell_type": "code",
      "metadata": {
        "colab": {
          "base_uri": "https://localhost:8080/"
        },
        "id": "ve3C9terQssH",
        "outputId": "5234d470-3b5e-452f-d04e-b3ea99056f75"
      },
      "source": [
        "# call \n",
        "xgb = XGBClassifier()\n",
        "\n",
        "#fit \n",
        "xgb.fit(X_train, y_train)"
      ],
      "execution_count": null,
      "outputs": [
        {
          "output_type": "execute_result",
          "data": {
            "text/plain": [
              "XGBClassifier(base_score=0.5, booster='gbtree', colsample_bylevel=1,\n",
              "              colsample_bynode=1, colsample_bytree=1, gamma=0,\n",
              "              learning_rate=0.1, max_delta_step=0, max_depth=3,\n",
              "              min_child_weight=1, missing=None, n_estimators=100, n_jobs=1,\n",
              "              nthread=None, objective='binary:logistic', random_state=0,\n",
              "              reg_alpha=0, reg_lambda=1, scale_pos_weight=1, seed=None,\n",
              "              silent=None, subsample=1, verbosity=1)"
            ]
          },
          "metadata": {},
          "execution_count": 63
        }
      ]
    },
    {
      "cell_type": "code",
      "metadata": {
        "id": "Aq0guZ32RTeR"
      },
      "source": [
        "y_pred_test = xgb.predict(X_test)"
      ],
      "execution_count": null,
      "outputs": []
    },
    {
      "cell_type": "code",
      "metadata": {
        "colab": {
          "base_uri": "https://localhost:8080/"
        },
        "id": "I3zeMeV5RbkQ",
        "outputId": "3a0391f6-cb52-4fa4-eee1-09bc200a6b79"
      },
      "source": [
        "\n",
        "from sklearn.metrics import accuracy_score\n",
        "from sklearn.metrics import precision_score\n",
        "from sklearn.metrics import recall_score\n",
        "from sklearn.metrics import f1_score\n",
        "\n",
        "accuracy = accuracy_score(y_test, y_pred_test)\n",
        "print('Accuracy: %.3f' % accuracy)\n",
        "\n",
        "precision = precision_score(y_test, y_pred_test, average='binary')\n",
        "print('Precision: %.3f' % precision)\n",
        "\n",
        "recall = recall_score(y_test, y_pred_test, average='binary')\n",
        "print('Recall: %.3f' % recall)\n",
        "\n",
        "f1_score = f1_score(y_test, y_pred_test, average='binary')\n",
        "print('F1-score: %.3f' % f1_score)\n",
        "\n",
        "#12:24 break"
      ],
      "execution_count": null,
      "outputs": [
        {
          "output_type": "stream",
          "name": "stdout",
          "text": [
            "Accuracy: 0.989\n",
            "Precision: 0.984\n",
            "Recall: 0.993\n",
            "F1-score: 0.988\n"
          ]
        }
      ]
    },
    {
      "cell_type": "code",
      "metadata": {
        "id": "vLC4lLk2SjTx",
        "colab": {
          "base_uri": "https://localhost:8080/"
        },
        "outputId": "0e15af05-7f45-4a1c-fe76-124536923bbe"
      },
      "source": [
        "# apply random search on random forest\n",
        "\n",
        "from sklearn.model_selection import RandomizedSearchCV\n",
        "\n",
        "estimator = RandomForestClassifier()\n",
        "param_distributions = {'n_estimators': [100,500,1000], 'criterion': ['gini', 'entropy'], 'min_samples_split': [2,4,6]}\n",
        "    \n",
        "clf = RandomizedSearchCV(estimator,param_distributions, random_state = 40, verbose = 30)\n",
        "clf.fit(X_train,y_train)\n",
        "\n",
        "clf.best_params_"
      ],
      "execution_count": null,
      "outputs": [
        {
          "output_type": "stream",
          "name": "stdout",
          "text": [
            "Fitting 5 folds for each of 10 candidates, totalling 50 fits\n",
            "[CV] n_estimators=1000, min_samples_split=6, criterion=entropy .......\n"
          ]
        },
        {
          "output_type": "stream",
          "name": "stderr",
          "text": [
            "[Parallel(n_jobs=1)]: Using backend SequentialBackend with 1 concurrent workers.\n"
          ]
        },
        {
          "output_type": "stream",
          "name": "stdout",
          "text": [
            "[CV]  n_estimators=1000, min_samples_split=6, criterion=entropy, score=0.978, total=   5.4s\n",
            "[CV] n_estimators=1000, min_samples_split=6, criterion=entropy .......\n"
          ]
        },
        {
          "output_type": "stream",
          "name": "stderr",
          "text": [
            "[Parallel(n_jobs=1)]: Done   1 out of   1 | elapsed:    5.4s remaining:    0.0s\n"
          ]
        },
        {
          "output_type": "stream",
          "name": "stdout",
          "text": [
            "[CV]  n_estimators=1000, min_samples_split=6, criterion=entropy, score=0.982, total=   5.5s\n",
            "[CV] n_estimators=1000, min_samples_split=6, criterion=entropy .......\n"
          ]
        },
        {
          "output_type": "stream",
          "name": "stderr",
          "text": [
            "[Parallel(n_jobs=1)]: Done   2 out of   2 | elapsed:   10.9s remaining:    0.0s\n"
          ]
        },
        {
          "output_type": "stream",
          "name": "stdout",
          "text": [
            "[CV]  n_estimators=1000, min_samples_split=6, criterion=entropy, score=0.976, total=   5.4s\n",
            "[CV] n_estimators=1000, min_samples_split=6, criterion=entropy .......\n"
          ]
        },
        {
          "output_type": "stream",
          "name": "stderr",
          "text": [
            "[Parallel(n_jobs=1)]: Done   3 out of   3 | elapsed:   16.3s remaining:    0.0s\n"
          ]
        },
        {
          "output_type": "stream",
          "name": "stdout",
          "text": [
            "[CV]  n_estimators=1000, min_samples_split=6, criterion=entropy, score=0.968, total=   5.4s\n",
            "[CV] n_estimators=1000, min_samples_split=6, criterion=entropy .......\n"
          ]
        },
        {
          "output_type": "stream",
          "name": "stderr",
          "text": [
            "[Parallel(n_jobs=1)]: Done   4 out of   4 | elapsed:   21.7s remaining:    0.0s\n"
          ]
        },
        {
          "output_type": "stream",
          "name": "stdout",
          "text": [
            "[CV]  n_estimators=1000, min_samples_split=6, criterion=entropy, score=0.986, total=   5.6s\n",
            "[CV] n_estimators=100, min_samples_split=2, criterion=gini ...........\n"
          ]
        },
        {
          "output_type": "stream",
          "name": "stderr",
          "text": [
            "[Parallel(n_jobs=1)]: Done   5 out of   5 | elapsed:   27.2s remaining:    0.0s\n"
          ]
        },
        {
          "output_type": "stream",
          "name": "stdout",
          "text": [
            "[CV]  n_estimators=100, min_samples_split=2, criterion=gini, score=0.978, total=   0.4s\n",
            "[CV] n_estimators=100, min_samples_split=2, criterion=gini ...........\n"
          ]
        },
        {
          "output_type": "stream",
          "name": "stderr",
          "text": [
            "[Parallel(n_jobs=1)]: Done   6 out of   6 | elapsed:   27.7s remaining:    0.0s\n"
          ]
        },
        {
          "output_type": "stream",
          "name": "stdout",
          "text": [
            "[CV]  n_estimators=100, min_samples_split=2, criterion=gini, score=0.984, total=   0.4s\n",
            "[CV] n_estimators=100, min_samples_split=2, criterion=gini ...........\n"
          ]
        },
        {
          "output_type": "stream",
          "name": "stderr",
          "text": [
            "[Parallel(n_jobs=1)]: Done   7 out of   7 | elapsed:   28.1s remaining:    0.0s\n"
          ]
        },
        {
          "output_type": "stream",
          "name": "stdout",
          "text": [
            "[CV]  n_estimators=100, min_samples_split=2, criterion=gini, score=0.974, total=   0.5s\n",
            "[CV] n_estimators=100, min_samples_split=2, criterion=gini ...........\n"
          ]
        },
        {
          "output_type": "stream",
          "name": "stderr",
          "text": [
            "[Parallel(n_jobs=1)]: Done   8 out of   8 | elapsed:   28.5s remaining:    0.0s\n"
          ]
        },
        {
          "output_type": "stream",
          "name": "stdout",
          "text": [
            "[CV]  n_estimators=100, min_samples_split=2, criterion=gini, score=0.968, total=   0.4s\n",
            "[CV] n_estimators=100, min_samples_split=2, criterion=gini ...........\n"
          ]
        },
        {
          "output_type": "stream",
          "name": "stderr",
          "text": [
            "[Parallel(n_jobs=1)]: Done   9 out of   9 | elapsed:   29.0s remaining:    0.0s\n"
          ]
        },
        {
          "output_type": "stream",
          "name": "stdout",
          "text": [
            "[CV]  n_estimators=100, min_samples_split=2, criterion=gini, score=0.986, total=   0.4s\n",
            "[CV] n_estimators=1000, min_samples_split=2, criterion=entropy .......\n"
          ]
        },
        {
          "output_type": "stream",
          "name": "stderr",
          "text": [
            "[Parallel(n_jobs=1)]: Done  10 out of  10 | elapsed:   29.4s remaining:    0.0s\n"
          ]
        },
        {
          "output_type": "stream",
          "name": "stdout",
          "text": [
            "[CV]  n_estimators=1000, min_samples_split=2, criterion=entropy, score=0.976, total=   5.5s\n",
            "[CV] n_estimators=1000, min_samples_split=2, criterion=entropy .......\n"
          ]
        },
        {
          "output_type": "stream",
          "name": "stderr",
          "text": [
            "[Parallel(n_jobs=1)]: Done  11 out of  11 | elapsed:   34.9s remaining:    0.0s\n"
          ]
        },
        {
          "output_type": "stream",
          "name": "stdout",
          "text": [
            "[CV]  n_estimators=1000, min_samples_split=2, criterion=entropy, score=0.982, total=   5.5s\n",
            "[CV] n_estimators=1000, min_samples_split=2, criterion=entropy .......\n"
          ]
        },
        {
          "output_type": "stream",
          "name": "stderr",
          "text": [
            "[Parallel(n_jobs=1)]: Done  12 out of  12 | elapsed:   40.4s remaining:    0.0s\n"
          ]
        },
        {
          "output_type": "stream",
          "name": "stdout",
          "text": [
            "[CV]  n_estimators=1000, min_samples_split=2, criterion=entropy, score=0.976, total=   5.5s\n",
            "[CV] n_estimators=1000, min_samples_split=2, criterion=entropy .......\n"
          ]
        },
        {
          "output_type": "stream",
          "name": "stderr",
          "text": [
            "[Parallel(n_jobs=1)]: Done  13 out of  13 | elapsed:   45.9s remaining:    0.0s\n"
          ]
        },
        {
          "output_type": "stream",
          "name": "stdout",
          "text": [
            "[CV]  n_estimators=1000, min_samples_split=2, criterion=entropy, score=0.968, total=   5.4s\n",
            "[CV] n_estimators=1000, min_samples_split=2, criterion=entropy .......\n"
          ]
        },
        {
          "output_type": "stream",
          "name": "stderr",
          "text": [
            "[Parallel(n_jobs=1)]: Done  14 out of  14 | elapsed:   51.4s remaining:    0.0s\n"
          ]
        },
        {
          "output_type": "stream",
          "name": "stdout",
          "text": [
            "[CV]  n_estimators=1000, min_samples_split=2, criterion=entropy, score=0.986, total=   5.6s\n",
            "[CV] n_estimators=500, min_samples_split=4, criterion=gini ...........\n"
          ]
        },
        {
          "output_type": "stream",
          "name": "stderr",
          "text": [
            "[Parallel(n_jobs=1)]: Done  15 out of  15 | elapsed:   57.0s remaining:    0.0s\n"
          ]
        },
        {
          "output_type": "stream",
          "name": "stdout",
          "text": [
            "[CV]  n_estimators=500, min_samples_split=4, criterion=gini, score=0.976, total=   2.0s\n",
            "[CV] n_estimators=500, min_samples_split=4, criterion=gini ...........\n"
          ]
        },
        {
          "output_type": "stream",
          "name": "stderr",
          "text": [
            "[Parallel(n_jobs=1)]: Done  16 out of  16 | elapsed:   59.1s remaining:    0.0s\n"
          ]
        },
        {
          "output_type": "stream",
          "name": "stdout",
          "text": [
            "[CV]  n_estimators=500, min_samples_split=4, criterion=gini, score=0.980, total=   2.1s\n",
            "[CV] n_estimators=500, min_samples_split=4, criterion=gini ...........\n"
          ]
        },
        {
          "output_type": "stream",
          "name": "stderr",
          "text": [
            "[Parallel(n_jobs=1)]: Done  17 out of  17 | elapsed:  1.0min remaining:    0.0s\n"
          ]
        },
        {
          "output_type": "stream",
          "name": "stdout",
          "text": [
            "[CV]  n_estimators=500, min_samples_split=4, criterion=gini, score=0.978, total=   2.0s\n",
            "[CV] n_estimators=500, min_samples_split=4, criterion=gini ...........\n"
          ]
        },
        {
          "output_type": "stream",
          "name": "stderr",
          "text": [
            "[Parallel(n_jobs=1)]: Done  18 out of  18 | elapsed:  1.1min remaining:    0.0s\n"
          ]
        },
        {
          "output_type": "stream",
          "name": "stdout",
          "text": [
            "[CV]  n_estimators=500, min_samples_split=4, criterion=gini, score=0.968, total=   2.0s\n",
            "[CV] n_estimators=500, min_samples_split=4, criterion=gini ...........\n"
          ]
        },
        {
          "output_type": "stream",
          "name": "stderr",
          "text": [
            "[Parallel(n_jobs=1)]: Done  19 out of  19 | elapsed:  1.1min remaining:    0.0s\n"
          ]
        },
        {
          "output_type": "stream",
          "name": "stdout",
          "text": [
            "[CV]  n_estimators=500, min_samples_split=4, criterion=gini, score=0.984, total=   2.0s\n",
            "[CV] n_estimators=100, min_samples_split=6, criterion=entropy ........\n"
          ]
        },
        {
          "output_type": "stream",
          "name": "stderr",
          "text": [
            "[Parallel(n_jobs=1)]: Done  20 out of  20 | elapsed:  1.1min remaining:    0.0s\n"
          ]
        },
        {
          "output_type": "stream",
          "name": "stdout",
          "text": [
            "[CV]  n_estimators=100, min_samples_split=6, criterion=entropy, score=0.974, total=   0.5s\n",
            "[CV] n_estimators=100, min_samples_split=6, criterion=entropy ........\n"
          ]
        },
        {
          "output_type": "stream",
          "name": "stderr",
          "text": [
            "[Parallel(n_jobs=1)]: Done  21 out of  21 | elapsed:  1.1min remaining:    0.0s\n"
          ]
        },
        {
          "output_type": "stream",
          "name": "stdout",
          "text": [
            "[CV]  n_estimators=100, min_samples_split=6, criterion=entropy, score=0.982, total=   0.5s\n",
            "[CV] n_estimators=100, min_samples_split=6, criterion=entropy ........\n"
          ]
        },
        {
          "output_type": "stream",
          "name": "stderr",
          "text": [
            "[Parallel(n_jobs=1)]: Done  22 out of  22 | elapsed:  1.1min remaining:    0.0s\n"
          ]
        },
        {
          "output_type": "stream",
          "name": "stdout",
          "text": [
            "[CV]  n_estimators=100, min_samples_split=6, criterion=entropy, score=0.972, total=   0.6s\n",
            "[CV] n_estimators=100, min_samples_split=6, criterion=entropy ........\n"
          ]
        },
        {
          "output_type": "stream",
          "name": "stderr",
          "text": [
            "[Parallel(n_jobs=1)]: Done  23 out of  23 | elapsed:  1.1min remaining:    0.0s\n"
          ]
        },
        {
          "output_type": "stream",
          "name": "stdout",
          "text": [
            "[CV]  n_estimators=100, min_samples_split=6, criterion=entropy, score=0.970, total=   0.5s\n",
            "[CV] n_estimators=100, min_samples_split=6, criterion=entropy ........\n"
          ]
        },
        {
          "output_type": "stream",
          "name": "stderr",
          "text": [
            "[Parallel(n_jobs=1)]: Done  24 out of  24 | elapsed:  1.2min remaining:    0.0s\n"
          ]
        },
        {
          "output_type": "stream",
          "name": "stdout",
          "text": [
            "[CV]  n_estimators=100, min_samples_split=6, criterion=entropy, score=0.982, total=   0.6s\n",
            "[CV] n_estimators=500, min_samples_split=4, criterion=entropy ........\n"
          ]
        },
        {
          "output_type": "stream",
          "name": "stderr",
          "text": [
            "[Parallel(n_jobs=1)]: Done  25 out of  25 | elapsed:  1.2min remaining:    0.0s\n"
          ]
        },
        {
          "output_type": "stream",
          "name": "stdout",
          "text": [
            "[CV]  n_estimators=500, min_samples_split=4, criterion=entropy, score=0.974, total=   2.8s\n",
            "[CV] n_estimators=500, min_samples_split=4, criterion=entropy ........\n"
          ]
        },
        {
          "output_type": "stream",
          "name": "stderr",
          "text": [
            "[Parallel(n_jobs=1)]: Done  26 out of  26 | elapsed:  1.2min remaining:    0.0s\n"
          ]
        },
        {
          "output_type": "stream",
          "name": "stdout",
          "text": [
            "[CV]  n_estimators=500, min_samples_split=4, criterion=entropy, score=0.982, total=   2.8s\n",
            "[CV] n_estimators=500, min_samples_split=4, criterion=entropy ........\n"
          ]
        },
        {
          "output_type": "stream",
          "name": "stderr",
          "text": [
            "[Parallel(n_jobs=1)]: Done  27 out of  27 | elapsed:  1.3min remaining:    0.0s\n"
          ]
        },
        {
          "output_type": "stream",
          "name": "stdout",
          "text": [
            "[CV]  n_estimators=500, min_samples_split=4, criterion=entropy, score=0.974, total=   2.7s\n",
            "[CV] n_estimators=500, min_samples_split=4, criterion=entropy ........\n"
          ]
        },
        {
          "output_type": "stream",
          "name": "stderr",
          "text": [
            "[Parallel(n_jobs=1)]: Done  28 out of  28 | elapsed:  1.3min remaining:    0.0s\n"
          ]
        },
        {
          "output_type": "stream",
          "name": "stdout",
          "text": [
            "[CV]  n_estimators=500, min_samples_split=4, criterion=entropy, score=0.968, total=   2.7s\n",
            "[CV] n_estimators=500, min_samples_split=4, criterion=entropy ........\n"
          ]
        },
        {
          "output_type": "stream",
          "name": "stderr",
          "text": [
            "[Parallel(n_jobs=1)]: Done  29 out of  29 | elapsed:  1.3min remaining:    0.0s\n"
          ]
        },
        {
          "output_type": "stream",
          "name": "stdout",
          "text": [
            "[CV]  n_estimators=500, min_samples_split=4, criterion=entropy, score=0.986, total=   2.8s\n",
            "[CV] n_estimators=100, min_samples_split=2, criterion=entropy ........\n",
            "[CV]  n_estimators=100, min_samples_split=2, criterion=entropy, score=0.976, total=   0.6s\n",
            "[CV] n_estimators=100, min_samples_split=2, criterion=entropy ........\n",
            "[CV]  n_estimators=100, min_samples_split=2, criterion=entropy, score=0.982, total=   0.6s\n",
            "[CV] n_estimators=100, min_samples_split=2, criterion=entropy ........\n",
            "[CV]  n_estimators=100, min_samples_split=2, criterion=entropy, score=0.976, total=   0.6s\n",
            "[CV] n_estimators=100, min_samples_split=2, criterion=entropy ........\n",
            "[CV]  n_estimators=100, min_samples_split=2, criterion=entropy, score=0.968, total=   0.5s\n",
            "[CV] n_estimators=100, min_samples_split=2, criterion=entropy ........\n",
            "[CV]  n_estimators=100, min_samples_split=2, criterion=entropy, score=0.986, total=   0.6s\n",
            "[CV] n_estimators=500, min_samples_split=2, criterion=entropy ........\n",
            "[CV]  n_estimators=500, min_samples_split=2, criterion=entropy, score=0.976, total=   2.7s\n",
            "[CV] n_estimators=500, min_samples_split=2, criterion=entropy ........\n",
            "[CV]  n_estimators=500, min_samples_split=2, criterion=entropy, score=0.980, total=   2.8s\n",
            "[CV] n_estimators=500, min_samples_split=2, criterion=entropy ........\n",
            "[CV]  n_estimators=500, min_samples_split=2, criterion=entropy, score=0.976, total=   2.8s\n",
            "[CV] n_estimators=500, min_samples_split=2, criterion=entropy ........\n",
            "[CV]  n_estimators=500, min_samples_split=2, criterion=entropy, score=0.968, total=   2.7s\n",
            "[CV] n_estimators=500, min_samples_split=2, criterion=entropy ........\n",
            "[CV]  n_estimators=500, min_samples_split=2, criterion=entropy, score=0.982, total=   2.8s\n",
            "[CV] n_estimators=100, min_samples_split=4, criterion=gini ...........\n",
            "[CV]  n_estimators=100, min_samples_split=4, criterion=gini, score=0.976, total=   0.4s\n",
            "[CV] n_estimators=100, min_samples_split=4, criterion=gini ...........\n",
            "[CV]  n_estimators=100, min_samples_split=4, criterion=gini, score=0.982, total=   0.4s\n",
            "[CV] n_estimators=100, min_samples_split=4, criterion=gini ...........\n",
            "[CV]  n_estimators=100, min_samples_split=4, criterion=gini, score=0.974, total=   0.4s\n",
            "[CV] n_estimators=100, min_samples_split=4, criterion=gini ...........\n",
            "[CV]  n_estimators=100, min_samples_split=4, criterion=gini, score=0.970, total=   0.4s\n",
            "[CV] n_estimators=100, min_samples_split=4, criterion=gini ...........\n",
            "[CV]  n_estimators=100, min_samples_split=4, criterion=gini, score=0.984, total=   0.4s\n",
            "[CV] n_estimators=100, min_samples_split=4, criterion=entropy ........\n",
            "[CV]  n_estimators=100, min_samples_split=4, criterion=entropy, score=0.974, total=   0.6s\n",
            "[CV] n_estimators=100, min_samples_split=4, criterion=entropy ........\n",
            "[CV]  n_estimators=100, min_samples_split=4, criterion=entropy, score=0.984, total=   0.6s\n",
            "[CV] n_estimators=100, min_samples_split=4, criterion=entropy ........\n",
            "[CV]  n_estimators=100, min_samples_split=4, criterion=entropy, score=0.976, total=   0.6s\n",
            "[CV] n_estimators=100, min_samples_split=4, criterion=entropy ........\n",
            "[CV]  n_estimators=100, min_samples_split=4, criterion=entropy, score=0.968, total=   0.6s\n",
            "[CV] n_estimators=100, min_samples_split=4, criterion=entropy ........\n",
            "[CV]  n_estimators=100, min_samples_split=4, criterion=entropy, score=0.982, total=   0.6s\n"
          ]
        },
        {
          "output_type": "stream",
          "name": "stderr",
          "text": [
            "[Parallel(n_jobs=1)]: Done  50 out of  50 | elapsed:  1.8min finished\n"
          ]
        },
        {
          "output_type": "execute_result",
          "data": {
            "text/plain": [
              "{'criterion': 'entropy', 'min_samples_split': 6, 'n_estimators': 1000}"
            ]
          },
          "metadata": {},
          "execution_count": 19
        }
      ]
    },
    {
      "cell_type": "code",
      "metadata": {
        "colab": {
          "base_uri": "https://localhost:8080/"
        },
        "id": "E2_yokBIUm8D",
        "outputId": "fdb89bf4-1407-4584-a37b-01c7de4f4986"
      },
      "source": [
        "print(clf.best_params_)"
      ],
      "execution_count": null,
      "outputs": [
        {
          "output_type": "stream",
          "name": "stdout",
          "text": [
            "{'n_estimators': 500, 'criterion': 'gini'}\n"
          ]
        }
      ]
    },
    {
      "cell_type": "code",
      "metadata": {
        "colab": {
          "base_uri": "https://localhost:8080/"
        },
        "id": "ZkvsXR_mVStE",
        "outputId": "c3c78bab-523a-483e-f4a0-05dfe205a99e"
      },
      "source": [
        "# apply random search on random forest\n",
        "\n",
        "from sklearn.model_selection import GridSearchCV\n",
        "\n",
        "estimator = RandomForestClassifier()\n",
        "param_distributions = {'n_estimators': [100,500,1000], 'criterion': ['gini', 'entropy'], 'min_samples_split': [2,4,6]}\n",
        "    \n",
        "clf = GridSearchCV(estimator,param_distributions, verbose = 30)\n",
        "clf.fit(X_train,y_train)\n",
        "\n",
        "clf.best_params_"
      ],
      "execution_count": null,
      "outputs": [
        {
          "output_type": "stream",
          "name": "stdout",
          "text": [
            "Fitting 5 folds for each of 18 candidates, totalling 90 fits\n",
            "[CV] criterion=gini, min_samples_split=2, n_estimators=100 ...........\n"
          ]
        },
        {
          "output_type": "stream",
          "name": "stderr",
          "text": [
            "[Parallel(n_jobs=1)]: Using backend SequentialBackend with 1 concurrent workers.\n"
          ]
        },
        {
          "output_type": "stream",
          "name": "stdout",
          "text": [
            "[CV]  criterion=gini, min_samples_split=2, n_estimators=100, score=0.976, total=   0.4s\n",
            "[CV] criterion=gini, min_samples_split=2, n_estimators=100 ...........\n"
          ]
        },
        {
          "output_type": "stream",
          "name": "stderr",
          "text": [
            "[Parallel(n_jobs=1)]: Done   1 out of   1 | elapsed:    0.4s remaining:    0.0s\n"
          ]
        },
        {
          "output_type": "stream",
          "name": "stdout",
          "text": [
            "[CV]  criterion=gini, min_samples_split=2, n_estimators=100, score=0.980, total=   0.4s\n",
            "[CV] criterion=gini, min_samples_split=2, n_estimators=100 ...........\n"
          ]
        },
        {
          "output_type": "stream",
          "name": "stderr",
          "text": [
            "[Parallel(n_jobs=1)]: Done   2 out of   2 | elapsed:    0.8s remaining:    0.0s\n"
          ]
        },
        {
          "output_type": "stream",
          "name": "stdout",
          "text": [
            "[CV]  criterion=gini, min_samples_split=2, n_estimators=100, score=0.976, total=   0.4s\n",
            "[CV] criterion=gini, min_samples_split=2, n_estimators=100 ...........\n"
          ]
        },
        {
          "output_type": "stream",
          "name": "stderr",
          "text": [
            "[Parallel(n_jobs=1)]: Done   3 out of   3 | elapsed:    1.3s remaining:    0.0s\n"
          ]
        },
        {
          "output_type": "stream",
          "name": "stdout",
          "text": [
            "[CV]  criterion=gini, min_samples_split=2, n_estimators=100, score=0.968, total=   0.4s\n",
            "[CV] criterion=gini, min_samples_split=2, n_estimators=100 ...........\n"
          ]
        },
        {
          "output_type": "stream",
          "name": "stderr",
          "text": [
            "[Parallel(n_jobs=1)]: Done   4 out of   4 | elapsed:    1.7s remaining:    0.0s\n"
          ]
        },
        {
          "output_type": "stream",
          "name": "stdout",
          "text": [
            "[CV]  criterion=gini, min_samples_split=2, n_estimators=100, score=0.978, total=   0.4s\n",
            "[CV] criterion=gini, min_samples_split=2, n_estimators=500 ...........\n"
          ]
        },
        {
          "output_type": "stream",
          "name": "stderr",
          "text": [
            "[Parallel(n_jobs=1)]: Done   5 out of   5 | elapsed:    2.1s remaining:    0.0s\n"
          ]
        },
        {
          "output_type": "stream",
          "name": "stdout",
          "text": [
            "[CV]  criterion=gini, min_samples_split=2, n_estimators=500, score=0.978, total=   2.1s\n",
            "[CV] criterion=gini, min_samples_split=2, n_estimators=500 ...........\n"
          ]
        },
        {
          "output_type": "stream",
          "name": "stderr",
          "text": [
            "[Parallel(n_jobs=1)]: Done   6 out of   6 | elapsed:    4.2s remaining:    0.0s\n"
          ]
        },
        {
          "output_type": "stream",
          "name": "stdout",
          "text": [
            "[CV]  criterion=gini, min_samples_split=2, n_estimators=500, score=0.980, total=   2.1s\n",
            "[CV] criterion=gini, min_samples_split=2, n_estimators=500 ...........\n"
          ]
        },
        {
          "output_type": "stream",
          "name": "stderr",
          "text": [
            "[Parallel(n_jobs=1)]: Done   7 out of   7 | elapsed:    6.3s remaining:    0.0s\n"
          ]
        },
        {
          "output_type": "stream",
          "name": "stdout",
          "text": [
            "[CV]  criterion=gini, min_samples_split=2, n_estimators=500, score=0.978, total=   2.1s\n",
            "[CV] criterion=gini, min_samples_split=2, n_estimators=500 ...........\n"
          ]
        },
        {
          "output_type": "stream",
          "name": "stderr",
          "text": [
            "[Parallel(n_jobs=1)]: Done   8 out of   8 | elapsed:    8.4s remaining:    0.0s\n"
          ]
        },
        {
          "output_type": "stream",
          "name": "stdout",
          "text": [
            "[CV]  criterion=gini, min_samples_split=2, n_estimators=500, score=0.968, total=   2.0s\n",
            "[CV] criterion=gini, min_samples_split=2, n_estimators=500 ...........\n"
          ]
        },
        {
          "output_type": "stream",
          "name": "stderr",
          "text": [
            "[Parallel(n_jobs=1)]: Done   9 out of   9 | elapsed:   10.4s remaining:    0.0s\n"
          ]
        },
        {
          "output_type": "stream",
          "name": "stdout",
          "text": [
            "[CV]  criterion=gini, min_samples_split=2, n_estimators=500, score=0.986, total=   2.1s\n",
            "[CV] criterion=gini, min_samples_split=2, n_estimators=1000 ..........\n"
          ]
        },
        {
          "output_type": "stream",
          "name": "stderr",
          "text": [
            "[Parallel(n_jobs=1)]: Done  10 out of  10 | elapsed:   12.5s remaining:    0.0s\n"
          ]
        },
        {
          "output_type": "stream",
          "name": "stdout",
          "text": [
            "[CV]  criterion=gini, min_samples_split=2, n_estimators=1000, score=0.976, total=   4.0s\n",
            "[CV] criterion=gini, min_samples_split=2, n_estimators=1000 ..........\n"
          ]
        },
        {
          "output_type": "stream",
          "name": "stderr",
          "text": [
            "[Parallel(n_jobs=1)]: Done  11 out of  11 | elapsed:   16.5s remaining:    0.0s\n"
          ]
        },
        {
          "output_type": "stream",
          "name": "stdout",
          "text": [
            "[CV]  criterion=gini, min_samples_split=2, n_estimators=1000, score=0.982, total=   4.1s\n",
            "[CV] criterion=gini, min_samples_split=2, n_estimators=1000 ..........\n"
          ]
        },
        {
          "output_type": "stream",
          "name": "stderr",
          "text": [
            "[Parallel(n_jobs=1)]: Done  12 out of  12 | elapsed:   20.5s remaining:    0.0s\n"
          ]
        },
        {
          "output_type": "stream",
          "name": "stdout",
          "text": [
            "[CV]  criterion=gini, min_samples_split=2, n_estimators=1000, score=0.978, total=   4.0s\n",
            "[CV] criterion=gini, min_samples_split=2, n_estimators=1000 ..........\n"
          ]
        },
        {
          "output_type": "stream",
          "name": "stderr",
          "text": [
            "[Parallel(n_jobs=1)]: Done  13 out of  13 | elapsed:   24.6s remaining:    0.0s\n"
          ]
        },
        {
          "output_type": "stream",
          "name": "stdout",
          "text": [
            "[CV]  criterion=gini, min_samples_split=2, n_estimators=1000, score=0.968, total=   4.0s\n",
            "[CV] criterion=gini, min_samples_split=2, n_estimators=1000 ..........\n"
          ]
        },
        {
          "output_type": "stream",
          "name": "stderr",
          "text": [
            "[Parallel(n_jobs=1)]: Done  14 out of  14 | elapsed:   28.5s remaining:    0.0s\n"
          ]
        },
        {
          "output_type": "stream",
          "name": "stdout",
          "text": [
            "[CV]  criterion=gini, min_samples_split=2, n_estimators=1000, score=0.986, total=   4.1s\n",
            "[CV] criterion=gini, min_samples_split=4, n_estimators=100 ...........\n"
          ]
        },
        {
          "output_type": "stream",
          "name": "stderr",
          "text": [
            "[Parallel(n_jobs=1)]: Done  15 out of  15 | elapsed:   32.6s remaining:    0.0s\n"
          ]
        },
        {
          "output_type": "stream",
          "name": "stdout",
          "text": [
            "[CV]  criterion=gini, min_samples_split=4, n_estimators=100, score=0.976, total=   0.4s\n",
            "[CV] criterion=gini, min_samples_split=4, n_estimators=100 ...........\n"
          ]
        },
        {
          "output_type": "stream",
          "name": "stderr",
          "text": [
            "[Parallel(n_jobs=1)]: Done  16 out of  16 | elapsed:   33.0s remaining:    0.0s\n"
          ]
        },
        {
          "output_type": "stream",
          "name": "stdout",
          "text": [
            "[CV]  criterion=gini, min_samples_split=4, n_estimators=100, score=0.982, total=   0.4s\n",
            "[CV] criterion=gini, min_samples_split=4, n_estimators=100 ...........\n"
          ]
        },
        {
          "output_type": "stream",
          "name": "stderr",
          "text": [
            "[Parallel(n_jobs=1)]: Done  17 out of  17 | elapsed:   33.4s remaining:    0.0s\n"
          ]
        },
        {
          "output_type": "stream",
          "name": "stdout",
          "text": [
            "[CV]  criterion=gini, min_samples_split=4, n_estimators=100, score=0.974, total=   0.4s\n",
            "[CV] criterion=gini, min_samples_split=4, n_estimators=100 ...........\n"
          ]
        },
        {
          "output_type": "stream",
          "name": "stderr",
          "text": [
            "[Parallel(n_jobs=1)]: Done  18 out of  18 | elapsed:   33.9s remaining:    0.0s\n"
          ]
        },
        {
          "output_type": "stream",
          "name": "stdout",
          "text": [
            "[CV]  criterion=gini, min_samples_split=4, n_estimators=100, score=0.966, total=   0.4s\n",
            "[CV] criterion=gini, min_samples_split=4, n_estimators=100 ...........\n"
          ]
        },
        {
          "output_type": "stream",
          "name": "stderr",
          "text": [
            "[Parallel(n_jobs=1)]: Done  19 out of  19 | elapsed:   34.3s remaining:    0.0s\n"
          ]
        },
        {
          "output_type": "stream",
          "name": "stdout",
          "text": [
            "[CV]  criterion=gini, min_samples_split=4, n_estimators=100, score=0.982, total=   0.4s\n",
            "[CV] criterion=gini, min_samples_split=4, n_estimators=500 ...........\n"
          ]
        },
        {
          "output_type": "stream",
          "name": "stderr",
          "text": [
            "[Parallel(n_jobs=1)]: Done  20 out of  20 | elapsed:   34.7s remaining:    0.0s\n"
          ]
        },
        {
          "output_type": "stream",
          "name": "stdout",
          "text": [
            "[CV]  criterion=gini, min_samples_split=4, n_estimators=500, score=0.976, total=   2.0s\n",
            "[CV] criterion=gini, min_samples_split=4, n_estimators=500 ...........\n"
          ]
        },
        {
          "output_type": "stream",
          "name": "stderr",
          "text": [
            "[Parallel(n_jobs=1)]: Done  21 out of  21 | elapsed:   36.7s remaining:    0.0s\n"
          ]
        },
        {
          "output_type": "stream",
          "name": "stdout",
          "text": [
            "[CV]  criterion=gini, min_samples_split=4, n_estimators=500, score=0.980, total=   2.0s\n",
            "[CV] criterion=gini, min_samples_split=4, n_estimators=500 ...........\n"
          ]
        },
        {
          "output_type": "stream",
          "name": "stderr",
          "text": [
            "[Parallel(n_jobs=1)]: Done  22 out of  22 | elapsed:   38.7s remaining:    0.0s\n"
          ]
        },
        {
          "output_type": "stream",
          "name": "stdout",
          "text": [
            "[CV]  criterion=gini, min_samples_split=4, n_estimators=500, score=0.978, total=   2.0s\n",
            "[CV] criterion=gini, min_samples_split=4, n_estimators=500 ...........\n"
          ]
        },
        {
          "output_type": "stream",
          "name": "stderr",
          "text": [
            "[Parallel(n_jobs=1)]: Done  23 out of  23 | elapsed:   40.8s remaining:    0.0s\n"
          ]
        },
        {
          "output_type": "stream",
          "name": "stdout",
          "text": [
            "[CV]  criterion=gini, min_samples_split=4, n_estimators=500, score=0.968, total=   2.0s\n",
            "[CV] criterion=gini, min_samples_split=4, n_estimators=500 ...........\n"
          ]
        },
        {
          "output_type": "stream",
          "name": "stderr",
          "text": [
            "[Parallel(n_jobs=1)]: Done  24 out of  24 | elapsed:   42.8s remaining:    0.0s\n"
          ]
        },
        {
          "output_type": "stream",
          "name": "stdout",
          "text": [
            "[CV]  criterion=gini, min_samples_split=4, n_estimators=500, score=0.986, total=   2.1s\n",
            "[CV] criterion=gini, min_samples_split=4, n_estimators=1000 ..........\n"
          ]
        },
        {
          "output_type": "stream",
          "name": "stderr",
          "text": [
            "[Parallel(n_jobs=1)]: Done  25 out of  25 | elapsed:   44.9s remaining:    0.0s\n"
          ]
        },
        {
          "output_type": "stream",
          "name": "stdout",
          "text": [
            "[CV]  criterion=gini, min_samples_split=4, n_estimators=1000, score=0.976, total=   4.0s\n",
            "[CV] criterion=gini, min_samples_split=4, n_estimators=1000 ..........\n"
          ]
        },
        {
          "output_type": "stream",
          "name": "stderr",
          "text": [
            "[Parallel(n_jobs=1)]: Done  26 out of  26 | elapsed:   48.9s remaining:    0.0s\n"
          ]
        },
        {
          "output_type": "stream",
          "name": "stdout",
          "text": [
            "[CV]  criterion=gini, min_samples_split=4, n_estimators=1000, score=0.982, total=   4.0s\n",
            "[CV] criterion=gini, min_samples_split=4, n_estimators=1000 ..........\n"
          ]
        },
        {
          "output_type": "stream",
          "name": "stderr",
          "text": [
            "[Parallel(n_jobs=1)]: Done  27 out of  27 | elapsed:   52.9s remaining:    0.0s\n"
          ]
        },
        {
          "output_type": "stream",
          "name": "stdout",
          "text": [
            "[CV]  criterion=gini, min_samples_split=4, n_estimators=1000, score=0.980, total=   4.0s\n",
            "[CV] criterion=gini, min_samples_split=4, n_estimators=1000 ..........\n"
          ]
        },
        {
          "output_type": "stream",
          "name": "stderr",
          "text": [
            "[Parallel(n_jobs=1)]: Done  28 out of  28 | elapsed:   56.9s remaining:    0.0s\n"
          ]
        },
        {
          "output_type": "stream",
          "name": "stdout",
          "text": [
            "[CV]  criterion=gini, min_samples_split=4, n_estimators=1000, score=0.968, total=   3.9s\n",
            "[CV] criterion=gini, min_samples_split=4, n_estimators=1000 ..........\n"
          ]
        },
        {
          "output_type": "stream",
          "name": "stderr",
          "text": [
            "[Parallel(n_jobs=1)]: Done  29 out of  29 | elapsed:  1.0min remaining:    0.0s\n"
          ]
        },
        {
          "output_type": "stream",
          "name": "stdout",
          "text": [
            "[CV]  criterion=gini, min_samples_split=4, n_estimators=1000, score=0.986, total=   4.1s\n",
            "[CV] criterion=gini, min_samples_split=6, n_estimators=100 ...........\n",
            "[CV]  criterion=gini, min_samples_split=6, n_estimators=100, score=0.978, total=   0.4s\n",
            "[CV] criterion=gini, min_samples_split=6, n_estimators=100 ...........\n",
            "[CV]  criterion=gini, min_samples_split=6, n_estimators=100, score=0.982, total=   0.4s\n",
            "[CV] criterion=gini, min_samples_split=6, n_estimators=100 ...........\n",
            "[CV]  criterion=gini, min_samples_split=6, n_estimators=100, score=0.970, total=   0.4s\n",
            "[CV] criterion=gini, min_samples_split=6, n_estimators=100 ...........\n",
            "[CV]  criterion=gini, min_samples_split=6, n_estimators=100, score=0.968, total=   0.4s\n",
            "[CV] criterion=gini, min_samples_split=6, n_estimators=100 ...........\n",
            "[CV]  criterion=gini, min_samples_split=6, n_estimators=100, score=0.984, total=   0.4s\n",
            "[CV] criterion=gini, min_samples_split=6, n_estimators=500 ...........\n",
            "[CV]  criterion=gini, min_samples_split=6, n_estimators=500, score=0.976, total=   2.0s\n",
            "[CV] criterion=gini, min_samples_split=6, n_estimators=500 ...........\n",
            "[CV]  criterion=gini, min_samples_split=6, n_estimators=500, score=0.982, total=   2.1s\n",
            "[CV] criterion=gini, min_samples_split=6, n_estimators=500 ...........\n",
            "[CV]  criterion=gini, min_samples_split=6, n_estimators=500, score=0.978, total=   2.1s\n",
            "[CV] criterion=gini, min_samples_split=6, n_estimators=500 ...........\n",
            "[CV]  criterion=gini, min_samples_split=6, n_estimators=500, score=0.968, total=   2.0s\n",
            "[CV] criterion=gini, min_samples_split=6, n_estimators=500 ...........\n",
            "[CV]  criterion=gini, min_samples_split=6, n_estimators=500, score=0.982, total=   2.1s\n",
            "[CV] criterion=gini, min_samples_split=6, n_estimators=1000 ..........\n",
            "[CV]  criterion=gini, min_samples_split=6, n_estimators=1000, score=0.976, total=   4.0s\n",
            "[CV] criterion=gini, min_samples_split=6, n_estimators=1000 ..........\n",
            "[CV]  criterion=gini, min_samples_split=6, n_estimators=1000, score=0.982, total=   4.0s\n",
            "[CV] criterion=gini, min_samples_split=6, n_estimators=1000 ..........\n",
            "[CV]  criterion=gini, min_samples_split=6, n_estimators=1000, score=0.974, total=   4.0s\n",
            "[CV] criterion=gini, min_samples_split=6, n_estimators=1000 ..........\n",
            "[CV]  criterion=gini, min_samples_split=6, n_estimators=1000, score=0.968, total=   4.0s\n",
            "[CV] criterion=gini, min_samples_split=6, n_estimators=1000 ..........\n",
            "[CV]  criterion=gini, min_samples_split=6, n_estimators=1000, score=0.980, total=   4.1s\n",
            "[CV] criterion=entropy, min_samples_split=2, n_estimators=100 ........\n",
            "[CV]  criterion=entropy, min_samples_split=2, n_estimators=100, score=0.976, total=   0.6s\n",
            "[CV] criterion=entropy, min_samples_split=2, n_estimators=100 ........\n",
            "[CV]  criterion=entropy, min_samples_split=2, n_estimators=100, score=0.982, total=   0.6s\n",
            "[CV] criterion=entropy, min_samples_split=2, n_estimators=100 ........\n",
            "[CV]  criterion=entropy, min_samples_split=2, n_estimators=100, score=0.982, total=   0.6s\n",
            "[CV] criterion=entropy, min_samples_split=2, n_estimators=100 ........\n",
            "[CV]  criterion=entropy, min_samples_split=2, n_estimators=100, score=0.970, total=   0.5s\n",
            "[CV] criterion=entropy, min_samples_split=2, n_estimators=100 ........\n",
            "[CV]  criterion=entropy, min_samples_split=2, n_estimators=100, score=0.984, total=   0.6s\n",
            "[CV] criterion=entropy, min_samples_split=2, n_estimators=500 ........\n",
            "[CV]  criterion=entropy, min_samples_split=2, n_estimators=500, score=0.976, total=   2.7s\n",
            "[CV] criterion=entropy, min_samples_split=2, n_estimators=500 ........\n",
            "[CV]  criterion=entropy, min_samples_split=2, n_estimators=500, score=0.982, total=   2.8s\n",
            "[CV] criterion=entropy, min_samples_split=2, n_estimators=500 ........\n",
            "[CV]  criterion=entropy, min_samples_split=2, n_estimators=500, score=0.974, total=   2.7s\n",
            "[CV] criterion=entropy, min_samples_split=2, n_estimators=500 ........\n",
            "[CV]  criterion=entropy, min_samples_split=2, n_estimators=500, score=0.968, total=   2.7s\n",
            "[CV] criterion=entropy, min_samples_split=2, n_estimators=500 ........\n",
            "[CV]  criterion=entropy, min_samples_split=2, n_estimators=500, score=0.984, total=   2.7s\n",
            "[CV] criterion=entropy, min_samples_split=2, n_estimators=1000 .......\n",
            "[CV]  criterion=entropy, min_samples_split=2, n_estimators=1000, score=0.978, total=   5.3s\n",
            "[CV] criterion=entropy, min_samples_split=2, n_estimators=1000 .......\n",
            "[CV]  criterion=entropy, min_samples_split=2, n_estimators=1000, score=0.980, total=   5.5s\n",
            "[CV] criterion=entropy, min_samples_split=2, n_estimators=1000 .......\n",
            "[CV]  criterion=entropy, min_samples_split=2, n_estimators=1000, score=0.978, total=   5.4s\n",
            "[CV] criterion=entropy, min_samples_split=2, n_estimators=1000 .......\n",
            "[CV]  criterion=entropy, min_samples_split=2, n_estimators=1000, score=0.968, total=   5.4s\n",
            "[CV] criterion=entropy, min_samples_split=2, n_estimators=1000 .......\n",
            "[CV]  criterion=entropy, min_samples_split=2, n_estimators=1000, score=0.986, total=   5.5s\n",
            "[CV] criterion=entropy, min_samples_split=4, n_estimators=100 ........\n",
            "[CV]  criterion=entropy, min_samples_split=4, n_estimators=100, score=0.976, total=   0.6s\n",
            "[CV] criterion=entropy, min_samples_split=4, n_estimators=100 ........\n",
            "[CV]  criterion=entropy, min_samples_split=4, n_estimators=100, score=0.982, total=   0.6s\n",
            "[CV] criterion=entropy, min_samples_split=4, n_estimators=100 ........\n",
            "[CV]  criterion=entropy, min_samples_split=4, n_estimators=100, score=0.972, total=   0.6s\n",
            "[CV] criterion=entropy, min_samples_split=4, n_estimators=100 ........\n",
            "[CV]  criterion=entropy, min_samples_split=4, n_estimators=100, score=0.970, total=   0.6s\n",
            "[CV] criterion=entropy, min_samples_split=4, n_estimators=100 ........\n",
            "[CV]  criterion=entropy, min_samples_split=4, n_estimators=100, score=0.984, total=   0.6s\n",
            "[CV] criterion=entropy, min_samples_split=4, n_estimators=500 ........\n",
            "[CV]  criterion=entropy, min_samples_split=4, n_estimators=500, score=0.976, total=   2.8s\n",
            "[CV] criterion=entropy, min_samples_split=4, n_estimators=500 ........\n",
            "[CV]  criterion=entropy, min_samples_split=4, n_estimators=500, score=0.984, total=   2.8s\n",
            "[CV] criterion=entropy, min_samples_split=4, n_estimators=500 ........\n",
            "[CV]  criterion=entropy, min_samples_split=4, n_estimators=500, score=0.976, total=   2.7s\n",
            "[CV] criterion=entropy, min_samples_split=4, n_estimators=500 ........\n",
            "[CV]  criterion=entropy, min_samples_split=4, n_estimators=500, score=0.968, total=   2.7s\n",
            "[CV] criterion=entropy, min_samples_split=4, n_estimators=500 ........\n",
            "[CV]  criterion=entropy, min_samples_split=4, n_estimators=500, score=0.986, total=   2.8s\n",
            "[CV] criterion=entropy, min_samples_split=4, n_estimators=1000 .......\n",
            "[CV]  criterion=entropy, min_samples_split=4, n_estimators=1000, score=0.976, total=   5.4s\n",
            "[CV] criterion=entropy, min_samples_split=4, n_estimators=1000 .......\n",
            "[CV]  criterion=entropy, min_samples_split=4, n_estimators=1000, score=0.982, total=   5.5s\n",
            "[CV] criterion=entropy, min_samples_split=4, n_estimators=1000 .......\n",
            "[CV]  criterion=entropy, min_samples_split=4, n_estimators=1000, score=0.978, total=   5.5s\n",
            "[CV] criterion=entropy, min_samples_split=4, n_estimators=1000 .......\n",
            "[CV]  criterion=entropy, min_samples_split=4, n_estimators=1000, score=0.968, total=   5.4s\n",
            "[CV] criterion=entropy, min_samples_split=4, n_estimators=1000 .......\n",
            "[CV]  criterion=entropy, min_samples_split=4, n_estimators=1000, score=0.986, total=   5.5s\n",
            "[CV] criterion=entropy, min_samples_split=6, n_estimators=100 ........\n",
            "[CV]  criterion=entropy, min_samples_split=6, n_estimators=100, score=0.978, total=   0.5s\n",
            "[CV] criterion=entropy, min_samples_split=6, n_estimators=100 ........\n",
            "[CV]  criterion=entropy, min_samples_split=6, n_estimators=100, score=0.982, total=   0.6s\n",
            "[CV] criterion=entropy, min_samples_split=6, n_estimators=100 ........\n",
            "[CV]  criterion=entropy, min_samples_split=6, n_estimators=100, score=0.976, total=   0.5s\n",
            "[CV] criterion=entropy, min_samples_split=6, n_estimators=100 ........\n",
            "[CV]  criterion=entropy, min_samples_split=6, n_estimators=100, score=0.970, total=   0.5s\n",
            "[CV] criterion=entropy, min_samples_split=6, n_estimators=100 ........\n",
            "[CV]  criterion=entropy, min_samples_split=6, n_estimators=100, score=0.978, total=   0.5s\n",
            "[CV] criterion=entropy, min_samples_split=6, n_estimators=500 ........\n",
            "[CV]  criterion=entropy, min_samples_split=6, n_estimators=500, score=0.976, total=   2.7s\n",
            "[CV] criterion=entropy, min_samples_split=6, n_estimators=500 ........\n",
            "[CV]  criterion=entropy, min_samples_split=6, n_estimators=500, score=0.982, total=   2.7s\n",
            "[CV] criterion=entropy, min_samples_split=6, n_estimators=500 ........\n",
            "[CV]  criterion=entropy, min_samples_split=6, n_estimators=500, score=0.974, total=   2.7s\n",
            "[CV] criterion=entropy, min_samples_split=6, n_estimators=500 ........\n",
            "[CV]  criterion=entropy, min_samples_split=6, n_estimators=500, score=0.968, total=   2.7s\n",
            "[CV] criterion=entropy, min_samples_split=6, n_estimators=500 ........\n",
            "[CV]  criterion=entropy, min_samples_split=6, n_estimators=500, score=0.984, total=   2.7s\n",
            "[CV] criterion=entropy, min_samples_split=6, n_estimators=1000 .......\n",
            "[CV]  criterion=entropy, min_samples_split=6, n_estimators=1000, score=0.978, total=   5.5s\n",
            "[CV] criterion=entropy, min_samples_split=6, n_estimators=1000 .......\n",
            "[CV]  criterion=entropy, min_samples_split=6, n_estimators=1000, score=0.982, total=   5.4s\n",
            "[CV] criterion=entropy, min_samples_split=6, n_estimators=1000 .......\n",
            "[CV]  criterion=entropy, min_samples_split=6, n_estimators=1000, score=0.974, total=   5.4s\n",
            "[CV] criterion=entropy, min_samples_split=6, n_estimators=1000 .......\n",
            "[CV]  criterion=entropy, min_samples_split=6, n_estimators=1000, score=0.968, total=   5.2s\n",
            "[CV] criterion=entropy, min_samples_split=6, n_estimators=1000 .......\n",
            "[CV]  criterion=entropy, min_samples_split=6, n_estimators=1000, score=0.986, total=   5.4s\n"
          ]
        },
        {
          "output_type": "stream",
          "name": "stderr",
          "text": [
            "[Parallel(n_jobs=1)]: Done  90 out of  90 | elapsed:  3.8min finished\n"
          ]
        },
        {
          "output_type": "execute_result",
          "data": {
            "text/plain": [
              "{'criterion': 'entropy', 'min_samples_split': 2, 'n_estimators': 100}"
            ]
          },
          "metadata": {},
          "execution_count": 21
        }
      ]
    },
    {
      "cell_type": "code",
      "metadata": {
        "id": "7jAJ7Ai9V_T6"
      },
      "source": [
        "# random seearch to decisiion tree with three arguments "
      ],
      "execution_count": null,
      "outputs": []
    },
    {
      "cell_type": "code",
      "metadata": {
        "colab": {
          "base_uri": "https://localhost:8080/"
        },
        "id": "KAu4qTfJWFsA",
        "outputId": "102c1fe5-db7f-4761-d4eb-8fe2cfaf5909"
      },
      "source": [
        "# apply random search on decision tree\n",
        "from sklearn.tree import DecisionTreeClassifier\n",
        "from sklearn.model_selection import RandomizedSearchCV\n",
        "\n",
        "estimator = DecisionTreeClassifier()\n",
        "param_distributions = {'max_depth' :[3,5,7], 'criterion': ['gini', 'entropy'], 'min_samples_split': [2,4,6]}\n",
        "    \n",
        "clf = RandomizedSearchCV(estimator,param_distributions, random_state = 40, verbose = 30)\n",
        "clf.fit(X_train,y_train)\n",
        "\n",
        "clf.best_params_"
      ],
      "execution_count": null,
      "outputs": [
        {
          "output_type": "stream",
          "name": "stdout",
          "text": [
            "Fitting 5 folds for each of 10 candidates, totalling 50 fits\n",
            "[CV] min_samples_split=6, max_depth=7, criterion=entropy .............\n",
            "[CV]  min_samples_split=6, max_depth=7, criterion=entropy, score=0.961, total=   0.0s\n",
            "[CV] min_samples_split=6, max_depth=7, criterion=entropy .............\n",
            "[CV]  min_samples_split=6, max_depth=7, criterion=entropy, score=0.963, total=   0.0s\n",
            "[CV] min_samples_split=6, max_depth=7, criterion=entropy .............\n",
            "[CV]  min_samples_split=6, max_depth=7, criterion=entropy, score=0.949, total=   0.0s\n",
            "[CV] min_samples_split=6, max_depth=7, criterion=entropy .............\n",
            "[CV]  min_samples_split=6, max_depth=7, criterion=entropy, score=0.963, total=   0.0s\n",
            "[CV] min_samples_split=6, max_depth=7, criterion=entropy .............\n",
            "[CV]  min_samples_split=6, max_depth=7, criterion=entropy, score=0.966, total=   0.0s\n",
            "[CV] min_samples_split=2, max_depth=3, criterion=gini ................\n",
            "[CV]  min_samples_split=2, max_depth=3, criterion=gini, score=0.961, total=   0.0s\n",
            "[CV] min_samples_split=2, max_depth=3, criterion=gini ................\n",
            "[CV]  min_samples_split=2, max_depth=3, criterion=gini, score=0.972, total=   0.0s\n",
            "[CV] min_samples_split=2, max_depth=3, criterion=gini ................\n",
            "[CV]  min_samples_split=2, max_depth=3, criterion=gini, score=0.966, total=   0.0s\n",
            "[CV] min_samples_split=2, max_depth=3, criterion=gini ................\n",
            "[CV]  min_samples_split=2, max_depth=3, criterion=gini, score=0.955, total=   0.0s\n",
            "[CV] min_samples_split=2, max_depth=3, criterion=gini ................\n"
          ]
        },
        {
          "output_type": "stream",
          "name": "stderr",
          "text": [
            "[Parallel(n_jobs=1)]: Using backend SequentialBackend with 1 concurrent workers.\n",
            "[Parallel(n_jobs=1)]: Done   1 out of   1 | elapsed:    0.0s remaining:    0.0s\n",
            "[Parallel(n_jobs=1)]: Done   2 out of   2 | elapsed:    0.1s remaining:    0.0s\n",
            "[Parallel(n_jobs=1)]: Done   3 out of   3 | elapsed:    0.1s remaining:    0.0s\n",
            "[Parallel(n_jobs=1)]: Done   4 out of   4 | elapsed:    0.1s remaining:    0.0s\n",
            "[Parallel(n_jobs=1)]: Done   5 out of   5 | elapsed:    0.1s remaining:    0.0s\n",
            "[Parallel(n_jobs=1)]: Done   6 out of   6 | elapsed:    0.2s remaining:    0.0s\n",
            "[Parallel(n_jobs=1)]: Done   7 out of   7 | elapsed:    0.2s remaining:    0.0s\n",
            "[Parallel(n_jobs=1)]: Done   8 out of   8 | elapsed:    0.2s remaining:    0.0s\n",
            "[Parallel(n_jobs=1)]: Done   9 out of   9 | elapsed:    0.2s remaining:    0.0s\n"
          ]
        },
        {
          "output_type": "stream",
          "name": "stdout",
          "text": [
            "[CV]  min_samples_split=2, max_depth=3, criterion=gini, score=0.960, total=   0.0s\n",
            "[CV] min_samples_split=6, max_depth=3, criterion=entropy .............\n",
            "[CV]  min_samples_split=6, max_depth=3, criterion=entropy, score=0.963, total=   0.0s\n",
            "[CV] min_samples_split=6, max_depth=3, criterion=entropy .............\n",
            "[CV]  min_samples_split=6, max_depth=3, criterion=entropy, score=0.966, total=   0.0s\n",
            "[CV] min_samples_split=6, max_depth=3, criterion=entropy .............\n",
            "[CV]  min_samples_split=6, max_depth=3, criterion=entropy, score=0.970, total=   0.0s\n",
            "[CV] min_samples_split=6, max_depth=3, criterion=entropy .............\n",
            "[CV]  min_samples_split=6, max_depth=3, criterion=entropy, score=0.941, total=   0.0s\n",
            "[CV] min_samples_split=6, max_depth=3, criterion=entropy .............\n",
            "[CV]  min_samples_split=6, max_depth=3, criterion=entropy, score=0.957, total=   0.0s\n",
            "[CV] min_samples_split=4, max_depth=5, criterion=gini ................\n",
            "[CV]  min_samples_split=4, max_depth=5, criterion=gini, score=0.966, total=   0.0s\n",
            "[CV] min_samples_split=4, max_depth=5, criterion=gini ................\n",
            "[CV]  min_samples_split=4, max_depth=5, criterion=gini, score=0.972, total=   0.0s\n",
            "[CV] min_samples_split=4, max_depth=5, criterion=gini ................\n",
            "[CV]  min_samples_split=4, max_depth=5, criterion=gini, score=0.966, total=   0.0s\n",
            "[CV] min_samples_split=4, max_depth=5, criterion=gini ................\n",
            "[CV]  min_samples_split=4, max_depth=5, criterion=gini, score=0.951, total=   0.0s\n",
            "[CV] min_samples_split=4, max_depth=5, criterion=gini ................\n",
            "[CV]  min_samples_split=4, max_depth=5, criterion=gini, score=0.960, total=   0.0s\n",
            "[CV] min_samples_split=2, max_depth=7, criterion=entropy .............\n"
          ]
        },
        {
          "output_type": "stream",
          "name": "stderr",
          "text": [
            "[Parallel(n_jobs=1)]: Done  10 out of  10 | elapsed:    0.2s remaining:    0.0s\n",
            "[Parallel(n_jobs=1)]: Done  11 out of  11 | elapsed:    0.2s remaining:    0.0s\n",
            "[Parallel(n_jobs=1)]: Done  12 out of  12 | elapsed:    0.3s remaining:    0.0s\n",
            "[Parallel(n_jobs=1)]: Done  13 out of  13 | elapsed:    0.3s remaining:    0.0s\n",
            "[Parallel(n_jobs=1)]: Done  14 out of  14 | elapsed:    0.3s remaining:    0.0s\n",
            "[Parallel(n_jobs=1)]: Done  15 out of  15 | elapsed:    0.3s remaining:    0.0s\n",
            "[Parallel(n_jobs=1)]: Done  16 out of  16 | elapsed:    0.3s remaining:    0.0s\n",
            "[Parallel(n_jobs=1)]: Done  17 out of  17 | elapsed:    0.4s remaining:    0.0s\n",
            "[Parallel(n_jobs=1)]: Done  18 out of  18 | elapsed:    0.4s remaining:    0.0s\n",
            "[Parallel(n_jobs=1)]: Done  19 out of  19 | elapsed:    0.4s remaining:    0.0s\n",
            "[Parallel(n_jobs=1)]: Done  20 out of  20 | elapsed:    0.4s remaining:    0.0s\n"
          ]
        },
        {
          "output_type": "stream",
          "name": "stdout",
          "text": [
            "[CV]  min_samples_split=2, max_depth=7, criterion=entropy, score=0.961, total=   0.0s\n",
            "[CV] min_samples_split=2, max_depth=7, criterion=entropy .............\n",
            "[CV]  min_samples_split=2, max_depth=7, criterion=entropy, score=0.961, total=   0.0s\n",
            "[CV] min_samples_split=2, max_depth=7, criterion=entropy .............\n",
            "[CV]  min_samples_split=2, max_depth=7, criterion=entropy, score=0.955, total=   0.0s\n",
            "[CV] min_samples_split=2, max_depth=7, criterion=entropy .............\n",
            "[CV]  min_samples_split=2, max_depth=7, criterion=entropy, score=0.961, total=   0.0s\n",
            "[CV] min_samples_split=2, max_depth=7, criterion=entropy .............\n",
            "[CV]  min_samples_split=2, max_depth=7, criterion=entropy, score=0.968, total=   0.0s\n",
            "[CV] min_samples_split=4, max_depth=5, criterion=entropy .............\n",
            "[CV]  min_samples_split=4, max_depth=5, criterion=entropy, score=0.976, total=   0.0s\n",
            "[CV] min_samples_split=4, max_depth=5, criterion=entropy .............\n",
            "[CV]  min_samples_split=4, max_depth=5, criterion=entropy, score=0.963, total=   0.0s\n",
            "[CV] min_samples_split=4, max_depth=5, criterion=entropy .............\n"
          ]
        },
        {
          "output_type": "stream",
          "name": "stderr",
          "text": [
            "[Parallel(n_jobs=1)]: Done  21 out of  21 | elapsed:    0.4s remaining:    0.0s\n",
            "[Parallel(n_jobs=1)]: Done  22 out of  22 | elapsed:    0.5s remaining:    0.0s\n",
            "[Parallel(n_jobs=1)]: Done  23 out of  23 | elapsed:    0.5s remaining:    0.0s\n",
            "[Parallel(n_jobs=1)]: Done  24 out of  24 | elapsed:    0.5s remaining:    0.0s\n",
            "[Parallel(n_jobs=1)]: Done  25 out of  25 | elapsed:    0.6s remaining:    0.0s\n",
            "[Parallel(n_jobs=1)]: Done  26 out of  26 | elapsed:    0.6s remaining:    0.0s\n",
            "[Parallel(n_jobs=1)]: Done  27 out of  27 | elapsed:    0.6s remaining:    0.0s\n"
          ]
        },
        {
          "output_type": "stream",
          "name": "stdout",
          "text": [
            "[CV]  min_samples_split=4, max_depth=5, criterion=entropy, score=0.961, total=   0.0s\n",
            "[CV] min_samples_split=4, max_depth=5, criterion=entropy .............\n",
            "[CV]  min_samples_split=4, max_depth=5, criterion=entropy, score=0.966, total=   0.0s\n",
            "[CV] min_samples_split=4, max_depth=5, criterion=entropy .............\n",
            "[CV]  min_samples_split=4, max_depth=5, criterion=entropy, score=0.966, total=   0.0s\n",
            "[CV] min_samples_split=2, max_depth=3, criterion=entropy .............\n",
            "[CV]  min_samples_split=2, max_depth=3, criterion=entropy, score=0.963, total=   0.0s\n",
            "[CV] min_samples_split=2, max_depth=3, criterion=entropy .............\n",
            "[CV]  min_samples_split=2, max_depth=3, criterion=entropy, score=0.966, total=   0.0s\n",
            "[CV] min_samples_split=2, max_depth=3, criterion=entropy .............\n",
            "[CV]  min_samples_split=2, max_depth=3, criterion=entropy, score=0.970, total=   0.0s\n",
            "[CV] min_samples_split=2, max_depth=3, criterion=entropy .............\n",
            "[CV]  min_samples_split=2, max_depth=3, criterion=entropy, score=0.941, total=   0.0s\n",
            "[CV] min_samples_split=2, max_depth=3, criterion=entropy .............\n",
            "[CV]  min_samples_split=2, max_depth=3, criterion=entropy, score=0.957, total=   0.0s\n",
            "[CV] min_samples_split=4, max_depth=3, criterion=entropy .............\n",
            "[CV]  min_samples_split=4, max_depth=3, criterion=entropy, score=0.963, total=   0.0s\n",
            "[CV] min_samples_split=4, max_depth=3, criterion=entropy .............\n",
            "[CV]  min_samples_split=4, max_depth=3, criterion=entropy, score=0.966, total=   0.0s\n",
            "[CV] min_samples_split=4, max_depth=3, criterion=entropy .............\n"
          ]
        },
        {
          "output_type": "stream",
          "name": "stderr",
          "text": [
            "[Parallel(n_jobs=1)]: Done  28 out of  28 | elapsed:    0.7s remaining:    0.0s\n",
            "[Parallel(n_jobs=1)]: Done  29 out of  29 | elapsed:    0.7s remaining:    0.0s\n"
          ]
        },
        {
          "output_type": "stream",
          "name": "stdout",
          "text": [
            "[CV]  min_samples_split=4, max_depth=3, criterion=entropy, score=0.970, total=   0.0s\n",
            "[CV] min_samples_split=4, max_depth=3, criterion=entropy .............\n",
            "[CV]  min_samples_split=4, max_depth=3, criterion=entropy, score=0.941, total=   0.0s\n",
            "[CV] min_samples_split=4, max_depth=3, criterion=entropy .............\n",
            "[CV]  min_samples_split=4, max_depth=3, criterion=entropy, score=0.957, total=   0.0s\n",
            "[CV] min_samples_split=2, max_depth=5, criterion=gini ................\n",
            "[CV]  min_samples_split=2, max_depth=5, criterion=gini, score=0.963, total=   0.0s\n",
            "[CV] min_samples_split=2, max_depth=5, criterion=gini ................\n",
            "[CV]  min_samples_split=2, max_depth=5, criterion=gini, score=0.970, total=   0.0s\n",
            "[CV] min_samples_split=2, max_depth=5, criterion=gini ................\n",
            "[CV]  min_samples_split=2, max_depth=5, criterion=gini, score=0.963, total=   0.0s\n",
            "[CV] min_samples_split=2, max_depth=5, criterion=gini ................\n",
            "[CV]  min_samples_split=2, max_depth=5, criterion=gini, score=0.951, total=   0.0s\n",
            "[CV] min_samples_split=2, max_depth=5, criterion=gini ................\n",
            "[CV]  min_samples_split=2, max_depth=5, criterion=gini, score=0.962, total=   0.0s\n",
            "[CV] min_samples_split=2, max_depth=5, criterion=entropy .............\n",
            "[CV]  min_samples_split=2, max_depth=5, criterion=entropy, score=0.976, total=   0.0s\n",
            "[CV] min_samples_split=2, max_depth=5, criterion=entropy .............\n",
            "[CV]  min_samples_split=2, max_depth=5, criterion=entropy, score=0.963, total=   0.0s\n",
            "[CV] min_samples_split=2, max_depth=5, criterion=entropy .............\n",
            "[CV]  min_samples_split=2, max_depth=5, criterion=entropy, score=0.963, total=   0.0s\n",
            "[CV] min_samples_split=2, max_depth=5, criterion=entropy .............\n",
            "[CV]  min_samples_split=2, max_depth=5, criterion=entropy, score=0.964, total=   0.0s\n",
            "[CV] min_samples_split=2, max_depth=5, criterion=entropy .............\n",
            "[CV]  min_samples_split=2, max_depth=5, criterion=entropy, score=0.966, total=   0.0s\n"
          ]
        },
        {
          "output_type": "stream",
          "name": "stderr",
          "text": [
            "[Parallel(n_jobs=1)]: Done  50 out of  50 | elapsed:    1.2s finished\n"
          ]
        },
        {
          "output_type": "execute_result",
          "data": {
            "text/plain": [
              "{'criterion': 'entropy', 'max_depth': 5, 'min_samples_split': 4}"
            ]
          },
          "metadata": {},
          "execution_count": 22
        }
      ]
    },
    {
      "cell_type": "code",
      "metadata": {
        "id": "lETNWJkgbLSH"
      },
      "source": [
        "from sklearn.svm import SVC\n",
        "#kernels\n",
        "sv = SVC(kernel='linear')\n",
        "\n",
        "sv.fit(X_train,y_train)\n",
        "\n",
        "y_pred_test = sv.predict(X_test)"
      ],
      "execution_count": null,
      "outputs": []
    },
    {
      "cell_type": "code",
      "metadata": {
        "colab": {
          "base_uri": "https://localhost:8080/"
        },
        "id": "CcNWDi9XbjM1",
        "outputId": "fbb6ab03-2151-4d65-ade9-e0bbb6f6462b"
      },
      "source": [
        "\n",
        "from sklearn.metrics import accuracy_score\n",
        "from sklearn.metrics import precision_score\n",
        "from sklearn.metrics import recall_score\n",
        "from sklearn.metrics import f1_score\n",
        "\n",
        "accuracy = accuracy_score(y_test, y_pred_test)\n",
        "print('Accuracy: %.3f' % accuracy)\n",
        "\n",
        "precision = precision_score(y_test, y_pred_test, average='binary')\n",
        "print('Precision: %.3f' % precision)\n",
        "\n",
        "recall = recall_score(y_test, y_pred_test, average='binary')\n",
        "print('Recall: %.3f' % recall)\n",
        "\n",
        "f1_score = f1_score(y_test, y_pred_test, average='binary')\n",
        "print('F1-score: %.3f' % f1_score)\n",
        "\n",
        "\n",
        "#Accuracy: 0.984\n",
        "#Precision: 0.980\n",
        "#Recall: 0.987\n",
        "#F1-score: 0.983b"
      ],
      "execution_count": null,
      "outputs": [
        {
          "output_type": "stream",
          "name": "stdout",
          "text": [
            "Accuracy: 0.940\n",
            "Precision: 0.978\n",
            "Recall: 0.894\n",
            "F1-score: 0.934\n"
          ]
        }
      ]
    },
    {
      "cell_type": "code",
      "metadata": {
        "id": "2MEXLAWFclek"
      },
      "source": [
        "#3 how strong the tree based models are \n",
        "\n",
        "# trial and error # random search / grid search "
      ],
      "execution_count": null,
      "outputs": []
    }
  ]
}
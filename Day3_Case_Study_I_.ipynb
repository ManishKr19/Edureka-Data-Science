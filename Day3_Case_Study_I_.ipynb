{
  "nbformat": 4,
  "nbformat_minor": 0,
  "metadata": {
    "colab": {
      "name": "Day3_Case_Study_I .ipynb",
      "provenance": [],
      "collapsed_sections": [],
      "authorship_tag": "ABX9TyNLK6Fv7K8+P8HDo97ZrCXq",
      "include_colab_link": true
    },
    "kernelspec": {
      "name": "python3",
      "display_name": "Python 3"
    },
    "language_info": {
      "name": "python"
    }
  },
  "cells": [
    {
      "cell_type": "markdown",
      "metadata": {
        "id": "view-in-github",
        "colab_type": "text"
      },
      "source": [
        "<a href=\"https://colab.research.google.com/github/ManishKr19/Edureka-Data-Science/blob/main/Day3_Case_Study_I_.ipynb\" target=\"_parent\"><img src=\"https://colab.research.google.com/assets/colab-badge.svg\" alt=\"Open In Colab\"/></a>"
      ]
    },
    {
      "cell_type": "markdown",
      "metadata": {
        "id": "icrWElfnCwPj"
      },
      "source": [
        "# **Module 3: Deep Dive -Functions, OOPs, Modules,Errors and Exceptions**"
      ]
    },
    {
      "cell_type": "code",
      "metadata": {
        "id": "IOJDaJl-LBDD"
      },
      "source": [
        "import math as m"
      ],
      "execution_count": 1,
      "outputs": []
    },
    {
      "cell_type": "markdown",
      "metadata": {
        "id": "kmVaRNYiD9UN"
      },
      "source": [
        "**1. A Robot moves in a Plane starting from the origin point (0,0). The robot can move \n",
        "toward UP, DOWN, LEFT, RIGHT. The trace of Robot movement is as given \n",
        "following:**\n",
        "  - UP 5\n",
        "  - DOWN 3\n",
        "  - LEFT 3\n",
        "  - RIGHT 2\n",
        "\n",
        "**The numbers after directions are steps.\n",
        "Write a program to compute the \n",
        "distance current position after sequence of movements**"
      ]
    },
    {
      "cell_type": "code",
      "metadata": {
        "colab": {
          "base_uri": "https://localhost:8080/",
          "height": 0
        },
        "id": "pPN1MhtACldo",
        "outputId": "10a85204-5793-4ba0-c169-ba598b7934e7"
      },
      "source": [
        "def distTrack():\n",
        "  origin = list((0,0))\n",
        "  #UP 5\n",
        "  origin[1] += 5\n",
        "\n",
        "  #DOWN 3\n",
        "  origin[1] -= 3\n",
        "\n",
        "  #LEFT 3\n",
        "  origin[0] -= 3\n",
        "\n",
        "  #RIGHT 2\n",
        "  origin[0] += 2\n",
        "\n",
        "  dist = m.sqrt( m.pow(origin[0],2) + m.pow(origin[1],2))\n",
        "  print(\"DISTANCE OF POINT {} FROM ORIGIN(0,0) IS: {}\".format(tuple(origin),dist))\n",
        "\n",
        "distTrack()"
      ],
      "execution_count": 2,
      "outputs": [
        {
          "output_type": "stream",
          "name": "stdout",
          "text": [
            "DISTANCE OF POINT (-1, 2) FROM ORIGIN(0,0) IS: 2.23606797749979\n"
          ]
        }
      ]
    },
    {
      "cell_type": "markdown",
      "metadata": {
        "id": "V_Ji-lDwEl-k"
      },
      "source": [
        "**2. Data of XYZ company is stored in sorted list. Write a program for searching \n",
        "specific data from that list.**"
      ]
    },
    {
      "cell_type": "code",
      "metadata": {
        "id": "81P6NnUME9t7",
        "colab": {
          "base_uri": "https://localhost:8080/",
          "height": 0
        },
        "outputId": "bdee5551-6692-4509-b666-d05ec68fecc8"
      },
      "source": [
        "XYZ = [1, 2, 3, 4, 5, 6, 7, 8, 9, 10]\n",
        "item = 7\n",
        "a = XYZ[:]\n",
        "def loop(ls, item):\n",
        "  l = len(ls)\n",
        "  if ls[0] == item or ls[-1] == item:\n",
        "    return True\n",
        "  elif l < 3 or item > ls[-1] or item < ls[0]:\n",
        "    return False\n",
        "  elif ls[0] < item < ls[-1]:\n",
        "    m = l//2\n",
        "    if ls[m] > item:\n",
        "      return loop(ls[0:m], item)\n",
        "    elif ls[m] < item:\n",
        "      return loop(ls[m+1:],item)\n",
        "    else:\n",
        "      return True\n",
        "  else:\n",
        "    return False\n",
        "loop(XYZ, 7)"
      ],
      "execution_count": 3,
      "outputs": [
        {
          "output_type": "execute_result",
          "data": {
            "text/plain": [
              "True"
            ]
          },
          "metadata": {},
          "execution_count": 3
        }
      ]
    },
    {
      "cell_type": "markdown",
      "metadata": {
        "id": "hZwiIkv8E-pQ"
      },
      "source": [
        "**3. Weather forecasting organization wants to show is it day or night. So, write a program for such organization to find whether is it dark outside or not.**"
      ]
    },
    {
      "cell_type": "code",
      "metadata": {
        "id": "qWYOeLFgFEpt",
        "colab": {
          "base_uri": "https://localhost:8080/",
          "height": 0
        },
        "outputId": "cb0aeeaa-3efd-42a5-d928-fb6af384c6a9"
      },
      "source": [
        "from datetime import *\n",
        "import time\n",
        "t1 = datetime.strptime(time.ctime(),'%a %b %d %H:%M:%S %Y')\n",
        "if t1.hour >= 19 or t1.hour <= 5:\n",
        "  print(\"Night\")\n",
        "else:\n",
        "  print(\"Day\")"
      ],
      "execution_count": 4,
      "outputs": [
        {
          "output_type": "stream",
          "name": "stdout",
          "text": [
            "Day\n"
          ]
        }
      ]
    },
    {
      "cell_type": "markdown",
      "metadata": {
        "id": "AUQ-1wIhFGQM"
      },
      "source": [
        "**4. Write a program to find distance between two locations when their latitude and longitudes are given.**"
      ]
    },
    {
      "cell_type": "code",
      "metadata": {
        "id": "hAxzEcqwFP8y",
        "colab": {
          "base_uri": "https://localhost:8080/",
          "height": 0
        },
        "outputId": "aec69098-794c-4a5b-f28c-c8cb5c9654ce"
      },
      "source": [
        "import math\n",
        "radiusEarth = 6373\n",
        "\n",
        "point1 = 44.5, 32.5\n",
        "point2 = 26.3, 33.2\n",
        "  \n",
        "latitude = lambda: math.radians(point2[0] - point1[0])\n",
        "longitude = lambda: math.radians(point2[1] - point2[0])\n",
        "         \n",
        "a = lambda: pow(math.sin(latitude/2),2) + pow(math.cos(latitude),2) * pow(math.sin(longitude/2),2)\n",
        "\n",
        "b = lambda: 2 * math.atan2(math.sqrt(a), math.sqrt(1 - a))\n",
        "\n",
        "d = lambda: radiusEarth * b\n",
        "\n",
        "print(d)"
      ],
      "execution_count": 7,
      "outputs": [
        {
          "output_type": "stream",
          "name": "stdout",
          "text": [
            "<function <lambda> at 0x7ff7016490e0>\n"
          ]
        }
      ]
    },
    {
      "cell_type": "markdown",
      "metadata": {
        "id": "GMH1nBXRF53B"
      },
      "source": [
        "**5. Design a software for bank system. There should be options like cash withdraw, cash credit and change password. According to user input, the software should provide required output.**"
      ]
    },
    {
      "cell_type": "code",
      "metadata": {
        "id": "BODYYpv_GALk"
      },
      "source": [
        ""
      ],
      "execution_count": 9,
      "outputs": []
    },
    {
      "cell_type": "markdown",
      "metadata": {
        "id": "X-UTcuHPHWIz"
      },
      "source": [
        "**6. Write a program which will find all such numbers which are divisible by 7 but are not a multiple of 5, between 2000 and 3200 (both included). The numbers obtained should be printed in a comma-separated sequence on a single line.**\n"
      ]
    },
    {
      "cell_type": "code",
      "metadata": {
        "id": "2uov-w56HcpL",
        "colab": {
          "base_uri": "https://localhost:8080/",
          "height": 0
        },
        "outputId": "413763a8-1429-477a-9878-2ee658b6ee16"
      },
      "source": [
        "def problem6(start: int, end:int) -> str:\n",
        "  '''\n",
        "  program which will find all such numbers which are divisible by 7 but are not a multiple of 5\n",
        "  >>> problem6(2000, 3000)\n",
        "  '2002,2009,2016,2023,2037,2044,2051,2058,2072,2079,2086,2093,2107,2114,2121,2128,2142,2149,2156,2163,2177,2184,2191,2198,2212,2219,2226,2233,2247,2254,2261,2268,2282,2289,2296,2303,2317,2324,2331,2338,2352,2359,2366,2373,2387,2394,2401,2408,2422,2429,2436,2443,2457,2464,2471,2478,2492,2499,2506,2513,2527,2534,2541,2548,2562,2569,2576,2583,2597,2604,2611,2618,2632,2639,2646,2653,2667,2674,2681,2688,2702,2709,2716,2723,2737,2744,2751,2758,2772,2779,2786,2793,2807,2814,2821,2828,2842,2849,2856,2863,2877,2884,2891,2898,2912,2919,2926,2933,2947,2954,2961,2968,2982,2989,2996'\n",
        "  '''\n",
        "  return ','.join(str(i) for i in range(start, end+1) if i % 7 == 0 and i % 5 != 0)\n",
        "\n",
        "def problem7(n: int) -> int:\n",
        "  '''\n",
        "  function to compute factorial\n",
        "  >>> problem7(8)\n",
        "  40320\n",
        "  '''\n",
        "  def loop(acc: int, n: int) -> int:\n",
        "    if n <= 1:\n",
        "      return acc\n",
        "    else:\n",
        "      return loop(acc*n, n-1)\n",
        "  return loop(1, n)\n",
        "\n",
        "\n",
        "from math import sqrt\n",
        "\n",
        "def calculation(D, C=50, H=30):\n",
        "  return int(sqrt(2*C*D/H))\n",
        "\n",
        "def problem8(Ds: str)-> str:\n",
        "  '''\n",
        "  >>> problem8('100,150,180')\n",
        "  '18,22,24'\n",
        "  '''\n",
        "  d = Ds.split(',')\n",
        "  return ','.join(str(calculation(int(x))) for x in d)\n",
        "\n",
        "\n",
        "import numpy as np\n",
        "def problem9(X: int, Y: int) -> list:\n",
        "  '''\n",
        "  >>> problem9(3,5)\n",
        "  [[0, 0, 0, 0, 0], [0, 1, 2, 3, 4], [0, 2, 4, 6, 8]]\n",
        "  '''\n",
        "  x,y = np.array(range(X)), np.array(range(Y))\n",
        "  return [list(item * y) for item in x]\n",
        "\n",
        "def problem10(sentence: str)-> str:\n",
        "  '''\n",
        "  >>> problem10('without,hello,bag,world')\n",
        "  'bag,hello,without,world'\n",
        "  '''\n",
        "  \n",
        "  return ','.join(sorted(sentence.split(',')))\n",
        "\n",
        "def problem11():\n",
        "  lines = []\n",
        "  while True:\n",
        "    l = input()\n",
        "    if l:\n",
        "      lines.append(l.upper())\n",
        "    else:\n",
        "      break\n",
        "  for l in lines:\n",
        "    print(l)\n",
        "    \n",
        "def problem12():\n",
        "  line = input(\"Enter a sentence- \\n\")\n",
        "  return ' '.join(sorted(list(set(line.split(' ')))))\n",
        "\n",
        "def binaryToDidgitap1(bn: str)-> int:\n",
        "  acc = 0\n",
        "  i = 0 \n",
        "  rev_bn = bn[::-1]\n",
        "  for x in rev_bn:\n",
        "    if int(x):\n",
        "      acc += pow(2,i)\n",
        "    i += 1\n",
        "  return acc\n",
        "\n",
        "def binaryToDidgitap2(bn: str)-> int:\n",
        "  def loop(acc, bn, offset):\n",
        "    if offset < len(bn): \n",
        "      if int(bn[offset]):\n",
        "        acc += pow(2,offset)\n",
        "      offset += 1\n",
        "      return loop(acc, bn, offset)\n",
        "    else:\n",
        "      return acc\n",
        "  return loop(0, bn[::-1], 0)\n",
        "      \n",
        "\n",
        "\n",
        "def problem13():\n",
        "  binums = input(\"Enter a sequence of 4 digit binary numbers separated by comma: \\n\").split(',')\n",
        "  return ','.join(bnum for bnum in binums if binaryToDidgitap2(bnum) % 5 == 0)\n",
        "  \n",
        "def problem14():\n",
        "\n",
        "  sentence = input(\"Enter a sentence \\n \")\n",
        "  u,l = 0,0\n",
        "  for char in sentence:\n",
        "    if char.isupper():\n",
        "      u += 1\n",
        "    elif char.islower():\n",
        "      l += 1\n",
        "    else:\n",
        "      pass\n",
        "  print(f\"UPPER CASE {u}\\nLOWER CASE {l}\")\n",
        "  \n",
        "\n",
        "def problem14_recursive():\n",
        "  sentence = input(\"Enter a sentence \\n \")\n",
        "  def loop(u, l, i):\n",
        "    if i < len(sentence):\n",
        "      if sentence[i].islower():\n",
        "        l += 1\n",
        "      elif sentence[i].isupper():\n",
        "        u += 1\n",
        "      i += 1\n",
        "      return loop(u, l, i)\n",
        "    else:\n",
        "      return (u,l)\n",
        "  return loop(0, 0, 0)\n",
        "\n",
        "a = [sqrt(x) for x in range(3,30,2)]\n",
        "b = [int(pow(x,2)) for x in range(1,20,2)]\n",
        "print(f\"Example of sum: {sum(a)}\\nExample of fsum: {sum(a)}\")\n",
        "print(f\"Example of sum: {sum(b,10)}\\nExample of fsum: {sum(b)}\") \n",
        "      \n",
        "  \n",
        "\n",
        "\n",
        "\n",
        "if __name__ == '__main__':\n",
        "  import doctest\n",
        "  print(doctest.testmod())"
      ],
      "execution_count": 12,
      "outputs": [
        {
          "output_type": "stream",
          "name": "stderr",
          "text": [
            "\n",
            "PYDEV DEBUGGER WARNING:\n",
            "sys.settrace() should not be used when the debugger is being used.\n",
            "This may cause the debugger to stop working correctly.\n",
            "If this is needed, please check: \n",
            "http://pydev.blogspot.com/2007/06/why-cant-pydev-debugger-work-with.html\n",
            "to see how to restore the debug tracing back correctly.\n",
            "Call Location:\n",
            "  File \"/usr/lib/python3.7/doctest.py\", line 1487, in run\n",
            "    sys.settrace(save_trace)\n",
            "\n"
          ]
        },
        {
          "output_type": "stream",
          "name": "stdout",
          "text": [
            "Example of sum: 53.85075852542809\n",
            "Example of fsum: 53.85075852542809\n",
            "Example of sum: 1340\n",
            "Example of fsum: 1330\n",
            "TestResults(failed=0, attempted=5)\n"
          ]
        }
      ]
    },
    {
      "cell_type": "markdown",
      "metadata": {
        "id": "nRuyswWcHdhO"
      },
      "source": [
        "**7. Write a program which can compute the factorial of a given numbers. Use recursion to find it.** "
      ]
    },
    {
      "cell_type": "code",
      "metadata": {
        "id": "eoPOuDdzHxTZ",
        "colab": {
          "base_uri": "https://localhost:8080/",
          "height": 0
        },
        "outputId": "45cf29f8-b355-4f26-b90b-c84571a6bf5a"
      },
      "source": [
        "# factorial of given number \n",
        "def factorial(n): \n",
        "    if (n==1 or n==0):\n",
        "      return 1 \n",
        "    else:\n",
        "        return (n * factorial(n - 1)) \n",
        "  \n",
        "num = 5; \n",
        "print(\"number : \",num)\n",
        "print(\"Factorial : \",factorial(num))"
      ],
      "execution_count": 13,
      "outputs": [
        {
          "output_type": "stream",
          "name": "stdout",
          "text": [
            "number :  5\n",
            "Factorial :  120\n"
          ]
        }
      ]
    },
    {
      "cell_type": "markdown",
      "metadata": {
        "id": "Zrku-3UVHx_J"
      },
      "source": [
        "**8. Write a program that calculates and prints the value according to the given formula:\n",
        "Q = Square root of [(2 * C * D)/H]\n",
        "Following are the fixed values of C and H: C is 50. H is 30. D is the variable whose values should be input to your program in a comma\u0002separated sequence.** "
      ]
    },
    {
      "cell_type": "code",
      "metadata": {
        "id": "9M42nzy0H42E",
        "colab": {
          "base_uri": "https://localhost:8080/",
          "height": 0
        },
        "outputId": "64ff9dd1-808e-4798-d841-06d222e4b17e"
      },
      "source": [
        "import math\n",
        "\n",
        "numbers = input(\"Provide D: \")\n",
        "numbers = numbers.split(',')\n",
        "\n",
        "result_list = []\n",
        "for D in numbers:\n",
        "    Q = round(math.sqrt(2 * 50 * int(D) / 30))\n",
        "    result_list.append(Q)\n",
        "\n",
        "print(result_list)"
      ],
      "execution_count": 15,
      "outputs": [
        {
          "output_type": "stream",
          "name": "stdout",
          "text": [
            "Provide D: 12\n",
            "[6]\n"
          ]
        }
      ]
    },
    {
      "cell_type": "markdown",
      "metadata": {
        "id": "K9QhPeZeH9XY"
      },
      "source": [
        "**9. Write a program which takes 2 digits, X,Y as input and generates a 2-dimensional \n",
        "array. The element value in the i-th row and j-th column of the array should be i*j.\n",
        "Note: i=0,1.., X-1; j=0,1,¡-Y-1.**"
      ]
    },
    {
      "cell_type": "code",
      "metadata": {
        "id": "eUMMlYmNH-_V",
        "colab": {
          "base_uri": "https://localhost:8080/",
          "height": 0
        },
        "outputId": "05df09fb-3d1b-47ed-cd3c-a9873132830d"
      },
      "source": [
        "m=int(input(\"Row:\"))\n",
        "n=int(input(\"Column:\"))\n",
        "matrix=[[0 for col in range(n)] for row in range(m)]\n",
        "for row in range(m):\n",
        "    for col in range(n):\n",
        "        matrix[row][col]=row*col\n",
        "print(matrix)"
      ],
      "execution_count": 14,
      "outputs": [
        {
          "output_type": "stream",
          "name": "stdout",
          "text": [
            "Row:2\n",
            "Column:3\n",
            "[[0, 0, 0], [0, 1, 2]]\n"
          ]
        }
      ]
    },
    {
      "cell_type": "markdown",
      "metadata": {
        "id": "VaKgEJ5fIEwe"
      },
      "source": [
        "**10.Write a program that accepts a comma separated sequence of words as input and prints the words in a comma-separated sequence after sorting them alphabetically.**"
      ]
    },
    {
      "cell_type": "code",
      "metadata": {
        "id": "88VExmvTIHSC",
        "colab": {
          "base_uri": "https://localhost:8080/",
          "height": 0
        },
        "outputId": "e6d4c131-f578-4921-9ec9-99da827953d2"
      },
      "source": [
        "phrase = input(\"Input words: \")\n",
        "\n",
        "phrase_list = phrase.split(\",\")\n",
        "phrase_list.sort()\n",
        "print((', ').join(phrase_list))"
      ],
      "execution_count": 16,
      "outputs": [
        {
          "output_type": "stream",
          "name": "stdout",
          "text": [
            "Input words: asfj dfghj ertyu\n",
            "asfj dfghj ertyu\n"
          ]
        }
      ]
    },
    {
      "cell_type": "markdown",
      "metadata": {
        "id": "UP2_FZNKIK_e"
      },
      "source": [
        "**11.Write a program that accepts sequence of lines as input and prints the lines after making all characters in the sentence capitalized.**"
      ]
    },
    {
      "cell_type": "code",
      "metadata": {
        "id": "P6yZ28qiIN7o",
        "colab": {
          "base_uri": "https://localhost:8080/",
          "height": 0
        },
        "outputId": "3abb5933-d56d-4fa1-d3ff-42e2e67992ea"
      },
      "source": [
        "from string import *\n",
        "\n",
        "lines = []\n",
        "print(\"Enter sequence of lines: \")\n",
        "\n",
        "while True:\n",
        "\tline = input(\"> \")\n",
        "\tif not line:\n",
        "\t\tbreak\n",
        "\tlines.append(line.upper())\n",
        "\n",
        "print(lines)"
      ],
      "execution_count": 18,
      "outputs": [
        {
          "output_type": "stream",
          "name": "stdout",
          "text": [
            "Enter sequence of lines: \n",
            "> asdfghjk\n",
            "> asdf\n",
            "> end\n",
            "> break\n",
            "> >\n",
            "> \n",
            "['ASDFGHJK', 'ASDF', 'END', 'BREAK', '>']\n"
          ]
        }
      ]
    },
    {
      "cell_type": "markdown",
      "metadata": {
        "id": "S2cnvupgISzy"
      },
      "source": [
        "**12.Write a program that accepts a sequence of whitespace separated words as input \n",
        "and prints the words after removing all duplicate words and sorting them alphanumerically.**"
      ]
    },
    {
      "cell_type": "code",
      "metadata": {
        "id": "ZETFwi0wIVzU",
        "colab": {
          "base_uri": "https://localhost:8080/",
          "height": 0
        },
        "outputId": "7d214c65-0346-4017-849d-ea2cadcff6e7"
      },
      "source": [
        "word = input().split()\n",
        "\n",
        "for i in word:\n",
        "    if word.count(i) > 1:  \n",
        "        word.remove(i)    \n",
        "\n",
        "word.sort()\n",
        "print(\" \".join(word))"
      ],
      "execution_count": 19,
      "outputs": [
        {
          "output_type": "stream",
          "name": "stdout",
          "text": [
            "asdfgh werty\n",
            "asdfgh werty\n"
          ]
        }
      ]
    },
    {
      "cell_type": "markdown",
      "metadata": {
        "id": "SJmjHAkNIYn2"
      },
      "source": [
        "**13.Write a program which accepts a sequence of comma separated 4 digit binary numbers as its input and then check whether they are divisible by 5 or not. The numbers that are divisible by 5 are to be printed in a comma separated sequence.**"
      ]
    },
    {
      "cell_type": "code",
      "metadata": {
        "id": "M1miCBDdIb2h",
        "colab": {
          "base_uri": "https://localhost:8080/",
          "height": 0
        },
        "outputId": "1e28e6c4-bda3-4208-d494-1a366148e1d3"
      },
      "source": [
        "value = []\n",
        "items=[x for x in input().split(',')]\n",
        "for p in items:\n",
        "    intp = int(p, 2)\n",
        "    if not intp%5:\n",
        "        value.append(p)\n",
        "\n",
        "print(','.join(value))"
      ],
      "execution_count": 23,
      "outputs": [
        {
          "output_type": "stream",
          "name": "stdout",
          "text": [
            "0100,0011,1010,1001\n",
            "1010\n"
          ]
        }
      ]
    },
    {
      "cell_type": "markdown",
      "metadata": {
        "id": "1sW0LARLId21"
      },
      "source": [
        "**14.Write a program that accepts a sentence and calculate the number of upper case \n",
        "letters and lower case letters.**"
      ]
    },
    {
      "cell_type": "code",
      "metadata": {
        "id": "a0r2W_HYIhwe",
        "colab": {
          "base_uri": "https://localhost:8080/",
          "height": 0
        },
        "outputId": "5f1baf5b-0551-4717-9b93-5b4f5bbd69dc"
      },
      "source": [
        "phrase = input(\"Type in: \")\n",
        "phrase = list(phrase)\n",
        "\n",
        "u, l = 0, 0\n",
        "for i in phrase:\n",
        "    if i.isupper():\n",
        "        u = u + 1\n",
        "    if i.islower():\n",
        "        l = l + 1\n",
        "    else:\n",
        "        pass\n",
        "\n",
        "print(\"UPPER:\", u)\n",
        "print(\"lower:\", l)"
      ],
      "execution_count": 25,
      "outputs": [
        {
          "output_type": "stream",
          "name": "stdout",
          "text": [
            "Type in: Manish Kumar ASDFG\n",
            "UPPER: 7\n",
            "lower: 9\n"
          ]
        }
      ]
    },
    {
      "cell_type": "markdown",
      "metadata": {
        "id": "ov_lx9GWIibP"
      },
      "source": [
        "**15. Give example of fsum and sum function of math library.**"
      ]
    },
    {
      "cell_type": "code",
      "metadata": {
        "id": "P40yGxnrIlP1",
        "colab": {
          "base_uri": "https://localhost:8080/",
          "height": 0
        },
        "outputId": "58d5d5f6-4a26-4f45-ac9c-d5d2aee778f4"
      },
      "source": [
        "# Give example of fsum and sum function of math library\n",
        "import math\n",
        "list1=[1,2,3,4,5,6,7,8,9]\n",
        "print(sum(list1))\n",
        "\n",
        "# range(10)\n",
        "print(math.fsum(range(10)))\n",
        "print(sum(range(10)))\n",
        "\n",
        "# Integer list\n",
        "arr = [1, 4, 6]\n",
        "print(math.fsum(arr))\n",
        "\n",
        "# Floating point list\n",
        "arr = [1.5, 2.4, 3.05]\n",
        "print(math.fsum(arr))"
      ],
      "execution_count": 28,
      "outputs": [
        {
          "output_type": "stream",
          "name": "stdout",
          "text": [
            "45\n",
            "45.0\n",
            "45\n",
            "11.0\n",
            "6.949999999999999\n"
          ]
        }
      ]
    },
    {
      "cell_type": "code",
      "metadata": {
        "id": "YpNayqUDOlMd"
      },
      "source": [
        ""
      ],
      "execution_count": null,
      "outputs": []
    }
  ]
}
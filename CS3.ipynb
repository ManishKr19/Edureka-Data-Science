{
  "nbformat": 4,
  "nbformat_minor": 0,
  "metadata": {
    "kernelspec": {
      "display_name": "Python 3",
      "language": "python",
      "name": "python3"
    },
    "language_info": {
      "codemirror_mode": {
        "name": "ipython",
        "version": 3
      },
      "file_extension": ".py",
      "mimetype": "text/x-python",
      "name": "python",
      "nbconvert_exporter": "python",
      "pygments_lexer": "ipython3",
      "version": "3.6.5"
    },
    "colab": {
      "name": "CS3.ipynb",
      "provenance": [],
      "collapsed_sections": [],
      "include_colab_link": true
    }
  },
  "cells": [
    {
      "cell_type": "markdown",
      "metadata": {
        "id": "view-in-github",
        "colab_type": "text"
      },
      "source": [
        "<a href=\"https://colab.research.google.com/github/ManishKr19/Edureka-Data-Science/blob/main/CS3.ipynb\" target=\"_parent\"><img src=\"https://colab.research.google.com/assets/colab-badge.svg\" alt=\"Open In Colab\"/></a>"
      ]
    },
    {
      "cell_type": "code",
      "metadata": {
        "id": "YvbX7Qbm2_QQ"
      },
      "source": [
        "# Importing libraries\n",
        "import numpy as np\n",
        "import pandas as pd\n",
        "import matplotlib.pyplot as plt\n",
        "plt.rcParams['axes.labelsize'] = 14\n",
        "plt.rcParams['xtick.labelsize'] = 12\n",
        "plt.rcParams['ytick.labelsize'] = 12\n",
        "# to make this notebook's output stable across runs\n",
        "np.random.seed(42)"
      ],
      "execution_count": 1,
      "outputs": []
    },
    {
      "cell_type": "code",
      "metadata": {
        "id": "NuhBxXGI2_QS"
      },
      "source": [
        "# Loading dataset\n",
        "loan = pd.read_csv(r\"/content/loan_borowwer_data.csv\")"
      ],
      "execution_count": 2,
      "outputs": []
    },
    {
      "cell_type": "code",
      "metadata": {
        "colab": {
          "base_uri": "https://localhost:8080/"
        },
        "id": "UY-7UntU2_QT",
        "outputId": "13f34c6d-b78a-47f9-ac16-752195ea9f7d"
      },
      "source": [
        "loan.info()"
      ],
      "execution_count": 3,
      "outputs": [
        {
          "output_type": "stream",
          "name": "stdout",
          "text": [
            "<class 'pandas.core.frame.DataFrame'>\n",
            "RangeIndex: 9578 entries, 0 to 9577\n",
            "Data columns (total 14 columns):\n",
            " #   Column             Non-Null Count  Dtype  \n",
            "---  ------             --------------  -----  \n",
            " 0   credit.policy      9578 non-null   int64  \n",
            " 1   purpose            9578 non-null   object \n",
            " 2   int.rate           9578 non-null   float64\n",
            " 3   installment        9578 non-null   float64\n",
            " 4   log.annual.inc     9578 non-null   float64\n",
            " 5   dti                9578 non-null   float64\n",
            " 6   fico               9578 non-null   int64  \n",
            " 7   days.with.cr.line  9578 non-null   float64\n",
            " 8   revol.bal          9578 non-null   int64  \n",
            " 9   revol.util         9578 non-null   float64\n",
            " 10  inq.last.6mths     9578 non-null   int64  \n",
            " 11  delinq.2yrs        9578 non-null   int64  \n",
            " 12  pub.rec            9578 non-null   int64  \n",
            " 13  not.fully.paid     9578 non-null   int64  \n",
            "dtypes: float64(6), int64(7), object(1)\n",
            "memory usage: 1.0+ MB\n"
          ]
        }
      ]
    },
    {
      "cell_type": "code",
      "metadata": {
        "colab": {
          "base_uri": "https://localhost:8080/",
          "height": 1000
        },
        "id": "yT1GP4xU2_QV",
        "outputId": "7cfee77d-b889-4096-8d76-e05342d719c1"
      },
      "source": [
        "%matplotlib inline\n",
        "\n",
        "loan.hist(bins=50, figsize=(20,15))"
      ],
      "execution_count": 4,
      "outputs": [
        {
          "output_type": "execute_result",
          "data": {
            "text/plain": [
              "array([[<matplotlib.axes._subplots.AxesSubplot object at 0x7f9635797dd0>,\n",
              "        <matplotlib.axes._subplots.AxesSubplot object at 0x7f962f3dae50>,\n",
              "        <matplotlib.axes._subplots.AxesSubplot object at 0x7f962f3a0510>,\n",
              "        <matplotlib.axes._subplots.AxesSubplot object at 0x7f962f355b90>],\n",
              "       [<matplotlib.axes._subplots.AxesSubplot object at 0x7f962f316250>,\n",
              "        <matplotlib.axes._subplots.AxesSubplot object at 0x7f962f2ca8d0>,\n",
              "        <matplotlib.axes._subplots.AxesSubplot object at 0x7f962f282fd0>,\n",
              "        <matplotlib.axes._subplots.AxesSubplot object at 0x7f962f2435d0>],\n",
              "       [<matplotlib.axes._subplots.AxesSubplot object at 0x7f962f243610>,\n",
              "        <matplotlib.axes._subplots.AxesSubplot object at 0x7f962f276d90>,\n",
              "        <matplotlib.axes._subplots.AxesSubplot object at 0x7f962f1ee9d0>,\n",
              "        <matplotlib.axes._subplots.AxesSubplot object at 0x7f962f19bb90>],\n",
              "       [<matplotlib.axes._subplots.AxesSubplot object at 0x7f962f165690>,\n",
              "        <matplotlib.axes._subplots.AxesSubplot object at 0x7f962f11cd10>,\n",
              "        <matplotlib.axes._subplots.AxesSubplot object at 0x7f962f0de3d0>,\n",
              "        <matplotlib.axes._subplots.AxesSubplot object at 0x7f962f091a50>]],\n",
              "      dtype=object)"
            ]
          },
          "metadata": {},
          "execution_count": 4
        },
        {
          "output_type": "display_data",
          "data": {
            "image/png": "[encoded data removed]",
            "text/plain": [
              "<Figure size 1440x1080 with 16 Axes>"
            ]
          },
          "metadata": {
            "needs_background": "light"
          }
        }
      ]
    },
    {
      "cell_type": "code",
      "metadata": {
        "id": "O-tgLUEh2_QW"
      },
      "source": [
        "#loan['credit.policy'] = loan['credit.policy'].astype('category')"
      ],
      "execution_count": 5,
      "outputs": []
    },
    {
      "cell_type": "code",
      "metadata": {
        "id": "opxHDBl22_QX"
      },
      "source": [
        "from sklearn.model_selection import StratifiedShuffleSplit\n",
        "\n",
        "split = StratifiedShuffleSplit(n_splits=1, test_size=0.2, random_state=42)\n",
        "for train_index, test_index in split.split(loan, loan['purpose']):\n",
        "    strat_train_set = loan.loc[train_index]\n",
        "    strat_test_set = loan.loc[test_index]"
      ],
      "execution_count": 6,
      "outputs": []
    },
    {
      "cell_type": "code",
      "metadata": {
        "id": "3qhI68LD2_QX"
      },
      "source": [
        "loan = strat_train_set.drop('not.fully.paid', axis=1) # drop labels for training set\n",
        "loan_labels = strat_train_set['not.fully.paid'].copy()"
      ],
      "execution_count": 7,
      "outputs": []
    },
    {
      "cell_type": "code",
      "metadata": {
        "id": "EwYN9jn62_QY"
      },
      "source": [
        "numerics = ['int16', 'int32', 'int64', 'float16', 'float32', 'float64']\n",
        "\n",
        "loan_num = loan.select_dtypes(include=numerics)"
      ],
      "execution_count": 8,
      "outputs": []
    },
    {
      "cell_type": "markdown",
      "metadata": {
        "id": "gA1k-2f12_QZ"
      },
      "source": [
        "#### There is no missing values"
      ]
    },
    {
      "cell_type": "code",
      "metadata": {
        "id": "EjvOXyga2_Qb"
      },
      "source": [
        "loan_cat = loan['purpose']"
      ],
      "execution_count": 9,
      "outputs": []
    },
    {
      "cell_type": "code",
      "metadata": {
        "colab": {
          "base_uri": "https://localhost:8080/"
        },
        "id": "s9MD7s7f2_Qb",
        "outputId": "f286030b-629c-47c0-b397-7d7f73265ae3"
      },
      "source": [
        "loan_cat.head()"
      ],
      "execution_count": 10,
      "outputs": [
        {
          "output_type": "execute_result",
          "data": {
            "text/plain": [
              "2776    debt_consolidation\n",
              "1467           credit_card\n",
              "8790      home_improvement\n",
              "163       home_improvement\n",
              "6093    debt_consolidation\n",
              "Name: purpose, dtype: object"
            ]
          },
          "metadata": {},
          "execution_count": 10
        }
      ]
    },
    {
      "cell_type": "code",
      "metadata": {
        "colab": {
          "base_uri": "https://localhost:8080/"
        },
        "id": "oTQCg-fO2_Qc",
        "outputId": "11d2c617-9b1d-4fbd-b968-1795f0c38d49"
      },
      "source": [
        "loan_cat_encoded, loan_categories = loan_cat.factorize()\n",
        "loan_cat_encoded[:10]"
      ],
      "execution_count": 11,
      "outputs": [
        {
          "output_type": "execute_result",
          "data": {
            "text/plain": [
              "array([0, 1, 2, 2, 0, 3, 4, 4, 5, 0])"
            ]
          },
          "metadata": {},
          "execution_count": 11
        }
      ]
    },
    {
      "cell_type": "code",
      "metadata": {
        "colab": {
          "base_uri": "https://localhost:8080/"
        },
        "id": "8VHkCBPK2_Qc",
        "outputId": "c5d5d7ff-742d-4d0c-f411-f30e5c36a095"
      },
      "source": [
        "loan_categories"
      ],
      "execution_count": 12,
      "outputs": [
        {
          "output_type": "execute_result",
          "data": {
            "text/plain": [
              "Index(['debt_consolidation', 'credit_card', 'home_improvement', 'educational',\n",
              "       'small_business', 'all_other', 'major_purchase'],\n",
              "      dtype='object')"
            ]
          },
          "metadata": {},
          "execution_count": 12
        }
      ]
    },
    {
      "cell_type": "markdown",
      "metadata": {
        "id": "q3COUpyO2_Qd"
      },
      "source": [
        "**Warning**: earlier versions of the book used the `LabelEncoder` class instead of Pandas' `factorize()` method. This was incorrect: indeed, as its name suggests, the `LabelEncoder` class was designed for labels, not for input features. The code worked because we were handling a single categorical input feature, but it would break if you passed multiple categorical input features."
      ]
    },
    {
      "cell_type": "markdown",
      "metadata": {
        "id": "dL7wWeH72_Qd"
      },
      "source": [
        "We can convert each categorical value to a one-hot vector using a `OneHotEncoder`:"
      ]
    },
    {
      "cell_type": "code",
      "metadata": {
        "colab": {
          "base_uri": "https://localhost:8080/"
        },
        "id": "IR3V1Bax2_Qd",
        "outputId": "c03c2c27-35f0-4a8b-9388-4585a8443456"
      },
      "source": [
        "from sklearn.preprocessing import OneHotEncoder\n",
        "\n",
        "encoder = OneHotEncoder()\n",
        "loan_cat_1hot = encoder.fit_transform(loan_cat_encoded.reshape(-1,1))\n",
        "loan_cat_1hot"
      ],
      "execution_count": 13,
      "outputs": [
        {
          "output_type": "execute_result",
          "data": {
            "text/plain": [
              "<7662x7 sparse matrix of type '<class 'numpy.float64'>'\n",
              "\twith 7662 stored elements in Compressed Sparse Row format>"
            ]
          },
          "metadata": {},
          "execution_count": 13
        }
      ]
    },
    {
      "cell_type": "markdown",
      "metadata": {
        "id": "mWxXd9A42_Qe"
      },
      "source": [
        "The OneHotEncoder returns a sparse array by default, but we can convert it to a dense array if needed:"
      ]
    },
    {
      "cell_type": "code",
      "metadata": {
        "colab": {
          "base_uri": "https://localhost:8080/"
        },
        "id": "f7flFhxx2_Qe",
        "outputId": "bf7c1bc8-29a5-47cc-c41c-134975cacffc"
      },
      "source": [
        "loan_cat_1hot.toarray()"
      ],
      "execution_count": 14,
      "outputs": [
        {
          "output_type": "execute_result",
          "data": {
            "text/plain": [
              "array([[1., 0., 0., ..., 0., 0., 0.],\n",
              "       [0., 1., 0., ..., 0., 0., 0.],\n",
              "       [0., 0., 1., ..., 0., 0., 0.],\n",
              "       ...,\n",
              "       [0., 0., 1., ..., 0., 0., 0.],\n",
              "       [1., 0., 0., ..., 0., 0., 0.],\n",
              "       [0., 0., 1., ..., 0., 0., 0.]])"
            ]
          },
          "metadata": {},
          "execution_count": 14
        }
      ]
    },
    {
      "cell_type": "markdown",
      "metadata": {
        "id": "-RuH38Ux2_Qf"
      },
      "source": [
        "<b><font color = \"red\">feature </font></b>is <i>input</i>; <b><font color = \"red\">label </font></b> is <i>output</i>.\n",
        "\n",
        "A feature is one column of the data in your input set. For instance, if you're trying to predict the type of pet someone will choose, your input features might include age, home region, family income, etc. The label is the final choice, such as dog, fish, iguana, rock, etc.\n",
        "\n",
        "Once you've trained your model, you will give it sets of new input containing those features; it will return the predicted \"label\" (pet type) for that person."
      ]
    },
    {
      "cell_type": "code",
      "metadata": {
        "colab": {
          "base_uri": "https://localhost:8080/",
          "height": 34
        },
        "id": "aZoSiyC42_Qf",
        "outputId": "ecc9a9a0-395b-4faf-9bde-292ee58a51bf"
      },
      "source": [
        "'''\n",
        "import category_encoders as ce\n",
        "encoder = ce.OneHotEncoder()\n",
        "loan_cat_1hot = encoder.fit_transform(loan_cat_encoded)\n",
        "'''"
      ],
      "execution_count": 15,
      "outputs": [
        {
          "output_type": "execute_result",
          "data": {
            "application/vnd.google.colaboratory.intrinsic+json": {
              "type": "string"
            },
            "text/plain": [
              "'\\nimport category_encoders as ce\\nencoder = ce.OneHotEncoder()\\nloan_cat_1hot = encoder.fit_transform(loan_cat_encoded)\\n'"
            ]
          },
          "metadata": {},
          "execution_count": 15
        }
      ]
    },
    {
      "cell_type": "code",
      "metadata": {
        "colab": {
          "base_uri": "https://localhost:8080/"
        },
        "id": "YXo_Mts75--d",
        "outputId": "9cc61e1c-c27c-4d5e-f049-4de0a41a5b59"
      },
      "source": [
        "!pip install category_encoders"
      ],
      "execution_count": 17,
      "outputs": [
        {
          "output_type": "stream",
          "name": "stdout",
          "text": [
            "Collecting category_encoders\n",
            "  Downloading category_encoders-2.3.0-py2.py3-none-any.whl (82 kB)\n",
            "\u001b[?25l\r\u001b[K     |████                            | 10 kB 22.3 MB/s eta 0:00:01\r\u001b[K     |████████                        | 20 kB 28.5 MB/s eta 0:00:01\r\u001b[K     |████████████                    | 30 kB 14.6 MB/s eta 0:00:01\r\u001b[K     |████████████████                | 40 kB 10.8 MB/s eta 0:00:01\r\u001b[K     |████████████████████            | 51 kB 8.5 MB/s eta 0:00:01\r\u001b[K     |████████████████████████        | 61 kB 8.4 MB/s eta 0:00:01\r\u001b[K     |████████████████████████████    | 71 kB 6.9 MB/s eta 0:00:01\r\u001b[K     |███████████████████████████████▉| 81 kB 7.7 MB/s eta 0:00:01\r\u001b[K     |████████████████████████████████| 82 kB 395 kB/s \n",
            "\u001b[?25hRequirement already satisfied: pandas>=0.21.1 in /usr/local/lib/python3.7/dist-packages (from category_encoders) (1.1.5)\n",
            "Requirement already satisfied: scipy>=1.0.0 in /usr/local/lib/python3.7/dist-packages (from category_encoders) (1.4.1)\n",
            "Requirement already satisfied: numpy>=1.14.0 in /usr/local/lib/python3.7/dist-packages (from category_encoders) (1.19.5)\n",
            "Requirement already satisfied: patsy>=0.5.1 in /usr/local/lib/python3.7/dist-packages (from category_encoders) (0.5.2)\n",
            "Requirement already satisfied: statsmodels>=0.9.0 in /usr/local/lib/python3.7/dist-packages (from category_encoders) (0.10.2)\n",
            "Requirement already satisfied: scikit-learn>=0.20.0 in /usr/local/lib/python3.7/dist-packages (from category_encoders) (0.22.2.post1)\n",
            "Requirement already satisfied: pytz>=2017.2 in /usr/local/lib/python3.7/dist-packages (from pandas>=0.21.1->category_encoders) (2018.9)\n",
            "Requirement already satisfied: python-dateutil>=2.7.3 in /usr/local/lib/python3.7/dist-packages (from pandas>=0.21.1->category_encoders) (2.8.2)\n",
            "Requirement already satisfied: six in /usr/local/lib/python3.7/dist-packages (from patsy>=0.5.1->category_encoders) (1.15.0)\n",
            "Requirement already satisfied: joblib>=0.11 in /usr/local/lib/python3.7/dist-packages (from scikit-learn>=0.20.0->category_encoders) (1.0.1)\n",
            "Installing collected packages: category-encoders\n",
            "Successfully installed category-encoders-2.3.0\n"
          ]
        }
      ]
    },
    {
      "cell_type": "code",
      "metadata": {
        "colab": {
          "base_uri": "https://localhost:8080/",
          "height": 424
        },
        "id": "b1f-mJtl2_Qg",
        "outputId": "415b0580-31d4-4095-8820-6979862f6819"
      },
      "source": [
        "# We can escape factorize method using CategoricalEncoder\n",
        "import category_encoders as ce\n",
        "cat_encoder = ce.BinaryEncoder()\n",
        "loan_cat_reshaped = loan_cat.values.reshape(-1, 1)\n",
        "loan_cat_1hot = cat_encoder.fit_transform(loan_cat_reshaped)\n",
        "loan_cat_1hot"
      ],
      "execution_count": 21,
      "outputs": [
        {
          "output_type": "execute_result",
          "data": {
            "text/html": [
              "<div>\n",
              "<style scoped>\n",
              "    .dataframe tbody tr th:only-of-type {\n",
              "        vertical-align: middle;\n",
              "    }\n",
              "\n",
              "    .dataframe tbody tr th {\n",
              "        vertical-align: top;\n",
              "    }\n",
              "\n",
              "    .dataframe thead th {\n",
              "        text-align: right;\n",
              "    }\n",
              "</style>\n",
              "<table border=\"1\" class=\"dataframe\">\n",
              "  <thead>\n",
              "    <tr style=\"text-align: right;\">\n",
              "      <th></th>\n",
              "      <th>0_0</th>\n",
              "      <th>0_1</th>\n",
              "      <th>0_2</th>\n",
              "    </tr>\n",
              "  </thead>\n",
              "  <tbody>\n",
              "    <tr>\n",
              "      <th>0</th>\n",
              "      <td>0</td>\n",
              "      <td>0</td>\n",
              "      <td>1</td>\n",
              "    </tr>\n",
              "    <tr>\n",
              "      <th>1</th>\n",
              "      <td>0</td>\n",
              "      <td>1</td>\n",
              "      <td>0</td>\n",
              "    </tr>\n",
              "    <tr>\n",
              "      <th>2</th>\n",
              "      <td>0</td>\n",
              "      <td>1</td>\n",
              "      <td>1</td>\n",
              "    </tr>\n",
              "    <tr>\n",
              "      <th>3</th>\n",
              "      <td>0</td>\n",
              "      <td>1</td>\n",
              "      <td>1</td>\n",
              "    </tr>\n",
              "    <tr>\n",
              "      <th>4</th>\n",
              "      <td>0</td>\n",
              "      <td>0</td>\n",
              "      <td>1</td>\n",
              "    </tr>\n",
              "    <tr>\n",
              "      <th>...</th>\n",
              "      <td>...</td>\n",
              "      <td>...</td>\n",
              "      <td>...</td>\n",
              "    </tr>\n",
              "    <tr>\n",
              "      <th>7657</th>\n",
              "      <td>1</td>\n",
              "      <td>1</td>\n",
              "      <td>0</td>\n",
              "    </tr>\n",
              "    <tr>\n",
              "      <th>7658</th>\n",
              "      <td>0</td>\n",
              "      <td>1</td>\n",
              "      <td>0</td>\n",
              "    </tr>\n",
              "    <tr>\n",
              "      <th>7659</th>\n",
              "      <td>0</td>\n",
              "      <td>1</td>\n",
              "      <td>1</td>\n",
              "    </tr>\n",
              "    <tr>\n",
              "      <th>7660</th>\n",
              "      <td>0</td>\n",
              "      <td>0</td>\n",
              "      <td>1</td>\n",
              "    </tr>\n",
              "    <tr>\n",
              "      <th>7661</th>\n",
              "      <td>0</td>\n",
              "      <td>1</td>\n",
              "      <td>1</td>\n",
              "    </tr>\n",
              "  </tbody>\n",
              "</table>\n",
              "<p>7662 rows × 3 columns</p>\n",
              "</div>"
            ],
            "text/plain": [
              "      0_0  0_1  0_2\n",
              "0       0    0    1\n",
              "1       0    1    0\n",
              "2       0    1    1\n",
              "3       0    1    1\n",
              "4       0    0    1\n",
              "...   ...  ...  ...\n",
              "7657    1    1    0\n",
              "7658    0    1    0\n",
              "7659    0    1    1\n",
              "7660    0    0    1\n",
              "7661    0    1    1\n",
              "\n",
              "[7662 rows x 3 columns]"
            ]
          },
          "metadata": {},
          "execution_count": 21
        }
      ]
    },
    {
      "cell_type": "code",
      "metadata": {
        "colab": {
          "base_uri": "https://localhost:8080/"
        },
        "id": "dfikBiX92_Qh",
        "outputId": "69d2c1e4-6144-44b2-c84d-f27233ae264e"
      },
      "source": [
        "loan.info()"
      ],
      "execution_count": 29,
      "outputs": [
        {
          "output_type": "stream",
          "name": "stdout",
          "text": [
            "<class 'pandas.core.frame.DataFrame'>\n",
            "Int64Index: 7662 entries, 2776 to 1431\n",
            "Data columns (total 13 columns):\n",
            " #   Column             Non-Null Count  Dtype  \n",
            "---  ------             --------------  -----  \n",
            " 0   credit.policy      7662 non-null   int64  \n",
            " 1   purpose            7662 non-null   object \n",
            " 2   int.rate           7662 non-null   float64\n",
            " 3   installment        7662 non-null   float64\n",
            " 4   log.annual.inc     7662 non-null   float64\n",
            " 5   dti                7662 non-null   float64\n",
            " 6   fico               7662 non-null   int64  \n",
            " 7   days.with.cr.line  7662 non-null   float64\n",
            " 8   revol.bal          7662 non-null   int64  \n",
            " 9   revol.util         7662 non-null   float64\n",
            " 10  inq.last.6mths     7662 non-null   int64  \n",
            " 11  delinq.2yrs        7662 non-null   int64  \n",
            " 12  pub.rec            7662 non-null   int64  \n",
            "dtypes: float64(6), int64(6), object(1)\n",
            "memory usage: 838.0+ KB\n"
          ]
        }
      ]
    },
    {
      "cell_type": "code",
      "metadata": {
        "id": "AO-SRvV52_Qh"
      },
      "source": [
        "from sklearn.pipeline import Pipeline\n",
        "from sklearn.preprocessing import StandardScaler\n",
        "num_pipeline = Pipeline([\n",
        "    ('std_scaler', StandardScaler()),\n",
        "])"
      ],
      "execution_count": 30,
      "outputs": []
    },
    {
      "cell_type": "code",
      "metadata": {
        "id": "egiU1jc72_Qi"
      },
      "source": [
        "loan_num_tr = num_pipeline.fit_transform(loan_num)"
      ],
      "execution_count": 31,
      "outputs": []
    },
    {
      "cell_type": "code",
      "metadata": {
        "id": "mTGk3eJY2_Qi"
      },
      "source": [
        "from sklearn.base import BaseEstimator, TransformerMixin\n",
        "\n",
        "class DataFrameSelector(BaseEstimator, TransformerMixin):\n",
        "    def __init__(self, attribute_names):\n",
        "        self.attribute_names = attribute_names\n",
        "    def fit(self, X, y=None):\n",
        "        return self\n",
        "    def transform(self, X):\n",
        "        return X[self.attribute_names].values"
      ],
      "execution_count": 32,
      "outputs": []
    },
    {
      "cell_type": "code",
      "metadata": {
        "id": "tcP5hiU22_Qi"
      },
      "source": [
        "num_attribs = list(loan_num.columns)\n",
        "cat_attribs = ['purpose']"
      ],
      "execution_count": 33,
      "outputs": []
    },
    {
      "cell_type": "code",
      "metadata": {
        "colab": {
          "base_uri": "https://localhost:8080/",
          "height": 217
        },
        "id": "RZLw2htw2_Qi",
        "outputId": "0775887a-4f4d-462e-9b34-44583f93fe15"
      },
      "source": [
        "num_pipeline = Pipeline([\n",
        "        ('selector', DataFrameSelector(num_attribs)),\n",
        "        ('std_scaler', StandardScaler()),\n",
        "    ])\n",
        "\n",
        "cat_pipeline = Pipeline([\n",
        "        ('selector', DataFrameSelector(cat_attribs)),\n",
        "        ('cat_encoder', TargetEncoder(encoding=\"onehot-dense\")),\n",
        "    ])"
      ],
      "execution_count": 38,
      "outputs": [
        {
          "output_type": "error",
          "ename": "NameError",
          "evalue": "ignored",
          "traceback": [
            "\u001b[0;31m---------------------------------------------------------------------------\u001b[0m",
            "\u001b[0;31mNameError\u001b[0m                                 Traceback (most recent call last)",
            "\u001b[0;32m<ipython-input-38-7ecdc4c7db7d>\u001b[0m in \u001b[0;36m<module>\u001b[0;34m()\u001b[0m\n\u001b[1;32m      6\u001b[0m cat_pipeline = Pipeline([\n\u001b[1;32m      7\u001b[0m         \u001b[0;34m(\u001b[0m\u001b[0;34m'selector'\u001b[0m\u001b[0;34m,\u001b[0m \u001b[0mDataFrameSelector\u001b[0m\u001b[0;34m(\u001b[0m\u001b[0mcat_attribs\u001b[0m\u001b[0;34m)\u001b[0m\u001b[0;34m)\u001b[0m\u001b[0;34m,\u001b[0m\u001b[0;34m\u001b[0m\u001b[0;34m\u001b[0m\u001b[0m\n\u001b[0;32m----> 8\u001b[0;31m         \u001b[0;34m(\u001b[0m\u001b[0;34m'cat_encoder'\u001b[0m\u001b[0;34m,\u001b[0m \u001b[0mTargetEncoder\u001b[0m\u001b[0;34m(\u001b[0m\u001b[0mencoding\u001b[0m\u001b[0;34m=\u001b[0m\u001b[0;34m\"onehot-dense\"\u001b[0m\u001b[0;34m)\u001b[0m\u001b[0;34m)\u001b[0m\u001b[0;34m,\u001b[0m\u001b[0;34m\u001b[0m\u001b[0;34m\u001b[0m\u001b[0m\n\u001b[0m\u001b[1;32m      9\u001b[0m     ])\n",
            "\u001b[0;31mNameError\u001b[0m: name 'TargetEncoder' is not defined"
          ]
        }
      ]
    },
    {
      "cell_type": "code",
      "metadata": {
        "colab": {
          "base_uri": "https://localhost:8080/",
          "height": 217
        },
        "id": "vyu10Cka2_Qi",
        "outputId": "4283e82a-3e6d-42ea-e368-5e9de3a6b8ab"
      },
      "source": [
        "from sklearn.pipeline import FeatureUnion\n",
        "\n",
        "full_pipeline = FeatureUnion(transformer_list=[\n",
        "        (\"num_pipeline\", num_pipeline),\n",
        "        (\"cat_pipeline\", cat_pipeline),\n",
        "    ])"
      ],
      "execution_count": 35,
      "outputs": [
        {
          "output_type": "error",
          "ename": "NameError",
          "evalue": "ignored",
          "traceback": [
            "\u001b[0;31m---------------------------------------------------------------------------\u001b[0m",
            "\u001b[0;31mNameError\u001b[0m                                 Traceback (most recent call last)",
            "\u001b[0;32m<ipython-input-35-1b674da33092>\u001b[0m in \u001b[0;36m<module>\u001b[0;34m()\u001b[0m\n\u001b[1;32m      3\u001b[0m full_pipeline = FeatureUnion(transformer_list=[\n\u001b[1;32m      4\u001b[0m         \u001b[0;34m(\u001b[0m\u001b[0;34m\"num_pipeline\"\u001b[0m\u001b[0;34m,\u001b[0m \u001b[0mnum_pipeline\u001b[0m\u001b[0;34m)\u001b[0m\u001b[0;34m,\u001b[0m\u001b[0;34m\u001b[0m\u001b[0;34m\u001b[0m\u001b[0m\n\u001b[0;32m----> 5\u001b[0;31m         \u001b[0;34m(\u001b[0m\u001b[0;34m\"cat_pipeline\"\u001b[0m\u001b[0;34m,\u001b[0m \u001b[0mcat_pipeline\u001b[0m\u001b[0;34m)\u001b[0m\u001b[0;34m,\u001b[0m\u001b[0;34m\u001b[0m\u001b[0;34m\u001b[0m\u001b[0m\n\u001b[0m\u001b[1;32m      6\u001b[0m     ])\n",
            "\u001b[0;31mNameError\u001b[0m: name 'cat_pipeline' is not defined"
          ]
        }
      ]
    },
    {
      "cell_type": "code",
      "metadata": {
        "id": "wlxI54tS2_Qj"
      },
      "source": [
        "loan_prepared = full_pipeline.fit_transform(loan)\n",
        "loan_prepared.shape"
      ],
      "execution_count": null,
      "outputs": []
    },
    {
      "cell_type": "code",
      "metadata": {
        "id": "fIpHYC8G2_Qj"
      },
      "source": [
        "from sklearn.model_selection import cross_val_score, cross_val_predict\n",
        "from sklearn.metrics import precision_score, recall_score, f1_score\n",
        "def scores(classifier, X_train, y_train):\n",
        "    cvs = cross_val_score(classifier, X_train, y_train, cv=3, scoring=\"accuracy\")\n",
        "    print(f\"cross_val_score: {cvs}\")\n",
        "    y_train_pred = cross_val_predict(classifier, X_train, y_train, cv=3)\n",
        "    precission = precision_score(y_train, y_train_pred)\n",
        "    recall = recall_score(y_train, y_train_pred)\n",
        "    f1 = f1_score(y_train, y_train_pred)\n",
        "    print(f\"Precission: {precission} \\nRecall: {recall} \\nF1 Score: {f1}\")\n",
        "classification_scores = lambda classifier: scores(classifier, loan_prepared, loan_labels)"
      ],
      "execution_count": null,
      "outputs": []
    },
    {
      "cell_type": "code",
      "metadata": {
        "id": "q-2CbxKr2_Qj"
      },
      "source": [
        "from sklearn.linear_model.stochastic_gradient import SGDClassifier\n",
        "classifier = SGDClassifier(random_state=42, max_iter=11)\n",
        "classification_scores(classifier)"
      ],
      "execution_count": null,
      "outputs": []
    },
    {
      "cell_type": "code",
      "metadata": {
        "id": "aXcTxpB52_Qj"
      },
      "source": [
        "from sklearn.tree import DecisionTreeClassifier\n",
        "classifier = DecisionTreeClassifier()\n",
        "classification_scores(classifier)"
      ],
      "execution_count": null,
      "outputs": []
    },
    {
      "cell_type": "code",
      "metadata": {
        "id": "qiLpe0eW2_Qk"
      },
      "source": [
        "from sklearn.ensemble import RandomForestClassifier\n",
        "classifier = RandomForestClassifier()\n",
        "classification_scores(classifier)"
      ],
      "execution_count": null,
      "outputs": []
    },
    {
      "cell_type": "code",
      "metadata": {
        "id": "E0kmogcO2_Qk"
      },
      "source": [
        "from sklearn.neighbors import KNeighborsClassifier\n",
        "classifier = KNeighborsClassifier()\n",
        "classification_scores(classifier)"
      ],
      "execution_count": null,
      "outputs": []
    },
    {
      "cell_type": "code",
      "metadata": {
        "id": "BTWU-UWg2_Qk"
      },
      "source": [
        "from sklearn.dummy import DummyClassifier\n",
        "classifier = DummyClassifier()\n",
        "classification_scores(classifier)"
      ],
      "execution_count": null,
      "outputs": []
    },
    {
      "cell_type": "code",
      "metadata": {
        "id": "_SfemgCk2_Ql"
      },
      "source": [
        "from sklearn.svm import SVC\n",
        "\n",
        "classifier = SVC()\n",
        "classification_scores(classifier)"
      ],
      "execution_count": null,
      "outputs": []
    },
    {
      "cell_type": "code",
      "metadata": {
        "id": "sHatmrKA2_Ql"
      },
      "source": [
        "from sklearn.linear_model import LogisticRegression\n",
        "\n",
        "classifier = LogisticRegression()\n",
        "classification_scores(classifier)"
      ],
      "execution_count": null,
      "outputs": []
    },
    {
      "cell_type": "markdown",
      "metadata": {
        "id": "2gnRGpCk2_Ql"
      },
      "source": [
        "### Based on F1 score, choosing DecisionTreeClassifier for our problem. "
      ]
    },
    {
      "cell_type": "code",
      "metadata": {
        "id": "BMU8V1aI2_Ql"
      },
      "source": [
        "from sklearn.metrics import accuracy_score"
      ],
      "execution_count": null,
      "outputs": []
    },
    {
      "cell_type": "code",
      "metadata": {
        "id": "jBxNV7xn2_Ql"
      },
      "source": [
        "X_test = strat_test_set.drop('not.fully.paid', axis=1) # drop labels for training set\n",
        "y_test = strat_test_set['not.fully.paid'].copy()\n",
        "X_test = full_pipeline.fit_transform(X_test)"
      ],
      "execution_count": null,
      "outputs": []
    },
    {
      "cell_type": "code",
      "metadata": {
        "id": "UCkWoCIG2_Qm"
      },
      "source": [
        "classifier = DecisionTreeClassifier()\n",
        "classifier.fit(loan_prepared, loan_labels)\n",
        "y_pred = classifier.predict(X_test)\n",
        "accuracy = accuracy_score(y_pred,y_test)\n",
        "print(accuracy)"
      ],
      "execution_count": null,
      "outputs": []
    },
    {
      "cell_type": "markdown",
      "metadata": {
        "id": "iGYGSnNY2_Qm"
      },
      "source": [
        "### Let's try with 2nd best classifier"
      ]
    },
    {
      "cell_type": "code",
      "metadata": {
        "id": "PvcGwKCM2_Qm"
      },
      "source": [
        "classifier = SGDClassifier(random_state=42, max_iter=11)\n",
        "classifier.fit(loan_prepared, loan_labels)\n",
        "y_pred = classifier.predict(X_test)\n",
        "accuracy = accuracy_score(y_pred,y_test)\n",
        "print(accuracy)"
      ],
      "execution_count": null,
      "outputs": []
    },
    {
      "cell_type": "markdown",
      "metadata": {
        "id": "Bh-K6hwZ2_Qm"
      },
      "source": [
        "### Strange, SGD prediction is better than DecisionTreeClassifier. Let's try for Random Forest"
      ]
    },
    {
      "cell_type": "code",
      "metadata": {
        "id": "c0dp4WUJ2_Qm"
      },
      "source": [
        "classifier = RandomForestClassifier()\n",
        "classifier.fit(loan_prepared, loan_labels)\n",
        "y_pred = classifier.predict(X_test)\n",
        "accuracy = accuracy_score(y_pred,y_test)\n",
        "print(accuracy)"
      ],
      "execution_count": null,
      "outputs": []
    },
    {
      "cell_type": "code",
      "metadata": {
        "id": "qrASH43D2_Qm"
      },
      "source": [
        "classifier = SVC()\n",
        "classifier.fit(loan_prepared, loan_labels)\n",
        "y_pred = classifier.predict(X_test)\n",
        "accuracy = accuracy_score(y_pred,y_test)\n",
        "print(accuracy)"
      ],
      "execution_count": null,
      "outputs": []
    },
    {
      "cell_type": "markdown",
      "metadata": {
        "id": "U9VUlstI2_Qn"
      },
      "source": [
        "### I think, I would need more data for classification. "
      ]
    },
    {
      "cell_type": "code",
      "metadata": {
        "id": "UcoswNe52_Qn"
      },
      "source": [
        ""
      ],
      "execution_count": null,
      "outputs": []
    }
  ]
}